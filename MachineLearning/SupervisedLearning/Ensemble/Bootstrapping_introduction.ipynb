{
 "cells": [
  {
   "cell_type": "code",
   "execution_count": 1,
   "metadata": {},
   "outputs": [
    {
     "name": "stdout",
     "output_type": "stream",
     "text": [
      "Train_data -> [80, 90, 50, 10, 80, 40, 60, 70, 70, 90]   Test_data -> [ 20  30 100]\n",
      "Train_data -> [80, 60, 100, 100, 90, 80, 30, 30, 100, 60]   Test_data -> [10 20 40 50 70]\n",
      "Train_data -> [30, 20, 10, 70, 40, 70, 70, 30, 60, 20]   Test_data -> [ 50  80  90 100]\n",
      "Train_data -> [20, 100, 90, 60, 20, 30, 20, 60, 90, 80]   Test_data -> [10 40 50 70]\n",
      "Train_data -> [10, 50, 20, 50, 10, 80, 40, 90, 80, 10]   Test_data -> [ 30  60  70 100]\n",
      "Train_data -> [30, 10, 40, 10, 70, 50, 100, 80, 100, 40]   Test_data -> [20 60 90]\n",
      "Train_data -> [50, 70, 30, 30, 50, 80, 90, 20, 100, 40]   Test_data -> [10 60]\n",
      "Train_data -> [90, 70, 90, 60, 100, 60, 10, 80, 20, 30]   Test_data -> [40 50]\n",
      "Train_data -> [60, 40, 30, 90, 30, 50, 60, 30, 100, 10]   Test_data -> [20 70 80]\n",
      "Train_data -> [30, 90, 100, 30, 20, 60, 70, 100, 30, 40]   Test_data -> [10 50 80]\n",
      "Train_data -> [100, 60, 100, 40, 90, 80, 90, 70, 30, 50]   Test_data -> [10 20]\n",
      "Train_data -> [60, 60, 60, 70, 10, 50, 100, 80, 10, 90]   Test_data -> [20 30 40]\n",
      "Train_data -> [10, 50, 80, 100, 80, 10, 100, 30, 20, 70]   Test_data -> [40 60 90]\n",
      "Train_data -> [10, 10, 100, 30, 50, 80, 60, 30, 20, 70]   Test_data -> [40 90]\n",
      "Train_data -> [60, 30, 20, 30, 20, 70, 40, 100, 40, 10]   Test_data -> [50 80 90]\n",
      "Train_data -> [100, 60, 80, 60, 80, 80, 20, 70, 100, 10]   Test_data -> [30 40 50 90]\n",
      "Train_data -> [70, 80, 90, 30, 100, 40, 50, 40, 90, 30]   Test_data -> [10 20 60]\n",
      "Train_data -> [10, 40, 70, 60, 80, 50, 80, 60, 10, 30]   Test_data -> [ 20  90 100]\n",
      "Train_data -> [30, 30, 50, 90, 60, 20, 80, 20, 80, 90]   Test_data -> [ 10  40  70 100]\n",
      "Train_data -> [90, 80, 80, 70, 60, 60, 30, 70, 40, 60]   Test_data -> [ 10  20  50 100]\n",
      "Train_data -> [40, 40, 40, 50, 30, 70, 50, 40, 70, 30]   Test_data -> [ 10  20  60  80  90 100]\n",
      "Train_data -> [90, 10, 80, 80, 100, 70, 10, 40, 10, 10]   Test_data -> [20 30 50 60]\n",
      "Train_data -> [90, 40, 50, 30, 60, 70, 20, 60, 100, 70]   Test_data -> [10 80]\n",
      "Train_data -> [20, 50, 100, 50, 40, 20, 80, 60, 30, 50]   Test_data -> [10 70 90]\n",
      "Train_data -> [80, 90, 70, 70, 10, 50, 60, 10, 90, 90]   Test_data -> [ 20  30  40 100]\n",
      "Train_data -> [60, 10, 40, 100, 70, 30, 50, 90, 90, 100]   Test_data -> [20 80]\n",
      "Train_data -> [80, 40, 30, 100, 60, 60, 70, 10, 30, 30]   Test_data -> [20 50 90]\n",
      "Train_data -> [70, 80, 60, 40, 40, 40, 20, 30, 90, 70]   Test_data -> [ 10  50 100]\n",
      "Train_data -> [40, 10, 100, 10, 30, 80, 90, 60, 20, 20]   Test_data -> [50 70]\n",
      "Train_data -> [20, 30, 80, 40, 30, 60, 50, 20, 30, 90]   Test_data -> [ 10  70 100]\n",
      "Train_data -> [70, 60, 20, 10, 60, 10, 10, 100, 80, 60]   Test_data -> [30 40 50 90]\n",
      "Train_data -> [80, 70, 100, 60, 40, 70, 80, 50, 70, 90]   Test_data -> [10 20 30]\n",
      "Train_data -> [20, 10, 100, 80, 70, 80, 40, 70, 50, 10]   Test_data -> [30 60 90]\n",
      "Train_data -> [70, 100, 20, 20, 20, 30, 40, 90, 20, 80]   Test_data -> [10 50 60]\n",
      "Train_data -> [20, 40, 40, 60, 100, 100, 10, 80, 10, 80]   Test_data -> [30 50 70 90]\n",
      "Train_data -> [30, 20, 10, 80, 80, 30, 40, 100, 70, 50]   Test_data -> [60 90]\n",
      "Train_data -> [40, 90, 20, 10, 60, 90, 90, 70, 80, 90]   Test_data -> [ 30  50 100]\n",
      "Train_data -> [30, 80, 30, 100, 70, 80, 30, 90, 10, 20]   Test_data -> [40 50 60]\n",
      "Train_data -> [80, 10, 20, 60, 50, 90, 40, 50, 50, 100]   Test_data -> [30 70]\n",
      "Train_data -> [50, 40, 20, 40, 30, 60, 10, 50, 70, 50]   Test_data -> [ 80  90 100]\n",
      "Train_data -> [40, 20, 10, 70, 100, 50, 10, 10, 100, 70]   Test_data -> [30 60 80 90]\n",
      "Train_data -> [70, 90, 90, 100, 70, 50, 90, 60, 80, 50]   Test_data -> [10 20 30 40]\n",
      "Train_data -> [100, 90, 10, 50, 100, 90, 100, 70, 20, 60]   Test_data -> [30 40 80]\n",
      "Train_data -> [70, 30, 90, 60, 60, 20, 50, 40, 80, 100]   Test_data -> [10]\n",
      "Train_data -> [60, 30, 30, 40, 20, 20, 40, 70, 30, 60]   Test_data -> [ 10  50  80  90 100]\n",
      "Train_data -> [40, 30, 100, 30, 100, 50, 40, 60, 60, 60]   Test_data -> [10 20 70 80 90]\n",
      "Train_data -> [10, 10, 20, 50, 70, 60, 50, 90, 60, 90]   Test_data -> [ 30  40  80 100]\n",
      "Train_data -> [60, 50, 90, 30, 50, 30, 40, 70, 100, 80]   Test_data -> [10 20]\n",
      "Train_data -> [80, 30, 60, 10, 30, 40, 30, 80, 10, 100]   Test_data -> [20 50 70 90]\n",
      "Train_data -> [90, 100, 30, 70, 30, 80, 70, 10, 60, 60]   Test_data -> [20 40 50]\n"
     ]
    }
   ],
   "source": [
    "from sklearn.utils import resample\n",
    "import numpy as np\n",
    "\n",
    "# load dataset\n",
    "data = [10,20,30,40,50,60,70,80,90,100]   # original data with 10 data points\n",
    "\n",
    "# configure bootstrap\n",
    "n_iterations = 50              # picking only 50 % of the given data in every bootstrap sample\n",
    "n_size = int(len(data) * 1)    # Number of bootstrap samples to create = 10\n",
    "\n",
    "# run bootstrap\n",
    "stats = list()\n",
    "for i in range(n_iterations):\n",
    "\t# prepare train and test sets\n",
    "\ttrain = resample(data, n_samples=n_size)  # Sampling with replacement \n",
    "\ttest = np.array([x for x in data if x not in train])  # picking rest of the data not considered in sample\n",
    "\tprint(\"Train_data ->\", train, \" \" , \"Test_data ->\", test)\n"
   ]
  },
  {
   "cell_type": "code",
   "execution_count": null,
   "metadata": {},
   "outputs": [],
   "source": []
  },
  {
   "cell_type": "code",
   "execution_count": null,
   "metadata": {},
   "outputs": [],
   "source": []
  }
 ],
 "metadata": {
  "kernelspec": {
   "display_name": "Python 3",
   "language": "python",
   "name": "python3"
  },
  "language_info": {
   "codemirror_mode": {
    "name": "ipython",
    "version": 3
   },
   "file_extension": ".py",
   "mimetype": "text/x-python",
   "name": "python",
   "nbconvert_exporter": "python",
   "pygments_lexer": "ipython3",
   "version": "3.8.5"
  }
 },
 "nbformat": 4,
 "nbformat_minor": 2
}
