{
  "nbformat": 4,
  "nbformat_minor": 0,
  "metadata": {
    "colab": {
      "name": "s8.2model2.ipynb",
      "provenance": [],
      "collapsed_sections": []
    },
    "kernelspec": {
      "name": "python3",
      "display_name": "Python 3"
    },
    "accelerator": "GPU"
  },
  "cells": [
    {
      "cell_type": "code",
      "metadata": {
        "colab": {
          "base_uri": "https://localhost:8080/"
        },
        "id": "Ij34fxP4X1uy",
        "outputId": "2abd5cf3-d2a1-4c9f-edd4-a48eac670b5a"
      },
      "source": [
        "from google.colab import drive\r\n",
        "drive.mount('/content/gdrive')"
      ],
      "execution_count": 1,
      "outputs": [
        {
          "output_type": "stream",
          "text": [
            "Mounted at /content/gdrive\n"
          ],
          "name": "stdout"
        }
      ]
    },
    {
      "cell_type": "code",
      "metadata": {
        "colab": {
          "base_uri": "https://localhost:8080/"
        },
        "id": "1qn9ELMBX-73",
        "outputId": "2147bd84-91d7-4e54-9b1e-b84d07b0241e"
      },
      "source": [
        "cd gdrive/"
      ],
      "execution_count": 2,
      "outputs": [
        {
          "output_type": "stream",
          "text": [
            "/content/gdrive\n"
          ],
          "name": "stdout"
        }
      ]
    },
    {
      "cell_type": "code",
      "metadata": {
        "colab": {
          "base_uri": "https://localhost:8080/"
        },
        "id": "76zjIiGIYHJD",
        "outputId": "e5dab7d4-0aac-4e0e-b24b-98f4b0ca2363"
      },
      "source": [
        "cd MyDrive/"
      ],
      "execution_count": 3,
      "outputs": [
        {
          "output_type": "stream",
          "text": [
            "/content/gdrive/MyDrive\n"
          ],
          "name": "stdout"
        }
      ]
    },
    {
      "cell_type": "code",
      "metadata": {
        "colab": {
          "base_uri": "https://localhost:8080/"
        },
        "id": "x9ebMbjRYJU6",
        "outputId": "2094d8ee-2651-4018-b4e2-6ac9f9344cde"
      },
      "source": [
        "cd END/s8"
      ],
      "execution_count": 4,
      "outputs": [
        {
          "output_type": "stream",
          "text": [
            "/content/gdrive/MyDrive/END/s8\n"
          ],
          "name": "stdout"
        }
      ]
    },
    {
      "cell_type": "code",
      "metadata": {
        "colab": {
          "base_uri": "https://localhost:8080/"
        },
        "id": "Amqb7Jrvjadu",
        "outputId": "beb4408d-b9c1-4148-e5ce-b171dd5cde03"
      },
      "source": [
        "ls"
      ],
      "execution_count": 7,
      "outputs": [
        {
          "output_type": "stream",
          "text": [
            "coqa-train-v1.0.json  LICENSE   train_light.json  tut3-model.pt\n",
            "dev_light.json        qaps.csv  tut2-model.pt\n"
          ],
          "name": "stdout"
        }
      ]
    },
    {
      "cell_type": "code",
      "metadata": {
        "id": "OtCtPAk8YLcU"
      },
      "source": [
        "import json\r\n",
        "with open('coqa-train-v1.0.json') as f:\r\n",
        "  input = json.load(f)"
      ],
      "execution_count": 8,
      "outputs": []
    },
    {
      "cell_type": "code",
      "metadata": {
        "colab": {
          "base_uri": "https://localhost:8080/"
        },
        "id": "nJj1jR0NjwlL",
        "outputId": "56e71969-ead8-4ee7-82d0-35757402d67b"
      },
      "source": [
        "input[\"data\"][0].keys()"
      ],
      "execution_count": 16,
      "outputs": [
        {
          "output_type": "execute_result",
          "data": {
            "text/plain": [
              "dict_keys(['source', 'id', 'filename', 'story', 'questions', 'answers', 'name'])"
            ]
          },
          "metadata": {
            "tags": []
          },
          "execution_count": 16
        }
      ]
    },
    {
      "cell_type": "code",
      "metadata": {
        "id": "EOW17gKykZFQ"
      },
      "source": [
        "questions,answers = [],[]\r\n",
        "\r\n",
        "for i in range(len(input)):\r\n",
        "  for j in range(len(input[\"data\"][i][\"questions\"])):\r\n",
        "    questions.append(input[\"data\"][i][\"questions\"][j][\"input_text\"])\r\n",
        "    for k in range(len(input[\"data\"][i][\"questions\"])):\r\n",
        "      if input[\"data\"][i][\"questions\"][j][\"turn_id\"]==input[\"data\"][i][\"answers\"][k][\"turn_id\"]:\r\n",
        "        answers.append(input[\"data\"][i][\"answers\"][k][\"span_text\"])\r\n"
      ],
      "execution_count": 26,
      "outputs": []
    },
    {
      "cell_type": "code",
      "metadata": {
        "id": "abrT1du5mga1"
      },
      "source": [
        ""
      ],
      "execution_count": null,
      "outputs": []
    },
    {
      "cell_type": "code",
      "metadata": {
        "colab": {
          "base_uri": "https://localhost:8080/"
        },
        "id": "XQOYQftBj9nO",
        "outputId": "5674c4ff-b179-4efb-b20a-38abe2a62b07"
      },
      "source": [
        "input[\"data\"][0][\"questions\"]"
      ],
      "execution_count": 27,
      "outputs": [
        {
          "output_type": "execute_result",
          "data": {
            "text/plain": [
              "[{'input_text': 'When was the Vat formally opened?', 'turn_id': 1},\n",
              " {'input_text': 'what is the library for?', 'turn_id': 2},\n",
              " {'input_text': 'for what subjects?', 'turn_id': 3},\n",
              " {'input_text': 'and?', 'turn_id': 4},\n",
              " {'input_text': 'what was started in 2014?', 'turn_id': 5},\n",
              " {'input_text': 'how do scholars divide the library?', 'turn_id': 6},\n",
              " {'input_text': 'how many?', 'turn_id': 7},\n",
              " {'input_text': 'what is the official name of the Vat?', 'turn_id': 8},\n",
              " {'input_text': 'where is it?', 'turn_id': 9},\n",
              " {'input_text': 'how many printed books does it contain?', 'turn_id': 10},\n",
              " {'input_text': 'when were the Secret Archives moved from the rest of the library?',\n",
              "  'turn_id': 11},\n",
              " {'input_text': 'how many items are in this secret collection?',\n",
              "  'turn_id': 12},\n",
              " {'input_text': 'Can anyone use this library?', 'turn_id': 13},\n",
              " {'input_text': 'what must be requested to view?', 'turn_id': 14},\n",
              " {'input_text': 'what must be requested in person or by mail?', 'turn_id': 15},\n",
              " {'input_text': 'of what books?', 'turn_id': 16},\n",
              " {'input_text': 'What is the Vat the library of?', 'turn_id': 17},\n",
              " {'input_text': 'How many books survived the Pre Lateran period?',\n",
              "  'turn_id': 18},\n",
              " {'input_text': 'what is the point of the project started in 2014?',\n",
              "  'turn_id': 19},\n",
              " {'input_text': 'what will this allow?', 'turn_id': 20}]"
            ]
          },
          "metadata": {
            "tags": []
          },
          "execution_count": 27
        }
      ]
    },
    {
      "cell_type": "code",
      "metadata": {
        "colab": {
          "base_uri": "https://localhost:8080/"
        },
        "id": "Cok2o_vBkFMU",
        "outputId": "342a8313-3c45-409d-8d2e-0a5a437a636c"
      },
      "source": [
        "input[\"data\"][0][\"answers\"]"
      ],
      "execution_count": 21,
      "outputs": [
        {
          "output_type": "execute_result",
          "data": {
            "text/plain": [
              "[{'input_text': 'It was formally established in 1475',\n",
              "  'span_end': 179,\n",
              "  'span_start': 151,\n",
              "  'span_text': 'Formally established in 1475',\n",
              "  'turn_id': 1},\n",
              " {'input_text': 'research',\n",
              "  'span_end': 494,\n",
              "  'span_start': 454,\n",
              "  'span_text': 'he Vatican Library is a research library',\n",
              "  'turn_id': 2},\n",
              " {'input_text': 'history, and law',\n",
              "  'span_end': 511,\n",
              "  'span_start': 457,\n",
              "  'span_text': 'Vatican Library is a research library for history, law',\n",
              "  'turn_id': 3},\n",
              " {'input_text': 'philosophy, science and theology',\n",
              "  'span_end': 545,\n",
              "  'span_start': 457,\n",
              "  'span_text': 'Vatican Library is a research library for history, law, philosophy, science and theology',\n",
              "  'turn_id': 4},\n",
              " {'input_text': 'a  project',\n",
              "  'span_end': 879,\n",
              "  'span_start': 769,\n",
              "  'span_text': 'March 2014, the Vatican Library began an initial four-year project of digitising its collection of manuscripts',\n",
              "  'turn_id': 5},\n",
              " {'input_text': 'into periods',\n",
              "  'span_end': 1127,\n",
              "  'span_start': 1048,\n",
              "  'span_text': 'Scholars have traditionally divided the history of the library into five period',\n",
              "  'turn_id': 6},\n",
              " {'input_text': 'five',\n",
              "  'span_end': 1128,\n",
              "  'span_start': 1048,\n",
              "  'span_text': 'Scholars have traditionally divided the history of the library into five periods',\n",
              "  'turn_id': 7},\n",
              " {'input_text': 'The Vatican Apostolic Library',\n",
              "  'span_end': 94,\n",
              "  'span_start': 4,\n",
              "  'span_text': 'Vatican Apostolic Library (), more commonly called the Vatican Library or simply the Vat, ',\n",
              "  'turn_id': 8},\n",
              " {'input_text': 'in Vatican City',\n",
              "  'span_end': 150,\n",
              "  'span_start': 94,\n",
              "  'span_text': 'is the library of the Holy See, located in Vatican City.',\n",
              "  'turn_id': 9},\n",
              " {'input_text': '1.1 million',\n",
              "  'span_end': 412,\n",
              "  'span_start': 328,\n",
              "  'span_text': ' It has 75,000 codices from throughout history, as well as 1.1 million printed books',\n",
              "  'turn_id': 10},\n",
              " {'input_text': 'at the beginning of the 17th century;',\n",
              "  'span_end': 1009,\n",
              "  'span_start': 917,\n",
              "  'span_text': 'atican Secret Archives were separated from the library at the beginning of the 17th century;',\n",
              "  'turn_id': 11},\n",
              " {'input_text': '150,000',\n",
              "  'span_end': 1046,\n",
              "  'span_start': 915,\n",
              "  'span_text': ' Vatican Secret Archives were separated from the library at the beginning of the 17th century; they contain another 150,000 items. ',\n",
              "  'turn_id': 12},\n",
              " {'input_text': 'anyone who can document their qualifications and research needs.',\n",
              "  'span_end': 643,\n",
              "  'span_start': 546,\n",
              "  'span_text': ' The Vatican Library is open to anyone who can document their qualifications and research needs. ',\n",
              "  'turn_id': 13},\n",
              " {'bad_turn': 'true',\n",
              "  'input_text': 'unknown',\n",
              "  'span_end': -1,\n",
              "  'span_start': -1,\n",
              "  'span_text': 'unknown',\n",
              "  'turn_id': 14},\n",
              " {'input_text': 'Photocopies',\n",
              "  'span_end': 764,\n",
              "  'span_start': 643,\n",
              "  'span_text': 'Photocopies for private study of pages from books published between 1801 and 1990 can be requested in person or by mail. ',\n",
              "  'turn_id': 15},\n",
              " {'input_text': 'only books published between 1801 and 1990',\n",
              "  'span_end': 724,\n",
              "  'span_start': 644,\n",
              "  'span_text': 'hotocopies for private study of pages from books published between 1801 and 1990',\n",
              "  'turn_id': 16},\n",
              " {'input_text': 'the Holy See',\n",
              "  'span_end': 125,\n",
              "  'span_start': 78,\n",
              "  'span_text': 'simply the Vat, is the library of the Holy See,',\n",
              "  'turn_id': 17},\n",
              " {'input_text': 'a handful of volumes',\n",
              "  'span_end': 1384,\n",
              "  'span_start': 1192,\n",
              "  'span_text': 'Pre-Lateran period, comprising the initial days of the library, dated from the earliest days of the Church. Only a handful of volumes survive from this period, though some are very significant',\n",
              "  'turn_id': 18},\n",
              " {'input_text': 'digitising manuscripts',\n",
              "  'span_end': 881,\n",
              "  'span_start': 785,\n",
              "  'span_text': 'Vatican Library began an initial four-year project of digitising its collection of manuscripts, ',\n",
              "  'turn_id': 19},\n",
              " {'input_text': 'them to be viewed online.',\n",
              "  'span_end': 910,\n",
              "  'span_start': 868,\n",
              "  'span_text': 'manuscripts, to be made available online. ',\n",
              "  'turn_id': 20}]"
            ]
          },
          "metadata": {
            "tags": []
          },
          "execution_count": 21
        }
      ]
    },
    {
      "cell_type": "code",
      "metadata": {
        "colab": {
          "base_uri": "https://localhost:8080/"
        },
        "id": "gjiNvCG3jhSj",
        "outputId": "e29bf939-5d6e-4a21-b160-8737e7c7e91e"
      },
      "source": [
        "input.keys()"
      ],
      "execution_count": 19,
      "outputs": [
        {
          "output_type": "execute_result",
          "data": {
            "text/plain": [
              "dict_keys(['version', 'data'])"
            ]
          },
          "metadata": {
            "tags": []
          },
          "execution_count": 19
        }
      ]
    },
    {
      "cell_type": "code",
      "metadata": {
        "colab": {
          "base_uri": "https://localhost:8080/"
        },
        "id": "TOLLcl2rmrc0",
        "outputId": "c136865d-3999-4e5e-cce6-e405aa6f5b9c"
      },
      "source": [
        "answers"
      ],
      "execution_count": 31,
      "outputs": [
        {
          "output_type": "execute_result",
          "data": {
            "text/plain": [
              "['Formally established in 1475',\n",
              " 'he Vatican Library is a research library',\n",
              " 'Vatican Library is a research library for history, law',\n",
              " 'Vatican Library is a research library for history, law, philosophy, science and theology',\n",
              " 'March 2014, the Vatican Library began an initial four-year project of digitising its collection of manuscripts',\n",
              " 'Scholars have traditionally divided the history of the library into five period',\n",
              " 'Scholars have traditionally divided the history of the library into five periods',\n",
              " 'Vatican Apostolic Library (), more commonly called the Vatican Library or simply the Vat, ',\n",
              " 'is the library of the Holy See, located in Vatican City.',\n",
              " ' It has 75,000 codices from throughout history, as well as 1.1 million printed books',\n",
              " 'atican Secret Archives were separated from the library at the beginning of the 17th century;',\n",
              " ' Vatican Secret Archives were separated from the library at the beginning of the 17th century; they contain another 150,000 items. ',\n",
              " ' The Vatican Library is open to anyone who can document their qualifications and research needs. ',\n",
              " 'unknown',\n",
              " 'Photocopies for private study of pages from books published between 1801 and 1990 can be requested in person or by mail. ',\n",
              " 'hotocopies for private study of pages from books published between 1801 and 1990',\n",
              " 'simply the Vat, is the library of the Holy See,',\n",
              " 'Pre-Lateran period, comprising the initial days of the library, dated from the earliest days of the Church. Only a handful of volumes survive from this period, though some are very significant',\n",
              " 'Vatican Library began an initial four-year project of digitising its collection of manuscripts, ',\n",
              " 'manuscripts, to be made available online. ',\n",
              " \"Hard Rock Cafe in New York's Times Square\",\n",
              " ' reaping a total $2 million. \\n',\n",
              " ' pre-sale expectations of only $120,000 in sales. ',\n",
              " 'Hoffman Ma, who bought the glove on behalf of Ponte 16 Resort in Macau',\n",
              " 'behalf of Ponte 16 Resort in Macau,']"
            ]
          },
          "metadata": {
            "tags": []
          },
          "execution_count": 31
        }
      ]
    },
    {
      "cell_type": "code",
      "metadata": {
        "colab": {
          "base_uri": "https://localhost:8080/"
        },
        "id": "l6yS1HFZYkLO",
        "outputId": "c73e1f55-1429-43f1-c831-91c66b6c95e7"
      },
      "source": [
        "\r\n",
        "len(answers),len(questions)"
      ],
      "execution_count": 30,
      "outputs": [
        {
          "output_type": "execute_result",
          "data": {
            "text/plain": [
              "(25, 25)"
            ]
          },
          "metadata": {
            "tags": []
          },
          "execution_count": 30
        }
      ]
    },
    {
      "cell_type": "code",
      "metadata": {
        "id": "UCRIkxH4a7td"
      },
      "source": [
        "# Import Library\r\n",
        "import random\r\n",
        "import torch, torchtext\r\n",
        "from torchtext import data \r\n",
        "\r\n",
        "SRC = data.Field( tokenize = 'spacy',init_token = '<sos>', eos_token = '<eos>', lower = True)\r\n",
        "TRG = data.Field( tokenize = 'spacy',init_token = '<sos>', eos_token = '<eos>', lower = True)\r\n",
        "fields = [('src', SRC),('trg',TRG)]"
      ],
      "execution_count": 32,
      "outputs": []
    },
    {
      "cell_type": "code",
      "metadata": {
        "id": "0IAfv0-RY0rS"
      },
      "source": [
        "\r\n",
        "# Manual Seed\r\n",
        "SEED = 43\r\n",
        "torch.manual_seed(SEED)\r\n",
        "example = [data.Example.fromlist([questions[i],answers[i]], fields) for i in range(len(answers))]\r\n",
        "ambignqlight = data.Dataset(example, fields)"
      ],
      "execution_count": 34,
      "outputs": []
    },
    {
      "cell_type": "code",
      "metadata": {
        "id": "6lGlb1WlY2uG"
      },
      "source": [
        "train_data, test_data = ambignqlight.split(split_ratio=[0.85, 0.15], random_state=random.seed(SEED))"
      ],
      "execution_count": 35,
      "outputs": []
    },
    {
      "cell_type": "code",
      "metadata": {
        "colab": {
          "base_uri": "https://localhost:8080/"
        },
        "id": "uYBClM15Y-Nr",
        "outputId": "67ea14be-d57e-4c93-e011-669a6c34008b"
      },
      "source": [
        "len(train_data),len(test_data)"
      ],
      "execution_count": 36,
      "outputs": [
        {
          "output_type": "execute_result",
          "data": {
            "text/plain": [
              "(21, 4)"
            ]
          },
          "metadata": {
            "tags": []
          },
          "execution_count": 36
        }
      ]
    },
    {
      "cell_type": "code",
      "metadata": {
        "id": "M85DKZHNZAap"
      },
      "source": [
        "train_data,valid_data = train_data.split(split_ratio=[0.85, 0.15], random_state=random.seed(SEED))"
      ],
      "execution_count": 37,
      "outputs": []
    },
    {
      "cell_type": "code",
      "metadata": {
        "colab": {
          "base_uri": "https://localhost:8080/"
        },
        "id": "dabjryOmZCzm",
        "outputId": "670475a8-d6db-424b-8898-efcef4b3b1da"
      },
      "source": [
        "len(train_data),len(valid_data)"
      ],
      "execution_count": 38,
      "outputs": [
        {
          "output_type": "execute_result",
          "data": {
            "text/plain": [
              "(18, 3)"
            ]
          },
          "metadata": {
            "tags": []
          },
          "execution_count": 38
        }
      ]
    },
    {
      "cell_type": "code",
      "metadata": {
        "id": "mp_WFmspZH2h"
      },
      "source": [
        "SRC.build_vocab(train_data, min_freq = 2)\r\n",
        "TRG.build_vocab(train_data, min_freq = 2)"
      ],
      "execution_count": 39,
      "outputs": []
    },
    {
      "cell_type": "code",
      "metadata": {
        "id": "6ntizoUQZKdq"
      },
      "source": [
        "device = torch.device('cuda' if torch.cuda.is_available() else 'cpu')"
      ],
      "execution_count": 40,
      "outputs": []
    },
    {
      "cell_type": "code",
      "metadata": {
        "id": "7JkXh1S-ZMdt"
      },
      "source": [
        "import torch\r\n",
        "import torch.nn as nn\r\n",
        "import torch.optim as optim\r\n",
        "import torch.nn.functional as F\r\n",
        "\r\n",
        "from torchtext.datasets import Multi30k\r\n",
        "from torchtext.data import Field, BucketIterator\r\n",
        "\r\n",
        "import spacy\r\n",
        "import numpy as np\r\n",
        "\r\n",
        "import random\r\n",
        "import math\r\n",
        "import time\r\n",
        "BATCH_SIZE = 2\r\n",
        "\r\n",
        "train_iterator, valid_iterator, test_iterator = BucketIterator.splits(\r\n",
        "    (train_data, valid_data, test_data), \r\n",
        "    batch_size = BATCH_SIZE,sort=False,\r\n",
        "    device = device)"
      ],
      "execution_count": 41,
      "outputs": []
    },
    {
      "cell_type": "code",
      "metadata": {
        "id": "ydSwM5BTZOjC"
      },
      "source": [
        "SEED = 1234\r\n",
        "\r\n",
        "random.seed(SEED)\r\n",
        "np.random.seed(SEED)\r\n",
        "torch.manual_seed(SEED)\r\n",
        "torch.cuda.manual_seed(SEED)\r\n",
        "torch.backends.cudnn.deterministic = True"
      ],
      "execution_count": 42,
      "outputs": []
    },
    {
      "cell_type": "code",
      "metadata": {
        "id": "SC7JmfOrZXBW"
      },
      "source": [
        "class Encoder(nn.Module):\r\n",
        "    def __init__(self, input_dim, emb_dim, enc_hid_dim, dec_hid_dim, dropout):\r\n",
        "        super().__init__()\r\n",
        "        \r\n",
        "        self.embedding = nn.Embedding(input_dim, emb_dim)\r\n",
        "        \r\n",
        "        self.rnn = nn.GRU(emb_dim, enc_hid_dim, bidirectional = True)\r\n",
        "        \r\n",
        "        self.fc = nn.Linear(enc_hid_dim * 2, dec_hid_dim)\r\n",
        "        \r\n",
        "        self.dropout = nn.Dropout(dropout)\r\n",
        "        \r\n",
        "    def forward(self, src):\r\n",
        "        \r\n",
        "        #src = [src len, batch size]\r\n",
        "        \r\n",
        "        embedded = self.dropout(self.embedding(src))\r\n",
        "        \r\n",
        "        #embedded = [src len, batch size, emb dim]\r\n",
        "        \r\n",
        "        outputs, hidden = self.rnn(embedded)\r\n",
        "                \r\n",
        "        #outputs = [src len, batch size, hid dim * num directions]\r\n",
        "        #hidden = [n layers * num directions, batch size, hid dim]\r\n",
        "        \r\n",
        "        #hidden is stacked [forward_1, backward_1, forward_2, backward_2, ...]\r\n",
        "        #outputs are always from the last layer\r\n",
        "        \r\n",
        "        #hidden [-2, :, : ] is the last of the forwards RNN \r\n",
        "        #hidden [-1, :, : ] is the last of the backwards RNN\r\n",
        "        \r\n",
        "        #initial decoder hidden is final hidden state of the forwards and backwards \r\n",
        "        #  encoder RNNs fed through a linear layer\r\n",
        "        hidden = torch.tanh(self.fc(torch.cat((hidden[-2,:,:], hidden[-1,:,:]), dim = 1)))\r\n",
        "        \r\n",
        "        #outputs = [src len, batch size, enc hid dim * 2]\r\n",
        "        #hidden = [batch size, dec hid dim]\r\n",
        "        \r\n",
        "        return outputs, hidden"
      ],
      "execution_count": 43,
      "outputs": []
    },
    {
      "cell_type": "code",
      "metadata": {
        "id": "Vi5lH88oZcKK"
      },
      "source": [
        "class Attention(nn.Module):\r\n",
        "    def __init__(self, enc_hid_dim, dec_hid_dim):\r\n",
        "        super().__init__()\r\n",
        "        \r\n",
        "        self.attn = nn.Linear((enc_hid_dim * 2) + dec_hid_dim, dec_hid_dim)\r\n",
        "        self.v = nn.Linear(dec_hid_dim, 1, bias = False)\r\n",
        "        \r\n",
        "    def forward(self, hidden, encoder_outputs):\r\n",
        "        \r\n",
        "        #hidden = [batch size, dec hid dim]\r\n",
        "        #encoder_outputs = [src len, batch size, enc hid dim * 2]\r\n",
        "        \r\n",
        "        batch_size = encoder_outputs.shape[1]\r\n",
        "        src_len = encoder_outputs.shape[0]\r\n",
        "        \r\n",
        "        #repeat decoder hidden state src_len times\r\n",
        "        hidden = hidden.unsqueeze(1).repeat(1, src_len, 1)\r\n",
        "        \r\n",
        "        encoder_outputs = encoder_outputs.permute(1, 0, 2)\r\n",
        "        \r\n",
        "        #hidden = [batch size, src len, dec hid dim]\r\n",
        "        #encoder_outputs = [batch size, src len, enc hid dim * 2]\r\n",
        "        \r\n",
        "        energy = torch.tanh(self.attn(torch.cat((hidden, encoder_outputs), dim = 2))) \r\n",
        "        \r\n",
        "        #energy = [batch size, src len, dec hid dim]\r\n",
        "\r\n",
        "        attention = self.v(energy).squeeze(2)\r\n",
        "        \r\n",
        "        #attention= [batch size, src len]\r\n",
        "        \r\n",
        "        return F.softmax(attention, dim=1)"
      ],
      "execution_count": 44,
      "outputs": []
    },
    {
      "cell_type": "code",
      "metadata": {
        "id": "BW8wFpqTZfek"
      },
      "source": [
        "class Decoder(nn.Module):\r\n",
        "    def __init__(self, output_dim, emb_dim, enc_hid_dim, dec_hid_dim, dropout, attention):\r\n",
        "        super().__init__()\r\n",
        "\r\n",
        "        self.output_dim = output_dim\r\n",
        "        self.attention = attention\r\n",
        "        \r\n",
        "        self.embedding = nn.Embedding(output_dim, emb_dim)\r\n",
        "        \r\n",
        "        self.rnn = nn.GRU((enc_hid_dim * 2) + emb_dim, dec_hid_dim)\r\n",
        "        \r\n",
        "        self.fc_out = nn.Linear((enc_hid_dim * 2) + dec_hid_dim + emb_dim, output_dim)\r\n",
        "        \r\n",
        "        self.dropout = nn.Dropout(dropout)\r\n",
        "        \r\n",
        "    def forward(self, input, hidden, encoder_outputs):\r\n",
        "             \r\n",
        "        #input = [batch size]\r\n",
        "        #hidden = [batch size, dec hid dim]\r\n",
        "        #encoder_outputs = [src len, batch size, enc hid dim * 2]\r\n",
        "        \r\n",
        "        input = input.unsqueeze(0)\r\n",
        "        \r\n",
        "        #input = [1, batch size]\r\n",
        "        \r\n",
        "        embedded = self.dropout(self.embedding(input))\r\n",
        "        \r\n",
        "        #embedded = [1, batch size, emb dim]\r\n",
        "        \r\n",
        "        a = self.attention(hidden, encoder_outputs)\r\n",
        "                \r\n",
        "        #a = [batch size, src len]\r\n",
        "        \r\n",
        "        a = a.unsqueeze(1)\r\n",
        "        \r\n",
        "        #a = [batch size, 1, src len]\r\n",
        "        \r\n",
        "        encoder_outputs = encoder_outputs.permute(1, 0, 2)\r\n",
        "        \r\n",
        "        #encoder_outputs = [batch size, src len, enc hid dim * 2]\r\n",
        "        \r\n",
        "        weighted = torch.bmm(a, encoder_outputs)\r\n",
        "        \r\n",
        "        #weighted = [batch size, 1, enc hid dim * 2]\r\n",
        "        \r\n",
        "        weighted = weighted.permute(1, 0, 2)\r\n",
        "        \r\n",
        "        #weighted = [1, batch size, enc hid dim * 2]\r\n",
        "        \r\n",
        "        rnn_input = torch.cat((embedded, weighted), dim = 2)\r\n",
        "        \r\n",
        "        #rnn_input = [1, batch size, (enc hid dim * 2) + emb dim]\r\n",
        "            \r\n",
        "        output, hidden = self.rnn(rnn_input, hidden.unsqueeze(0))\r\n",
        "        \r\n",
        "        #output = [seq len, batch size, dec hid dim * n directions]\r\n",
        "        #hidden = [n layers * n directions, batch size, dec hid dim]\r\n",
        "        \r\n",
        "        #seq len, n layers and n directions will always be 1 in this decoder, therefore:\r\n",
        "        #output = [1, batch size, dec hid dim]\r\n",
        "        #hidden = [1, batch size, dec hid dim]\r\n",
        "        #this also means that output == hidden\r\n",
        "        assert (output == hidden).all()\r\n",
        "        \r\n",
        "        embedded = embedded.squeeze(0)\r\n",
        "        output = output.squeeze(0)\r\n",
        "        weighted = weighted.squeeze(0)\r\n",
        "        \r\n",
        "        prediction = self.fc_out(torch.cat((output, weighted, embedded), dim = 1))\r\n",
        "        \r\n",
        "        #prediction = [batch size, output dim]\r\n",
        "        \r\n",
        "        return prediction, hidden.squeeze(0)"
      ],
      "execution_count": 45,
      "outputs": []
    },
    {
      "cell_type": "code",
      "metadata": {
        "id": "OSQLzcgWZiFU"
      },
      "source": [
        "class Seq2Seq(nn.Module):\r\n",
        "    def __init__(self, encoder, decoder, device):\r\n",
        "        super().__init__()\r\n",
        "        \r\n",
        "        self.encoder = encoder\r\n",
        "        self.decoder = decoder\r\n",
        "        self.device = device\r\n",
        "        \r\n",
        "    def forward(self, src, trg, teacher_forcing_ratio = 0.5):\r\n",
        "        \r\n",
        "        #src = [src len, batch size]\r\n",
        "        #trg = [trg len, batch size]\r\n",
        "        #teacher_forcing_ratio is probability to use teacher forcing\r\n",
        "        #e.g. if teacher_forcing_ratio is 0.75 we use teacher forcing 75% of the time\r\n",
        "        \r\n",
        "        batch_size = src.shape[1]\r\n",
        "        trg_len = trg.shape[0]\r\n",
        "        trg_vocab_size = self.decoder.output_dim\r\n",
        "        \r\n",
        "        #tensor to store decoder outputs\r\n",
        "        outputs = torch.zeros(trg_len, batch_size, trg_vocab_size).to(self.device)\r\n",
        "        \r\n",
        "        #encoder_outputs is all hidden states of the input sequence, back and forwards\r\n",
        "        #hidden is the final forward and backward hidden states, passed through a linear layer\r\n",
        "        encoder_outputs, hidden = self.encoder(src)\r\n",
        "                \r\n",
        "        #first input to the decoder is the <sos> tokens\r\n",
        "        input = trg[0,:]\r\n",
        "        \r\n",
        "        for t in range(1, trg_len):\r\n",
        "            \r\n",
        "            #insert input token embedding, previous hidden state and all encoder hidden states\r\n",
        "            #receive output tensor (predictions) and new hidden state\r\n",
        "            output, hidden = self.decoder(input, hidden, encoder_outputs)\r\n",
        "            \r\n",
        "            #place predictions in a tensor holding predictions for each token\r\n",
        "            outputs[t] = output\r\n",
        "            \r\n",
        "            #decide if we are going to use teacher forcing or not\r\n",
        "            teacher_force = random.random() < teacher_forcing_ratio\r\n",
        "            \r\n",
        "            #get the highest predicted token from our predictions\r\n",
        "            top1 = output.argmax(1) \r\n",
        "            \r\n",
        "            #if teacher forcing, use actual next token as next input\r\n",
        "            #if not, use predicted token\r\n",
        "            input = trg[t] if teacher_force else top1\r\n",
        "\r\n",
        "        return outputs"
      ],
      "execution_count": 46,
      "outputs": []
    },
    {
      "cell_type": "code",
      "metadata": {
        "id": "c1iDgR5XZk5K"
      },
      "source": [
        "INPUT_DIM = len(SRC.vocab)\r\n",
        "OUTPUT_DIM = len(TRG.vocab)\r\n",
        "ENC_EMB_DIM = 256\r\n",
        "DEC_EMB_DIM = 256\r\n",
        "ENC_HID_DIM = 512\r\n",
        "DEC_HID_DIM = 512\r\n",
        "ENC_DROPOUT = 0.5\r\n",
        "DEC_DROPOUT = 0.5\r\n",
        "\r\n",
        "attn = Attention(ENC_HID_DIM, DEC_HID_DIM)\r\n",
        "enc = Encoder(INPUT_DIM, ENC_EMB_DIM, ENC_HID_DIM, DEC_HID_DIM, ENC_DROPOUT)\r\n",
        "dec = Decoder(OUTPUT_DIM, DEC_EMB_DIM, ENC_HID_DIM, DEC_HID_DIM, DEC_DROPOUT, attn)\r\n",
        "\r\n",
        "model = Seq2Seq(enc, dec, device).to(device)"
      ],
      "execution_count": 47,
      "outputs": []
    },
    {
      "cell_type": "code",
      "metadata": {
        "colab": {
          "base_uri": "https://localhost:8080/"
        },
        "id": "owLpkXapZnXa",
        "outputId": "1c805b33-3b4e-4060-b0c5-b36e8d20ea56"
      },
      "source": [
        "def init_weights(m):\r\n",
        "    for name, param in m.named_parameters():\r\n",
        "        if 'weight' in name:\r\n",
        "            nn.init.normal_(param.data, mean=0, std=0.01)\r\n",
        "        else:\r\n",
        "            nn.init.constant_(param.data, 0)\r\n",
        "            \r\n",
        "model.apply(init_weights)"
      ],
      "execution_count": 48,
      "outputs": [
        {
          "output_type": "execute_result",
          "data": {
            "text/plain": [
              "Seq2Seq(\n",
              "  (encoder): Encoder(\n",
              "    (embedding): Embedding(25, 256)\n",
              "    (rnn): GRU(256, 512, bidirectional=True)\n",
              "    (fc): Linear(in_features=1024, out_features=512, bias=True)\n",
              "    (dropout): Dropout(p=0.5, inplace=False)\n",
              "  )\n",
              "  (decoder): Decoder(\n",
              "    (attention): Attention(\n",
              "      (attn): Linear(in_features=1536, out_features=512, bias=True)\n",
              "      (v): Linear(in_features=512, out_features=1, bias=False)\n",
              "    )\n",
              "    (embedding): Embedding(54, 256)\n",
              "    (rnn): GRU(1280, 512)\n",
              "    (fc_out): Linear(in_features=1792, out_features=54, bias=True)\n",
              "    (dropout): Dropout(p=0.5, inplace=False)\n",
              "  )\n",
              ")"
            ]
          },
          "metadata": {
            "tags": []
          },
          "execution_count": 48
        }
      ]
    },
    {
      "cell_type": "code",
      "metadata": {
        "colab": {
          "base_uri": "https://localhost:8080/"
        },
        "id": "WtKoQnvfZpdm",
        "outputId": "e15e5214-92b9-46da-85fe-5cb07f14b974"
      },
      "source": [
        "def count_parameters(model):\r\n",
        "    return sum(p.numel() for p in model.parameters() if p.requires_grad)\r\n",
        "\r\n",
        "print(f'The model has {count_parameters(model):,} trainable parameters')"
      ],
      "execution_count": 49,
      "outputs": [
        {
          "output_type": "stream",
          "text": [
            "The model has 6,550,326 trainable parameters\n"
          ],
          "name": "stdout"
        }
      ]
    },
    {
      "cell_type": "code",
      "metadata": {
        "id": "5p1wiwjgZsuf"
      },
      "source": [
        "optimizer = optim.Adam(model.parameters())"
      ],
      "execution_count": 50,
      "outputs": []
    },
    {
      "cell_type": "code",
      "metadata": {
        "id": "9UU-6JclZvBN"
      },
      "source": [
        "TRG_PAD_IDX = TRG.vocab.stoi[TRG.pad_token]\r\n",
        "\r\n",
        "criterion = nn.CrossEntropyLoss(ignore_index = TRG_PAD_IDX)"
      ],
      "execution_count": 51,
      "outputs": []
    },
    {
      "cell_type": "code",
      "metadata": {
        "id": "g5WJnDXLZw9z"
      },
      "source": [
        "def train(model, iterator, optimizer, criterion, clip):\r\n",
        "    \r\n",
        "    model.train()\r\n",
        "    \r\n",
        "    epoch_loss = 0\r\n",
        "    \r\n",
        "    for i, batch in enumerate(iterator):\r\n",
        "        \r\n",
        "        src = batch.src\r\n",
        "        trg = batch.trg\r\n",
        "        \r\n",
        "        optimizer.zero_grad()\r\n",
        "        \r\n",
        "        output = model(src, trg)\r\n",
        "        \r\n",
        "        #trg = [trg len, batch size]\r\n",
        "        #output = [trg len, batch size, output dim]\r\n",
        "        \r\n",
        "        output_dim = output.shape[-1]\r\n",
        "        \r\n",
        "        output = output[1:].view(-1, output_dim)\r\n",
        "        trg = trg[1:].view(-1)\r\n",
        "        \r\n",
        "        #trg = [(trg len - 1) * batch size]\r\n",
        "        #output = [(trg len - 1) * batch size, output dim]\r\n",
        "        \r\n",
        "        loss = criterion(output, trg)\r\n",
        "        \r\n",
        "        loss.backward()\r\n",
        "        \r\n",
        "        torch.nn.utils.clip_grad_norm_(model.parameters(), clip)\r\n",
        "        \r\n",
        "        optimizer.step()\r\n",
        "        \r\n",
        "        epoch_loss += loss.item()\r\n",
        "        \r\n",
        "    return epoch_loss / len(iterator)"
      ],
      "execution_count": 52,
      "outputs": []
    },
    {
      "cell_type": "code",
      "metadata": {
        "id": "bcZb82XBZzvN"
      },
      "source": [
        "def evaluate(model, iterator, criterion):\r\n",
        "    \r\n",
        "    model.eval()\r\n",
        "    \r\n",
        "    epoch_loss = 0\r\n",
        "    \r\n",
        "    with torch.no_grad():\r\n",
        "    \r\n",
        "        for i, batch in enumerate(iterator):\r\n",
        "\r\n",
        "            src = batch.src\r\n",
        "            trg = batch.trg\r\n",
        "\r\n",
        "            output = model(src, trg, 0) #turn off teacher forcing\r\n",
        "\r\n",
        "            #trg = [trg len, batch size]\r\n",
        "            #output = [trg len, batch size, output dim]\r\n",
        "\r\n",
        "            output_dim = output.shape[-1]\r\n",
        "            \r\n",
        "            output = output[1:].view(-1, output_dim)\r\n",
        "            trg = trg[1:].view(-1)\r\n",
        "\r\n",
        "            #trg = [(trg len - 1) * batch size]\r\n",
        "            #output = [(trg len - 1) * batch size, output dim]\r\n",
        "\r\n",
        "            loss = criterion(output, trg)\r\n",
        "\r\n",
        "            epoch_loss += loss.item()\r\n",
        "        \r\n",
        "    return epoch_loss / len(iterator)"
      ],
      "execution_count": 53,
      "outputs": []
    },
    {
      "cell_type": "code",
      "metadata": {
        "id": "9JufCtrlZ19P"
      },
      "source": [
        "def epoch_time(start_time, end_time):\r\n",
        "    elapsed_time = end_time - start_time\r\n",
        "    elapsed_mins = int(elapsed_time / 60)\r\n",
        "    elapsed_secs = int(elapsed_time - (elapsed_mins * 60))\r\n",
        "    return elapsed_mins, elapsed_secs"
      ],
      "execution_count": 54,
      "outputs": []
    },
    {
      "cell_type": "code",
      "metadata": {
        "colab": {
          "base_uri": "https://localhost:8080/"
        },
        "id": "rEj1DMiEZ4ZM",
        "outputId": "50814b1a-3dba-45af-f3eb-76d58408d0dd"
      },
      "source": [
        "N_EPOCHS = 10\r\n",
        "CLIP = 1\r\n",
        "\r\n",
        "best_valid_loss = float('inf')\r\n",
        "\r\n",
        "for epoch in range(N_EPOCHS):\r\n",
        "    \r\n",
        "    start_time = time.time()\r\n",
        "    \r\n",
        "    train_loss = train(model, train_iterator, optimizer, criterion, CLIP)\r\n",
        "    valid_loss = evaluate(model, valid_iterator, criterion)\r\n",
        "    \r\n",
        "    end_time = time.time()\r\n",
        "    \r\n",
        "    epoch_mins, epoch_secs = epoch_time(start_time, end_time)\r\n",
        "    \r\n",
        "    if valid_loss < best_valid_loss:\r\n",
        "        best_valid_loss = valid_loss\r\n",
        "        torch.save(model.state_dict(), 'tut3-model.pt')\r\n",
        "    \r\n",
        "    print(f'Epoch: {epoch+1:02} | Time: {epoch_mins}m {epoch_secs}s')\r\n",
        "    print(f'\\tTrain Loss: {train_loss:.3f} | Train PPL: {math.exp(train_loss):7.3f}')\r\n",
        "    print(f'\\t Val. Loss: {valid_loss:.3f} |  Val. PPL: {math.exp(valid_loss):7.3f}')"
      ],
      "execution_count": 55,
      "outputs": [
        {
          "output_type": "stream",
          "text": [
            "Epoch: 01 | Time: 0m 0s\n",
            "\tTrain Loss: 3.786 | Train PPL:  44.071\n",
            "\t Val. Loss: 2.409 |  Val. PPL:  11.118\n",
            "Epoch: 02 | Time: 0m 0s\n",
            "\tTrain Loss: 3.330 | Train PPL:  27.950\n",
            "\t Val. Loss: 2.217 |  Val. PPL:   9.182\n",
            "Epoch: 03 | Time: 0m 0s\n",
            "\tTrain Loss: 3.224 | Train PPL:  25.121\n",
            "\t Val. Loss: 2.520 |  Val. PPL:  12.434\n",
            "Epoch: 04 | Time: 0m 0s\n",
            "\tTrain Loss: 3.167 | Train PPL:  23.734\n",
            "\t Val. Loss: 2.193 |  Val. PPL:   8.965\n",
            "Epoch: 05 | Time: 0m 0s\n",
            "\tTrain Loss: 3.058 | Train PPL:  21.295\n",
            "\t Val. Loss: 2.479 |  Val. PPL:  11.934\n",
            "Epoch: 06 | Time: 0m 0s\n",
            "\tTrain Loss: 2.900 | Train PPL:  18.176\n",
            "\t Val. Loss: 2.214 |  Val. PPL:   9.153\n",
            "Epoch: 07 | Time: 0m 0s\n",
            "\tTrain Loss: 2.876 | Train PPL:  17.737\n",
            "\t Val. Loss: 2.498 |  Val. PPL:  12.154\n",
            "Epoch: 08 | Time: 0m 0s\n",
            "\tTrain Loss: 2.846 | Train PPL:  17.212\n",
            "\t Val. Loss: 2.418 |  Val. PPL:  11.221\n",
            "Epoch: 09 | Time: 0m 0s\n",
            "\tTrain Loss: 2.759 | Train PPL:  15.792\n",
            "\t Val. Loss: 2.410 |  Val. PPL:  11.131\n",
            "Epoch: 10 | Time: 0m 0s\n",
            "\tTrain Loss: 2.704 | Train PPL:  14.944\n",
            "\t Val. Loss: 2.555 |  Val. PPL:  12.867\n"
          ],
          "name": "stdout"
        }
      ]
    },
    {
      "cell_type": "code",
      "metadata": {
        "colab": {
          "base_uri": "https://localhost:8080/"
        },
        "id": "Be-KT25HZ6rw",
        "outputId": "712ed3a6-726a-4f1b-b53f-46dc80e2b9a0"
      },
      "source": [
        "model.load_state_dict(torch.load('tut3-model.pt'))\r\n",
        "\r\n",
        "test_loss = evaluate(model, test_iterator, criterion)\r\n",
        "\r\n",
        "print(f'| Test Loss: {test_loss:.3f} | Test PPL: {math.exp(test_loss):7.3f} |')"
      ],
      "execution_count": 56,
      "outputs": [
        {
          "output_type": "stream",
          "text": [
            "| Test Loss: 2.377 | Test PPL:  10.778 |\n"
          ],
          "name": "stdout"
        }
      ]
    },
    {
      "cell_type": "code",
      "metadata": {
        "id": "Y52SFGFZaTch"
      },
      "source": [
        ""
      ],
      "execution_count": null,
      "outputs": []
    }
  ]
}