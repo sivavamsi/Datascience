{
 "cells": [
  {
   "cell_type": "code",
   "execution_count": 1,
   "metadata": {},
   "outputs": [],
   "source": [
    "from functools import reduce\n",
    "import math\n",
    "import numpy as np\n",
    "import random"
   ]
  },
  {
   "cell_type": "markdown",
   "metadata": {},
   "source": [
    "# Write a function using only list filter lambda that can tell whether a number is a Fibonacci number or not. You can use a pre-calculated list/dict to store fab numbers till 10000 "
   ]
  },
  {
   "cell_type": "code",
   "execution_count": 2,
   "metadata": {},
   "outputs": [
    {
     "name": "stdout",
     "output_type": "stream",
     "text": [
      "False\n"
     ]
    }
   ],
   "source": [
    "fibonacciSeries = lambda n: reduce(lambda x, _: x+[x[-1]+x[-2]], range(n-2), [0, 1])\n",
    "\n",
    "def Isfibonacci(number):\n",
    "    return list(filter(lambda x : x in fibonacciSeries(10000),[number]))!=[]\n",
    "\n",
    "print(Isfibonacci(number = 10))"
   ]
  },
  {
   "cell_type": "markdown",
   "metadata": {},
   "source": [
    "# Using list comprehension (and zip/lamda/etc if required) write five different expressions that:\n",
    "a) add 2 iterables a and b such that a is even and b is odd"
   ]
  },
  {
   "cell_type": "code",
   "execution_count": 3,
   "metadata": {},
   "outputs": [
    {
     "data": {
      "text/plain": [
       "[5, 9, 13, 17, 21]"
      ]
     },
     "execution_count": 3,
     "metadata": {},
     "output_type": "execute_result"
    }
   ],
   "source": [
    "a = [2,4,6,8,10]\n",
    "b = [3,5,7,9,11]\n",
    "list(map(lambda x, y: x + y, a, b))"
   ]
  },
  {
   "cell_type": "markdown",
   "metadata": {},
   "source": [
    "b) strips every vowel from a string provided (tsai>>t s)\n"
   ]
  },
  {
   "cell_type": "code",
   "execution_count": 4,
   "metadata": {},
   "outputs": [
    {
     "data": {
      "text/plain": [
       "'t s'"
      ]
     },
     "execution_count": 4,
     "metadata": {},
     "output_type": "execute_result"
    }
   ],
   "source": [
    "\" \".join(list(filter(lambda x : x not in [\"a\",\"e\",\"i\",\"o\",\"u\"],list(\"tsai\"))))"
   ]
  },
  {
   "cell_type": "markdown",
   "metadata": {},
   "source": [
    " c) acts like a ReLU function for a 1D array"
   ]
  },
  {
   "cell_type": "code",
   "execution_count": 5,
   "metadata": {},
   "outputs": [
    {
     "data": {
      "text/plain": [
       "[1, 0, 2, 0, 0, 3, 2]"
      ]
     },
     "execution_count": 5,
     "metadata": {},
     "output_type": "execute_result"
    }
   ],
   "source": [
    "_1Darray = np.array([1,-1,2,-3,0,3,2])\n",
    "\n",
    "list(map(lambda x : max([x,0]),_1Darray))"
   ]
  },
  {
   "cell_type": "markdown",
   "metadata": {},
   "source": [
    "d) acts like a sigmoid function for a 1D array\n",
    "\n",
    "\n"
   ]
  },
  {
   "cell_type": "code",
   "execution_count": 6,
   "metadata": {},
   "outputs": [
    {
     "data": {
      "text/plain": [
       "[0.7310585786300049,\n",
       " 0.2689414213699951,\n",
       " 0.8807970779778823,\n",
       " 0.04742587317756678,\n",
       " 0.5,\n",
       " 0.9525741268224334,\n",
       " 0.8807970779778823]"
      ]
     },
     "execution_count": 6,
     "metadata": {},
     "output_type": "execute_result"
    }
   ],
   "source": [
    "list(map(lambda x : 1/(1+math.exp(-x)),_1Darray ))"
   ]
  },
  {
   "cell_type": "markdown",
   "metadata": {},
   "source": [
    "e) takes a small character string and shifts all characters by 5 (handle boundary conditions) tsai>>yxfn"
   ]
  },
  {
   "cell_type": "code",
   "execution_count": 7,
   "metadata": {},
   "outputs": [
    {
     "data": {
      "text/plain": [
       "'yxfn'"
      ]
     },
     "execution_count": 7,
     "metadata": {},
     "output_type": "execute_result"
    }
   ],
   "source": [
    "\"\".join([chr(ord(i)+5-122+96) if ord(i) + 5 > 122 else chr(ord(i)+5) for i in list(\"tsai\")])"
   ]
  },
  {
   "cell_type": "markdown",
   "metadata": {},
   "source": [
    "# A list comprehension expression that takes a ~200 word paragraph (write your own paragraph to check), and checks whether it has any of the swear words mentioned in\n",
    "https://github.com/RobertJGabriel/Google-profanity-words/blob/master/list.txt"
   ]
  },
  {
   "cell_type": "code",
   "execution_count": 8,
   "metadata": {},
   "outputs": [],
   "source": [
    "with open(r'C:\\Users\\Sivavamsi\\Downloads\\list.txt',\"r\") as file:\n",
    "    filetext = file.read().splitlines()"
   ]
  },
  {
   "cell_type": "code",
   "execution_count": 9,
   "metadata": {},
   "outputs": [],
   "source": [
    "paragraph = \"The victim's anorexic unwashed mother proceeded to marinate his rock hard slippery oiled black fat cock with pungent whitish yellow cloudy smegma with bits in, the stench so extreme you could pass out, slobbering spittle and sputum all over her stinky wet drizzled dripping crispy black hard boiled deep fried slow roasted pressure cooked cunt then impaled it with such force bending the transgender erectile penis causing a stress crack to form and eventually causing the ligaments of the penis to fail, resulting in severe skin tearing and ripping, labia rupture, cervix perforation, athlete's foot up the arse, and copious amounts of blood and sweat, with strands of seminal fluid and stagnant smegma seeping. The remains of the penis were then shoved viciously into the mutilated and ravaged butter clogged deteriorating vagina, various bodily fluids being propelled the opposite direction. Did you know, shoving a deep oily sticky slimy fat black hard bendy wiggly veiny magnificent drained cock in a fat red irritated creased wrinkled old wetted juicy anus can result in critical ligament stretching, tendon slashing, muscle wasting, skin puffiness and redness, bone bending to the point of snapping and popping leaving a gaping opening, bone marrow shrivelling, organ leakage, foaming, and flaking, extreme flesh blistering and bruising, burns, stains, boils, abscesses, multiple critical lesions, gashes, genital fatigue, scarring, pus surge, labia tarnishing, rectal blotching and discolouration, multiple sores, whole body splitting, rupture and breakage, long term bodily decay, corrosion, dissolution and dilapidation, nerve buckling, crumbling and failing, and brain rot, fragmentation, misshaping, slanting, trauma, hollowing out and mincing. But introducing it into a wide painful bleeding incision in the crumpled scrotal sack can cause violent testicular ravaging, sudden infertility syndrome, urethral bulging, spilling, and blockage, seminal overflow and critical penile bursting, so instead of stealing someone’s virginity, you will have stolen their FERtility. Anal leakage can be a dilemma for those who possess a mushy, slushy, squashy, squishy, splashy, fleshy, fishy, sloppy, smudgy, spunky, murky, muddy, lumpy rectum, but can be easily rectified by anal sand blasting, anal sewing shut, anal hot glue gunning, a session of anal vacuum forming, a generous dose of anal anti-scuffing lubricant, fitting of an anal filtration system, and the installation of an anal dual-temperature recirculating water system. However if you suffer violent peeling away of the rectal wall and death of anal tissue on a regular basis each morning, the only treatment is blasting of the anal opening with an abrasive propelled by compressed air. Inserting hot rods past the cervical lips and into the central vagina can incur agonising uterine singeing, scalding of the inside layer of the fallopian tube, ovarian barbecuing, clitoral grilling, tissue soldering, vaginal fluid vaporising, and in the case of pregnant females, amniotic sac expansion and distension, foetal killing off by scorching of epidermis and dermis, 3rd degree foetal burns, violent destruction of the womb, skin charring, placenta roasting, bodily oil sizzling, and inadvertent internal pressure-cooking of the young foetus.\""
   ]
  },
  {
   "cell_type": "code",
   "execution_count": 10,
   "metadata": {},
   "outputs": [
    {
     "data": {
      "text/plain": [
       "['SWAER WORDS']"
      ]
     },
     "execution_count": 10,
     "metadata": {},
     "output_type": "execute_result"
    }
   ],
   "source": [
    "['SWAER WORDS'if set(filetext).intersection(set(list(map(lambda x :x.strip(\",.\"),paragraph.split()))))!=set() else \"No SWEAR WORDS\"]"
   ]
  },
  {
   "cell_type": "markdown",
   "metadata": {},
   "source": [
    "# Using reduce functions"
   ]
  },
  {
   "cell_type": "markdown",
   "metadata": {},
   "source": [
    "a)add only even numbers in a list\n"
   ]
  },
  {
   "cell_type": "code",
   "execution_count": 11,
   "metadata": {},
   "outputs": [
    {
     "data": {
      "text/plain": [
       "80"
      ]
     },
     "execution_count": 11,
     "metadata": {},
     "output_type": "execute_result"
    }
   ],
   "source": [
    "reduce(lambda x,y:x+y, list(filter(lambda x: (x % 2 == 0), [10, 21, 4, 45, 66, 93, 11])))"
   ]
  },
  {
   "cell_type": "markdown",
   "metadata": {},
   "source": [
    "b) Find the biggest character in a string (printable ascii characters)"
   ]
  },
  {
   "cell_type": "code",
   "execution_count": 12,
   "metadata": {},
   "outputs": [
    {
     "data": {
      "text/plain": [
       "'t'"
      ]
     },
     "execution_count": 12,
     "metadata": {},
     "output_type": "execute_result"
    }
   ],
   "source": [
    "chr(max([ord(x)  for x in list(\"printable ascii characters\".lower())]))"
   ]
  },
  {
   "cell_type": "markdown",
   "metadata": {},
   "source": [
    "c) adds every 3rd number in a list\n",
    "\n"
   ]
  },
  {
   "cell_type": "code",
   "execution_count": 13,
   "metadata": {},
   "outputs": [
    {
     "data": {
      "text/plain": [
       "18"
      ]
     },
     "execution_count": 13,
     "metadata": {},
     "output_type": "execute_result"
    }
   ],
   "source": [
    "reduce(lambda x,y:x+y,[1,2,3,4,5,6,7,8,9,10][2::][::3])"
   ]
  },
  {
   "cell_type": "markdown",
   "metadata": {},
   "source": [
    "# Using randint, random.choice and list comprehensions, write an expression that generates 15 random KADDAADDDD number plates, where KA is fixed, D stands for a digit, and A stands for Capital alphabets. 10<<DD<<99 & 1000<<DDDD<<9999"
   ]
  },
  {
   "cell_type": "code",
   "execution_count": 14,
   "metadata": {},
   "outputs": [
    {
     "data": {
      "text/plain": [
       "['KA95PM957',\n",
       " 'KA36OG193',\n",
       " 'KA33JM888',\n",
       " 'KA62PL741',\n",
       " 'KA66AK013',\n",
       " 'KA91IR907',\n",
       " 'KA91TA880',\n",
       " 'KA01UJ832',\n",
       " 'KA60CA297',\n",
       " 'KA55BR024',\n",
       " 'KA56SY529',\n",
       " 'KA61JD308',\n",
       " 'KA46PQ762',\n",
       " 'KA12OV492',\n",
       " 'KA10KD982']"
      ]
     },
     "execution_count": 14,
     "metadata": {},
     "output_type": "execute_result"
    }
   ],
   "source": [
    "letters = 'ABCDEFGHIJKLMNOPQRSTUVWXYZ'\n",
    "numbers = '0123456789'\n",
    "\n",
    "[\"KA\"+random.choice(numbers)\\\n",
    " +random.choice(numbers)\\\n",
    " +random.choice(letters)\\\n",
    " +random.choice(letters)\\\n",
    " +random.choice(numbers)\\\n",
    " +random.choice(numbers)\\\n",
    " +random.choice(numbers)\\\n",
    " for i in range(15)]"
   ]
  },
  {
   "cell_type": "markdown",
   "metadata": {},
   "source": [
    "# Write the above again from scratch where KA can be changed to DL, and 1000/9999 ranges can be provided."
   ]
  },
  {
   "cell_type": "code",
   "execution_count": 15,
   "metadata": {},
   "outputs": [
    {
     "data": {
      "text/plain": [
       "['DL25NY352',\n",
       " 'KA21BG295',\n",
       " 'KA82YA517',\n",
       " 'DL35SM995',\n",
       " 'DL26RG237',\n",
       " 'DL80QL676',\n",
       " 'KA93UJ483',\n",
       " 'DL59BF314',\n",
       " 'KA61JK372',\n",
       " 'KA14UI599',\n",
       " 'DL38CT797',\n",
       " 'KA63DR478',\n",
       " 'KA14FS651',\n",
       " 'DL85GR765',\n",
       " 'KA23JI611']"
      ]
     },
     "execution_count": 15,
     "metadata": {},
     "output_type": "execute_result"
    }
   ],
   "source": [
    "twowords =[\"DL\",\"KA\"]\n",
    "[random.sample(twowords,2)[0]+random.choice(numbers)\\\n",
    " +random.choice(numbers)\\\n",
    " +random.choice(letters)\\\n",
    " +random.choice(letters)\\\n",
    " +random.choice(numbers)\\\n",
    " +random.choice(numbers)\\\n",
    " +random.choice(numbers)\\\n",
    "  for i in range(15)]"
   ]
  },
  {
   "cell_type": "code",
   "execution_count": null,
   "metadata": {},
   "outputs": [],
   "source": []
  }
 ],
 "metadata": {
  "kernelspec": {
   "display_name": "Python 3",
   "language": "python",
   "name": "python3"
  },
  "language_info": {
   "codemirror_mode": {
    "name": "ipython",
    "version": 3
   },
   "file_extension": ".py",
   "mimetype": "text/x-python",
   "name": "python",
   "nbconvert_exporter": "python",
   "pygments_lexer": "ipython3",
   "version": "3.6.8"
  }
 },
 "nbformat": 4,
 "nbformat_minor": 4
}
