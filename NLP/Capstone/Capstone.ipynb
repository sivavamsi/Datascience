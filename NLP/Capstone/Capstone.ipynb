{
  "nbformat": 4,
  "nbformat_minor": 0,
  "metadata": {
    "accelerator": "GPU",
    "colab": {
      "name": "Capstone.ipynb",
      "provenance": [],
      "collapsed_sections": []
    },
    "kernelspec": {
      "display_name": "Python 3",
      "name": "python3"
    },
    "widgets": {
      "application/vnd.jupyter.widget-state+json": {
        "b98281f9fd5646248470e57ba81c760c": {
          "model_module": "@jupyter-widgets/controls",
          "model_name": "HBoxModel",
          "state": {
            "_view_name": "HBoxView",
            "_dom_classes": [],
            "_model_name": "HBoxModel",
            "_view_module": "@jupyter-widgets/controls",
            "_model_module_version": "1.5.0",
            "_view_count": null,
            "_view_module_version": "1.5.0",
            "box_style": "",
            "layout": "IPY_MODEL_0dae996a6eff4be49081bff8912b63fa",
            "_model_module": "@jupyter-widgets/controls",
            "children": [
              "IPY_MODEL_bcdb61db35494ce98694d8888a2c13d4",
              "IPY_MODEL_f09057746be94ae4b1939a3785e2528e"
            ]
          }
        },
        "0dae996a6eff4be49081bff8912b63fa": {
          "model_module": "@jupyter-widgets/base",
          "model_name": "LayoutModel",
          "state": {
            "_view_name": "LayoutView",
            "grid_template_rows": null,
            "right": null,
            "justify_content": null,
            "_view_module": "@jupyter-widgets/base",
            "overflow": null,
            "_model_module_version": "1.2.0",
            "_view_count": null,
            "flex_flow": null,
            "width": null,
            "min_width": null,
            "border": null,
            "align_items": null,
            "bottom": null,
            "_model_module": "@jupyter-widgets/base",
            "top": null,
            "grid_column": null,
            "overflow_y": null,
            "overflow_x": null,
            "grid_auto_flow": null,
            "grid_area": null,
            "grid_template_columns": null,
            "flex": null,
            "_model_name": "LayoutModel",
            "justify_items": null,
            "grid_row": null,
            "max_height": null,
            "align_content": null,
            "visibility": null,
            "align_self": null,
            "height": null,
            "min_height": null,
            "padding": null,
            "grid_auto_rows": null,
            "grid_gap": null,
            "max_width": null,
            "order": null,
            "_view_module_version": "1.2.0",
            "grid_template_areas": null,
            "object_position": null,
            "object_fit": null,
            "grid_auto_columns": null,
            "margin": null,
            "display": null,
            "left": null
          }
        },
        "bcdb61db35494ce98694d8888a2c13d4": {
          "model_module": "@jupyter-widgets/controls",
          "model_name": "FloatProgressModel",
          "state": {
            "_view_name": "ProgressView",
            "style": "IPY_MODEL_12168d9a6a6545229e7391fdffeaa903",
            "_dom_classes": [],
            "description": "100%",
            "_model_name": "FloatProgressModel",
            "bar_style": "success",
            "max": 6824,
            "_view_module": "@jupyter-widgets/controls",
            "_model_module_version": "1.5.0",
            "value": 6824,
            "_view_count": null,
            "_view_module_version": "1.5.0",
            "orientation": "horizontal",
            "min": 0,
            "description_tooltip": null,
            "_model_module": "@jupyter-widgets/controls",
            "layout": "IPY_MODEL_dc3e1e6e0cfd4ebb90b377dcf0bc5c5b"
          }
        },
        "f09057746be94ae4b1939a3785e2528e": {
          "model_module": "@jupyter-widgets/controls",
          "model_name": "HTMLModel",
          "state": {
            "_view_name": "HTMLView",
            "style": "IPY_MODEL_f0c6753e54a3466fb07da3708a1cbe0c",
            "_dom_classes": [],
            "description": "",
            "_model_name": "HTMLModel",
            "placeholder": "​",
            "_view_module": "@jupyter-widgets/controls",
            "_model_module_version": "1.5.0",
            "value": " 6824/6824 [00:02&lt;00:00, 2349.20it/s]",
            "_view_count": null,
            "_view_module_version": "1.5.0",
            "description_tooltip": null,
            "_model_module": "@jupyter-widgets/controls",
            "layout": "IPY_MODEL_cc64d37b2b3a410d99c1edc014050492"
          }
        },
        "12168d9a6a6545229e7391fdffeaa903": {
          "model_module": "@jupyter-widgets/controls",
          "model_name": "ProgressStyleModel",
          "state": {
            "_view_name": "StyleView",
            "_model_name": "ProgressStyleModel",
            "description_width": "initial",
            "_view_module": "@jupyter-widgets/base",
            "_model_module_version": "1.5.0",
            "_view_count": null,
            "_view_module_version": "1.2.0",
            "bar_color": null,
            "_model_module": "@jupyter-widgets/controls"
          }
        },
        "dc3e1e6e0cfd4ebb90b377dcf0bc5c5b": {
          "model_module": "@jupyter-widgets/base",
          "model_name": "LayoutModel",
          "state": {
            "_view_name": "LayoutView",
            "grid_template_rows": null,
            "right": null,
            "justify_content": null,
            "_view_module": "@jupyter-widgets/base",
            "overflow": null,
            "_model_module_version": "1.2.0",
            "_view_count": null,
            "flex_flow": null,
            "width": null,
            "min_width": null,
            "border": null,
            "align_items": null,
            "bottom": null,
            "_model_module": "@jupyter-widgets/base",
            "top": null,
            "grid_column": null,
            "overflow_y": null,
            "overflow_x": null,
            "grid_auto_flow": null,
            "grid_area": null,
            "grid_template_columns": null,
            "flex": null,
            "_model_name": "LayoutModel",
            "justify_items": null,
            "grid_row": null,
            "max_height": null,
            "align_content": null,
            "visibility": null,
            "align_self": null,
            "height": null,
            "min_height": null,
            "padding": null,
            "grid_auto_rows": null,
            "grid_gap": null,
            "max_width": null,
            "order": null,
            "_view_module_version": "1.2.0",
            "grid_template_areas": null,
            "object_position": null,
            "object_fit": null,
            "grid_auto_columns": null,
            "margin": null,
            "display": null,
            "left": null
          }
        },
        "f0c6753e54a3466fb07da3708a1cbe0c": {
          "model_module": "@jupyter-widgets/controls",
          "model_name": "DescriptionStyleModel",
          "state": {
            "_view_name": "StyleView",
            "_model_name": "DescriptionStyleModel",
            "description_width": "",
            "_view_module": "@jupyter-widgets/base",
            "_model_module_version": "1.5.0",
            "_view_count": null,
            "_view_module_version": "1.2.0",
            "_model_module": "@jupyter-widgets/controls"
          }
        },
        "cc64d37b2b3a410d99c1edc014050492": {
          "model_module": "@jupyter-widgets/base",
          "model_name": "LayoutModel",
          "state": {
            "_view_name": "LayoutView",
            "grid_template_rows": null,
            "right": null,
            "justify_content": null,
            "_view_module": "@jupyter-widgets/base",
            "overflow": null,
            "_model_module_version": "1.2.0",
            "_view_count": null,
            "flex_flow": null,
            "width": null,
            "min_width": null,
            "border": null,
            "align_items": null,
            "bottom": null,
            "_model_module": "@jupyter-widgets/base",
            "top": null,
            "grid_column": null,
            "overflow_y": null,
            "overflow_x": null,
            "grid_auto_flow": null,
            "grid_area": null,
            "grid_template_columns": null,
            "flex": null,
            "_model_name": "LayoutModel",
            "justify_items": null,
            "grid_row": null,
            "max_height": null,
            "align_content": null,
            "visibility": null,
            "align_self": null,
            "height": null,
            "min_height": null,
            "padding": null,
            "grid_auto_rows": null,
            "grid_gap": null,
            "max_width": null,
            "order": null,
            "_view_module_version": "1.2.0",
            "grid_template_areas": null,
            "object_position": null,
            "object_fit": null,
            "grid_auto_columns": null,
            "margin": null,
            "display": null,
            "left": null
          }
        }
      }
    }
  },
  "cells": [
    {
      "cell_type": "code",
      "metadata": {
        "id": "9O1Ba7ewvCxL"
      },
      "source": [
        "#!python -m spacy download en"
      ],
      "execution_count": 1,
      "outputs": []
    },
    {
      "cell_type": "code",
      "metadata": {
        "colab": {
          "base_uri": "https://localhost:8080/"
        },
        "id": "TyA7kMxiV3y7",
        "outputId": "e93b01cb-97cc-4231-ee36-fadb82d86d49"
      },
      "source": [
        "from google.colab import drive\n",
        "drive.mount('/content/drive')"
      ],
      "execution_count": 2,
      "outputs": [
        {
          "output_type": "stream",
          "text": [
            "Drive already mounted at /content/drive; to attempt to forcibly remount, call drive.mount(\"/content/drive\", force_remount=True).\n"
          ],
          "name": "stdout"
        }
      ]
    },
    {
      "cell_type": "code",
      "metadata": {
        "colab": {
          "base_uri": "https://localhost:8080/"
        },
        "id": "QLVPYl7mzYFq",
        "outputId": "c46c7323-f01d-4dd1-ad0f-7e8d5b6986c6"
      },
      "source": [
        "cd drive/MyDrive/CapstoneEND/"
      ],
      "execution_count": 3,
      "outputs": [
        {
          "output_type": "stream",
          "text": [
            "/content/drive/MyDrive/CapstoneEND\n"
          ],
          "name": "stdout"
        }
      ]
    },
    {
      "cell_type": "code",
      "metadata": {
        "id": "_WD8sTnczihx"
      },
      "source": [
        "import torch\n",
        "from torchtext.legacy import data \n",
        "from token_custom import EXACT_TOKEN_TYPES,tok_name\n",
        "import spacy\n",
        "import tokenize\n",
        "try:\n",
        "  from StringIO import StringIO\n",
        "except:\n",
        "  from io import StringIO\n",
        "from gensim.models import Word2Vec\n",
        "import torchtext.vocab as vocab\n",
        "from tqdm import tqdm_notebook\n",
        "import gensim\n",
        "import torch\n",
        "import torch.nn as nn\n",
        "import torch.optim as optim\n",
        "\n",
        "import torchtext\n",
        "from torchtext.legacy.data import Field, BucketIterator\n",
        "\n",
        "import matplotlib.pyplot as plt\n",
        "import matplotlib.ticker as ticker\n",
        "\n",
        "import spacy\n",
        "import numpy as np\n",
        "\n",
        "import random\n",
        "import math\n",
        "import time\n",
        "from torchtext.data.metrics import bleu_score"
      ],
      "execution_count": 4,
      "outputs": []
    },
    {
      "cell_type": "code",
      "metadata": {
        "id": "tjbZM2zX0FEZ"
      },
      "source": [
        "f = open('english_python_data.txt', 'r')\n",
        "full_text = f.read()\n",
        "f.close()\n",
        "x = full_text.split(\"\\n#\")\n",
        "queue_raw,snippet_raw = [],[]\n",
        "for count,i in enumerate(x):\n",
        "  q_a = i.split(\"\\n\",1)\n",
        "  if len(q_a)>1:\n",
        "    if q_a[1]:\n",
        "      queue_raw.append(q_a[0])\n",
        "      snippet_raw.append(q_a[1])\n",
        "\n",
        "tokens_to_discard = [\"\\n\",\" \",\"  \"]"
      ],
      "execution_count": 5,
      "outputs": []
    },
    {
      "cell_type": "code",
      "metadata": {
        "id": "JnbXEdomnw_J"
      },
      "source": [
        "def code_tokenize(text):\n",
        "  token_stream = tokenize.generate_tokens(StringIO(text).readline)\n",
        "  code_tokenized = []\n",
        "  for five_tuple in token_stream:\n",
        "      if tok_name[five_tuple.type] == \"INDENT\":\n",
        "        quotient,remainder = divmod(five_tuple.end[1]-five_tuple.start[1],4)\n",
        "        if remainder>2:\n",
        "          quotient = quotient+1\n",
        "        for i in range(quotient):\n",
        "          code_tokenized.append(\"\\t\")\n",
        "      else:\n",
        "        code_tokenized.append(str(five_tuple.string))\n",
        "  if code_tokenized[0] in tokens_to_discard:\n",
        "    return code_tokenized[1:]\n",
        "  else:\n",
        "    return code_tokenized"
      ],
      "execution_count": 6,
      "outputs": []
    },
    {
      "cell_type": "code",
      "metadata": {
        "id": "Mb11-R5TpCuS"
      },
      "source": [
        "def text_tokenize(text):\n",
        "  sent_tokenised = spacy_en(text)\n",
        "  token_properties = [word for word in sent_tokenised]\n",
        "  while(token_properties[0].pos_ in [\"NUM\",\"SPACE\"]):\n",
        "    token_properties = token_properties[1:]\n",
        "  return [word.string for word in token_properties]"
      ],
      "execution_count": 7,
      "outputs": []
    },
    {
      "cell_type": "code",
      "metadata": {
        "colab": {
          "base_uri": "https://localhost:8080/"
        },
        "id": "69DcNJpxLsJA",
        "outputId": "b4b22f4f-b49e-487d-f973-1ba3da24aa2e"
      },
      "source": [
        "spacy_en = spacy.load('en')\n",
        "queue = data.Field(sequential = True, tokenize = text_tokenize,eos_token = '<eos>', init_token = '<sos>',  batch_first =True, include_lengths=True)\n",
        "snippet = data.Field(sequential = True,is_target=True ,eos_token = '<eos>', init_token = '<sos>', tokenize = code_tokenize, batch_first =True, include_lengths=True)\n",
        "fields = [('queue', queue),('snippet',snippet)]\n",
        "example = []\n",
        "for i in range(len(queue_raw)):\n",
        "  try:\n",
        "    temp = data.Example.fromlist([queue_raw[i],snippet_raw[i]], fields)\n",
        "    if len(vars(temp)[\"snippet\"]) < 500:\n",
        "      example.append(temp)\n",
        "    else:\n",
        "      pass\n",
        "  except:\n",
        "    pass\n",
        "\n",
        "list_of_snippets = [vars(i)[\"snippet\"] for i in example]\n",
        "len(list_of_snippets)"
      ],
      "execution_count": 8,
      "outputs": [
        {
          "output_type": "execute_result",
          "data": {
            "text/plain": [
              "4716"
            ]
          },
          "metadata": {
            "tags": []
          },
          "execution_count": 8
        }
      ]
    },
    {
      "cell_type": "code",
      "metadata": {
        "id": "woFGHpcitdkR"
      },
      "source": [
        "w2v_model = Word2Vec(min_count=20,\n",
        "                     window=2,\n",
        "                     size=128,\n",
        "                     sample=6e-5, \n",
        "                     alpha=0.03, \n",
        "                     min_alpha=0.0007, \n",
        "                     negative=20)\n",
        "w2v_model.build_vocab(list_of_snippets, progress_per=10000)\n",
        "w2v_model.train(list_of_snippets, total_examples=w2v_model.corpus_count, epochs=100, report_delay=1)\n",
        "w2v_model.save('embeddings.txt')"
      ],
      "execution_count": 9,
      "outputs": []
    },
    {
      "cell_type": "code",
      "metadata": {
        "colab": {
          "base_uri": "https://localhost:8080/"
        },
        "id": "2ZVDm7_-qX03",
        "outputId": "2156505c-fcaa-4011-e338-51e7128d5a9f"
      },
      "source": [
        "queue_raw[1],snippet_raw[0]"
      ],
      "execution_count": 10,
      "outputs": [
        {
          "output_type": "execute_result",
          "data": {
            "text/plain": [
              "(' write a python function to add two user provided numbers and return the sum',\n",
              " \"num1 = 1.5\\nnum2 = 6.3\\nsum = num1 + num2\\nprint(f'Sum: {sum}')\\n\\n\")"
            ]
          },
          "metadata": {
            "tags": []
          },
          "execution_count": 10
        }
      ]
    },
    {
      "cell_type": "code",
      "metadata": {
        "colab": {
          "base_uri": "https://localhost:8080/"
        },
        "id": "V1IafKXytWNg",
        "outputId": "2ac1db30-cb49-4214-a5cd-f0c85d448693"
      },
      "source": [
        "len(queue_raw)"
      ],
      "execution_count": 11,
      "outputs": [
        {
          "output_type": "execute_result",
          "data": {
            "text/plain": [
              "4741"
            ]
          },
          "metadata": {
            "tags": []
          },
          "execution_count": 11
        }
      ]
    },
    {
      "cell_type": "code",
      "metadata": {
        "colab": {
          "base_uri": "https://localhost:8080/"
        },
        "id": "sVH42bSmts7E",
        "outputId": "431c1968-0496-4990-ba72-dbbb916d3754"
      },
      "source": [
        "queue_snippet_dataset = data.Dataset(example, fields)\n",
        "(train_data, valid_data) = queue_snippet_dataset.split(split_ratio=[0.85, 0.15])\n",
        "len(train_data),len(valid_data)"
      ],
      "execution_count": 12,
      "outputs": [
        {
          "output_type": "execute_result",
          "data": {
            "text/plain": [
              "(4009, 707)"
            ]
          },
          "metadata": {
            "tags": []
          },
          "execution_count": 12
        }
      ]
    },
    {
      "cell_type": "code",
      "metadata": {
        "colab": {
          "base_uri": "https://localhost:8080/"
        },
        "id": "x0AQXVtIulM4",
        "outputId": "f7e7cd16-8b9a-42c2-887c-9b5cd127fc43"
      },
      "source": [
        "queue.build_vocab(queue_snippet_dataset)\n",
        "snippet.build_vocab(queue_snippet_dataset)\n",
        "print('Size of input vocab : ', len(queue.vocab))\n",
        "print('Size of label vocab : ', len(snippet.vocab))\n"
      ],
      "execution_count": 13,
      "outputs": [
        {
          "output_type": "stream",
          "text": [
            "Size of input vocab :  3320\n",
            "Size of label vocab :  6824\n"
          ],
          "name": "stdout"
        }
      ]
    },
    {
      "cell_type": "code",
      "metadata": {
        "colab": {
          "base_uri": "https://localhost:8080/"
        },
        "id": "FP8YQZk47AbF",
        "outputId": "6dc783c6-ebc5-4f3a-912d-af01b134e7a2"
      },
      "source": [
        "w2v_model = gensim.models.word2vec.Word2Vec.load('embeddings.txt')\n",
        "w2v_model.vector_size"
      ],
      "execution_count": 14,
      "outputs": [
        {
          "output_type": "execute_result",
          "data": {
            "text/plain": [
              "128"
            ]
          },
          "metadata": {
            "tags": []
          },
          "execution_count": 14
        }
      ]
    },
    {
      "cell_type": "code",
      "metadata": {
        "colab": {
          "base_uri": "https://localhost:8080/",
          "height": 202,
          "referenced_widgets": [
            "b98281f9fd5646248470e57ba81c760c",
            "0dae996a6eff4be49081bff8912b63fa",
            "bcdb61db35494ce98694d8888a2c13d4",
            "f09057746be94ae4b1939a3785e2528e",
            "12168d9a6a6545229e7391fdffeaa903",
            "dc3e1e6e0cfd4ebb90b377dcf0bc5c5b",
            "f0c6753e54a3466fb07da3708a1cbe0c",
            "cc64d37b2b3a410d99c1edc014050492"
          ]
        },
        "id": "ZtH7yV0k4VYe",
        "outputId": "21419da1-3f56-4515-df38-c2bd4cc9d561"
      },
      "source": [
        "word2vec_vectors = []\n",
        "for token, idx in tqdm_notebook(snippet.vocab.stoi.items()):\n",
        "    if token in w2v_model.wv.vocab.keys():\n",
        "        word2vec_vectors.append(torch.FloatTensor(w2v_model[token]))\n",
        "    else:\n",
        "        word2vec_vectors.append(torch.zeros(w2v_model.vector_size))"
      ],
      "execution_count": 15,
      "outputs": [
        {
          "output_type": "stream",
          "text": [
            "/usr/local/lib/python3.7/dist-packages/ipykernel_launcher.py:2: TqdmDeprecationWarning: This function will be removed in tqdm==5.0.0\n",
            "Please use `tqdm.notebook.tqdm` instead of `tqdm.tqdm_notebook`\n",
            "  \n"
          ],
          "name": "stderr"
        },
        {
          "output_type": "display_data",
          "data": {
            "application/vnd.jupyter.widget-view+json": {
              "model_id": "b98281f9fd5646248470e57ba81c760c",
              "version_minor": 0,
              "version_major": 2
            },
            "text/plain": [
              "HBox(children=(FloatProgress(value=0.0, max=6824.0), HTML(value='')))"
            ]
          },
          "metadata": {
            "tags": []
          }
        },
        {
          "output_type": "stream",
          "text": [
            "\n"
          ],
          "name": "stdout"
        },
        {
          "output_type": "stream",
          "text": [
            "/usr/local/lib/python3.7/dist-packages/ipykernel_launcher.py:4: DeprecationWarning: Call to deprecated `__getitem__` (Method will be removed in 4.0.0, use self.wv.__getitem__() instead).\n",
            "  after removing the cwd from sys.path.\n",
            "/usr/local/lib/python3.7/dist-packages/ipykernel_launcher.py:4: UserWarning: The given NumPy array is not writeable, and PyTorch does not support non-writeable tensors. This means you can write to the underlying (supposedly non-writeable) NumPy array using the tensor. You may want to copy the array to protect its data or make it writeable before converting it to a tensor. This type of warning will be suppressed for the rest of this program. (Triggered internally at  /pytorch/torch/csrc/utils/tensor_numpy.cpp:143.)\n",
            "  after removing the cwd from sys.path.\n"
          ],
          "name": "stderr"
        }
      ]
    },
    {
      "cell_type": "code",
      "metadata": {
        "id": "Kve5XaZVAEf7"
      },
      "source": [
        "snippet.vocab.set_vectors(snippet.vocab.stoi, word2vec_vectors, w2v_model.vector_size)\n",
        "device = torch.device(\"cuda\" if torch.cuda.is_available() else \"cpu\")\n",
        "train_iterator, valid_iterator = data.BucketIterator.splits((train_data, valid_data), batch_size = 32, \n",
        "                                                            sort_key = lambda z: len(z.queue),\n",
        "                                                            sort_within_batch=True, device = device)\n",
        "pre_trained_emb = torch.FloatTensor(snippet.vocab.vectors)"
      ],
      "execution_count": 16,
      "outputs": []
    },
    {
      "cell_type": "code",
      "metadata": {
        "id": "niE9Cc6-2bD_"
      },
      "source": [
        "import os, pickle\n",
        "with open('tokenizer.pkl', 'wb') as tokens: \n",
        "    pickle.dump(snippet.vocab.stoi, tokens)"
      ],
      "execution_count": 17,
      "outputs": []
    },
    {
      "cell_type": "code",
      "metadata": {
        "id": "NE6JimgOCz-w"
      },
      "source": [
        "class Encoder(nn.Module):\n",
        "    def __init__(self, \n",
        "                 input_dim, \n",
        "                 hid_dim, \n",
        "                 n_layers, \n",
        "                 n_heads, \n",
        "                 pf_dim,\n",
        "                 dropout, \n",
        "                 device,\n",
        "                 max_length = 100):\n",
        "        super().__init__()\n",
        "\n",
        "        self.device = device\n",
        "        \n",
        "        self.tok_embedding = nn.Embedding(input_dim, hid_dim)\n",
        "        self.pos_embedding = nn.Embedding(max_length, hid_dim)\n",
        "        \n",
        "        self.layers = nn.ModuleList([EncoderLayer(hid_dim, \n",
        "                                                  n_heads, \n",
        "                                                  pf_dim,\n",
        "                                                  dropout, \n",
        "                                                  device) \n",
        "                                     for _ in range(n_layers)])\n",
        "        \n",
        "        self.dropout = nn.Dropout(dropout)\n",
        "        \n",
        "        self.scale = torch.sqrt(torch.FloatTensor([hid_dim])).to(device)\n",
        "        \n",
        "    def forward(self, src, src_mask):\n",
        "        \n",
        "        #src = [batch size, src len]\n",
        "        #src_mask = [batch size, 1, 1, src len]\n",
        "        \n",
        "        batch_size = src.shape[0]\n",
        "        src_len = src.shape[1]\n",
        "        \n",
        "        pos = torch.arange(0, src_len).unsqueeze(0).repeat(batch_size, 1).to(self.device)\n",
        "        \n",
        "        #pos = [batch size, src len]\n",
        "        \n",
        "        src = self.dropout((self.tok_embedding(src) * self.scale) + self.pos_embedding(pos))\n",
        "        \n",
        "        #src = [batch size, src len, hid dim]\n",
        "        \n",
        "        for layer in self.layers:\n",
        "            src = layer(src, src_mask)\n",
        "            \n",
        "        #src = [batch size, src len, hid dim]\n",
        "            \n",
        "        return src"
      ],
      "execution_count": 18,
      "outputs": []
    },
    {
      "cell_type": "code",
      "metadata": {
        "id": "2LheiXWVFDEg"
      },
      "source": [
        "class EncoderLayer(nn.Module):\n",
        "    def __init__(self, \n",
        "                 hid_dim, \n",
        "                 n_heads, \n",
        "                 pf_dim,  \n",
        "                 dropout, \n",
        "                 device):\n",
        "        super().__init__()\n",
        "        \n",
        "        self.self_attn_layer_norm = nn.LayerNorm(hid_dim)\n",
        "        self.ff_layer_norm = nn.LayerNorm(hid_dim)\n",
        "        self.self_attention = MultiHeadAttentionLayer(hid_dim, n_heads, dropout, device)\n",
        "        self.positionwise_feedforward = PositionwiseFeedforwardLayer(hid_dim, \n",
        "                                                                     pf_dim, \n",
        "                                                                     dropout)\n",
        "        self.dropout = nn.Dropout(dropout)\n",
        "        \n",
        "    def forward(self, src, src_mask):\n",
        "        \n",
        "        #src = [batch size, src len, hid dim]\n",
        "        #src_mask = [batch size, 1, 1, src len] \n",
        "                \n",
        "        #self attention\n",
        "        _src, _ = self.self_attention(src, src, src, src_mask)\n",
        "        \n",
        "        #dropout, residual connection and layer norm\n",
        "        src = self.self_attn_layer_norm(src + self.dropout(_src))\n",
        "        \n",
        "        #src = [batch size, src len, hid dim]\n",
        "        \n",
        "        #positionwise feedforward\n",
        "        _src = self.positionwise_feedforward(src)\n",
        "        \n",
        "        #dropout, residual and layer norm\n",
        "        src = self.ff_layer_norm(src + self.dropout(_src))\n",
        "        \n",
        "        #src = [batch size, src len, hid dim]\n",
        "        \n",
        "        return src"
      ],
      "execution_count": 19,
      "outputs": []
    },
    {
      "cell_type": "code",
      "metadata": {
        "id": "ZZmeHfGhGzkN"
      },
      "source": [
        "class MultiHeadAttentionLayer(nn.Module):\n",
        "    def __init__(self, hid_dim, n_heads, dropout, device):\n",
        "        super().__init__()\n",
        "        \n",
        "        assert hid_dim % n_heads == 0\n",
        "        \n",
        "        self.hid_dim = hid_dim\n",
        "        self.n_heads = n_heads\n",
        "        self.head_dim = hid_dim // n_heads\n",
        "        \n",
        "        self.fc_q = nn.Linear(hid_dim, hid_dim)\n",
        "        self.fc_k = nn.Linear(hid_dim, hid_dim)\n",
        "        self.fc_v = nn.Linear(hid_dim, hid_dim)\n",
        "        \n",
        "        self.fc_o = nn.Linear(hid_dim, hid_dim)\n",
        "        \n",
        "        self.dropout = nn.Dropout(dropout)\n",
        "        \n",
        "        self.scale = torch.sqrt(torch.FloatTensor([self.head_dim])).to(device)\n",
        "        \n",
        "    def forward(self, query, key, value, mask = None):\n",
        "        \n",
        "        batch_size = query.shape[0]\n",
        "        \n",
        "        #query = [batch size, query len, hid dim]\n",
        "        #key = [batch size, key len, hid dim]\n",
        "        #value = [batch size, value len, hid dim]\n",
        "                \n",
        "        Q = self.fc_q(query)\n",
        "        K = self.fc_k(key)\n",
        "        V = self.fc_v(value)\n",
        "        \n",
        "        #Q = [batch size, query len, hid dim]\n",
        "        #K = [batch size, key len, hid dim]\n",
        "        #V = [batch size, value len, hid dim]\n",
        "                \n",
        "        Q = Q.view(batch_size, -1, self.n_heads, self.head_dim).permute(0, 2, 1, 3)\n",
        "        K = K.view(batch_size, -1, self.n_heads, self.head_dim).permute(0, 2, 1, 3)\n",
        "        V = V.view(batch_size, -1, self.n_heads, self.head_dim).permute(0, 2, 1, 3)\n",
        "        \n",
        "        #Q = [batch size, n heads, query len, head dim]\n",
        "        #K = [batch size, n heads, key len, head dim]\n",
        "        #V = [batch size, n heads, value len, head dim]\n",
        "                \n",
        "        energy = torch.matmul(Q, K.permute(0, 1, 3, 2)) / self.scale\n",
        "        \n",
        "        #energy = [batch size, n heads, query len, key len]\n",
        "        \n",
        "        if mask is not None:\n",
        "            energy = energy.masked_fill(mask == 0, -1e10)\n",
        "        \n",
        "        attention = torch.softmax(energy, dim = -1)\n",
        "                \n",
        "        #attention = [batch size, n heads, query len, key len]\n",
        "                \n",
        "        x = torch.matmul(self.dropout(attention), V)\n",
        "        \n",
        "        #x = [batch size, n heads, query len, head dim]\n",
        "        \n",
        "        x = x.permute(0, 2, 1, 3).contiguous()\n",
        "        \n",
        "        #x = [batch size, query len, n heads, head dim]\n",
        "        \n",
        "        x = x.view(batch_size, -1, self.hid_dim)\n",
        "        \n",
        "        #x = [batch size, query len, hid dim]\n",
        "        \n",
        "        x = self.fc_o(x)\n",
        "        \n",
        "        #x = [batch size, query len, hid dim]\n",
        "        \n",
        "        return x, attention"
      ],
      "execution_count": 20,
      "outputs": []
    },
    {
      "cell_type": "code",
      "metadata": {
        "id": "R9w9xDUKL7LU"
      },
      "source": [
        "class PositionwiseFeedforwardLayer(nn.Module):\n",
        "    def __init__(self, hid_dim, pf_dim, dropout):\n",
        "        super().__init__()\n",
        "        \n",
        "        self.fc_1 = nn.Linear(hid_dim, pf_dim)\n",
        "        self.fc_2 = nn.Linear(pf_dim, hid_dim)\n",
        "        \n",
        "        self.dropout = nn.Dropout(dropout)\n",
        "        \n",
        "    def forward(self, x):\n",
        "        \n",
        "        #x = [batch size, seq len, hid dim]\n",
        "        \n",
        "        x = self.dropout(torch.relu(self.fc_1(x)))\n",
        "        \n",
        "        #x = [batch size, seq len, pf dim]\n",
        "        \n",
        "        x = self.fc_2(x)\n",
        "        \n",
        "        #x = [batch size, seq len, hid dim]\n",
        "        \n",
        "        return x"
      ],
      "execution_count": 21,
      "outputs": []
    },
    {
      "cell_type": "code",
      "metadata": {
        "id": "iWBMMF45MMNS"
      },
      "source": [
        "class Decoder(nn.Module):\n",
        "    def __init__(self, \n",
        "                 output_dim, \n",
        "                 hid_dim, \n",
        "                 n_layers, \n",
        "                 n_heads, \n",
        "                 pf_dim, \n",
        "                 dropout, \n",
        "                 device,\n",
        "                 max_length = 500):\n",
        "        super().__init__()\n",
        "        \n",
        "        self.device = device\n",
        "        \n",
        "        self.tok_embedding = nn.Embedding.from_pretrained(pre_trained_emb)\n",
        "        self.pos_embedding = nn.Embedding(max_length, hid_dim)\n",
        "        \n",
        "        self.layers = nn.ModuleList([DecoderLayer(hid_dim, \n",
        "                                                  n_heads, \n",
        "                                                  pf_dim, \n",
        "                                                  dropout, \n",
        "                                                  device)\n",
        "                                     for _ in range(n_layers)])\n",
        "        \n",
        "        self.fc_out = nn.Linear(hid_dim, output_dim)\n",
        "        \n",
        "        self.dropout = nn.Dropout(dropout)\n",
        "        \n",
        "        self.scale = torch.sqrt(torch.FloatTensor([hid_dim])).to(self.device)\n",
        "        \n",
        "    def forward(self, trg, enc_src, trg_mask, src_mask):\n",
        "        \n",
        "        #trg = [batch size, trg len]\n",
        "        #enc_src = [batch size, src len, hid dim]\n",
        "        #trg_mask = [batch size, 1, trg len, trg len]\n",
        "        #src_mask = [batch size, 1, 1, src len]\n",
        "                \n",
        "        batch_size = trg.shape[0]\n",
        "        trg_len = trg.shape[1]\n",
        "        \n",
        "        pos = torch.arange(0, trg_len).unsqueeze(0).repeat(batch_size, 1).to(self.device)\n",
        "                            \n",
        "        #pos = [batch size, trg len]\n",
        "            \n",
        "        trg = self.dropout((self.tok_embedding(trg) * self.scale) + self.pos_embedding(pos))\n",
        "        # print(\"deeeeeeeeeeeeeeeeeeeeeeeeeeecoder here\")\n",
        "        #trg = [batch size, trg len, hid dim]\n",
        "        \n",
        "        for layer in self.layers:\n",
        "            trg, attention = layer(trg, enc_src, trg_mask, src_mask)\n",
        "        \n",
        "        #trg = [batch size, trg len, hid dim]\n",
        "        #attention = [batch size, n heads, trg len, src len]\n",
        "        \n",
        "        output = self.fc_out(trg)\n",
        "        \n",
        "        #output = [batch size, trg len, output dim]\n",
        "            \n",
        "        return output, attention"
      ],
      "execution_count": 22,
      "outputs": []
    },
    {
      "cell_type": "code",
      "metadata": {
        "id": "CMEr1IFUMxco"
      },
      "source": [
        "class DecoderLayer(nn.Module):\n",
        "    def __init__(self, \n",
        "                 hid_dim, \n",
        "                 n_heads, \n",
        "                 pf_dim, \n",
        "                 dropout, \n",
        "                 device):\n",
        "        super().__init__()\n",
        "        \n",
        "        self.self_attn_layer_norm = nn.LayerNorm(hid_dim)\n",
        "        self.enc_attn_layer_norm = nn.LayerNorm(hid_dim)\n",
        "        self.ff_layer_norm = nn.LayerNorm(hid_dim)\n",
        "        self.self_attention = MultiHeadAttentionLayer(hid_dim, n_heads, dropout, device)\n",
        "        self.encoder_attention = MultiHeadAttentionLayer(hid_dim, n_heads, dropout, device)\n",
        "        self.positionwise_feedforward = PositionwiseFeedforwardLayer(hid_dim, \n",
        "                                                                     pf_dim, \n",
        "                                                                     dropout)\n",
        "        self.dropout = nn.Dropout(dropout)\n",
        "        \n",
        "    def forward(self, trg, enc_src, trg_mask, src_mask):\n",
        "        \n",
        "        #trg = [batch size, trg len, hid dim]\n",
        "        #enc_src = [batch size, src len, hid dim]\n",
        "        #trg_mask = [batch size, 1, trg len, trg len]\n",
        "        #src_mask = [batch size, 1, 1, src len]\n",
        "        \n",
        "        #self attention\n",
        "        _trg, _ = self.self_attention(trg, trg, trg, trg_mask)\n",
        "        \n",
        "        #dropout, residual connection and layer norm\n",
        "        trg = self.self_attn_layer_norm(trg + self.dropout(_trg))\n",
        "            \n",
        "        #trg = [batch size, trg len, hid dim]\n",
        "            \n",
        "        #encoder attention\n",
        "        _trg, attention = self.encoder_attention(trg, enc_src, enc_src, src_mask)\n",
        "        # query, key, value\n",
        "        \n",
        "        #dropout, residual connection and layer norm\n",
        "        trg = self.enc_attn_layer_norm(trg + self.dropout(_trg))\n",
        "                    \n",
        "        #trg = [batch size, trg len, hid dim]\n",
        "        \n",
        "        #positionwise feedforward\n",
        "        _trg = self.positionwise_feedforward(trg)\n",
        "        \n",
        "        #dropout, residual and layer norm\n",
        "        trg = self.ff_layer_norm(trg + self.dropout(_trg))\n",
        "        \n",
        "        #trg = [batch size, trg len, hid dim]\n",
        "        #attention = [batch size, n heads, trg len, src len]\n",
        "        \n",
        "        return trg, attention"
      ],
      "execution_count": 23,
      "outputs": []
    },
    {
      "cell_type": "code",
      "metadata": {
        "id": "Dr3Mg8OGN6ul"
      },
      "source": [
        "class Seq2Seq(nn.Module):\n",
        "    def __init__(self, \n",
        "                 encoder, \n",
        "                 decoder, \n",
        "                 src_pad_idx, \n",
        "                 trg_pad_idx, \n",
        "                 device):\n",
        "        super().__init__()\n",
        "        \n",
        "        self.encoder = encoder\n",
        "        self.decoder = decoder\n",
        "        self.src_pad_idx = src_pad_idx\n",
        "        self.trg_pad_idx = trg_pad_idx\n",
        "        self.device = device\n",
        "        \n",
        "    def make_src_mask(self, src):\n",
        "        \n",
        "        #src = [batch size, src len]\n",
        "        \n",
        "        src_mask = (src != self.src_pad_idx).unsqueeze(1).unsqueeze(2)\n",
        "\n",
        "        #src_mask = [batch size, 1, 1, src len]\n",
        "\n",
        "        return src_mask\n",
        "    \n",
        "    def make_trg_mask(self, trg):\n",
        "        \n",
        "        #trg = [batch size, trg len]\n",
        "        \n",
        "        trg_pad_mask = (trg != self.trg_pad_idx).unsqueeze(1).unsqueeze(2)\n",
        "        \n",
        "        #trg_pad_mask = [batch size, 1, 1, trg len]\n",
        "        \n",
        "        trg_len = trg.shape[1]\n",
        "        \n",
        "        trg_sub_mask = torch.tril(torch.ones((trg_len, trg_len), device = self.device)).bool()\n",
        "        \n",
        "        #trg_sub_mask = [trg len, trg len]\n",
        "            \n",
        "        trg_mask = trg_pad_mask & trg_sub_mask\n",
        "        \n",
        "        #trg_mask = [batch size, 1, trg len, trg len]\n",
        "        \n",
        "        return trg_mask\n",
        "\n",
        "    def forward(self, src, trg):\n",
        "        \n",
        "        #src = [batch size, src len]\n",
        "        #trg = [batch size, trg len]\n",
        "                \n",
        "        src_mask = self.make_src_mask(src)\n",
        "        trg_mask = self.make_trg_mask(trg)\n",
        "        \n",
        "        #src_mask = [batch size, 1, 1, src len]\n",
        "        #trg_mask = [batch size, 1, trg len, trg len]\n",
        "        # print(\"mask_generated\")\n",
        "        enc_src = self.encoder(src, src_mask)\n",
        "        # print(\"encoded_info\")\n",
        "        #enc_src = [batch size, src len, hid dim]\n",
        "                \n",
        "        output, attention = self.decoder(trg, enc_src, trg_mask, src_mask)\n",
        "        # print(\"decoded_info\")\n",
        "        #output = [batch size, trg len, output dim]\n",
        "        #attention = [batch size, n heads, trg len, src len]\n",
        "        \n",
        "        return output, attention"
      ],
      "execution_count": 24,
      "outputs": []
    },
    {
      "cell_type": "code",
      "metadata": {
        "id": "4zsZjSSWOSHc"
      },
      "source": [
        "INPUT_DIM = len(queue.vocab)\n",
        "OUTPUT_DIM = len(snippet.vocab)\n",
        "HID_DIM = 128\n",
        "ENC_LAYERS = 3\n",
        "DEC_LAYERS = 3\n",
        "ENC_HEADS = 8\n",
        "DEC_HEADS = 8\n",
        "ENC_PF_DIM = 512\n",
        "DEC_PF_DIM = 512\n",
        "ENC_DROPOUT = 0.1\n",
        "DEC_DROPOUT = 0.1\n",
        "\n",
        "enc = Encoder(INPUT_DIM, \n",
        "              HID_DIM, \n",
        "              ENC_LAYERS, \n",
        "              ENC_HEADS, \n",
        "              ENC_PF_DIM, \n",
        "              ENC_DROPOUT, \n",
        "              device)\n",
        "\n",
        "dec = Decoder(OUTPUT_DIM, \n",
        "              HID_DIM, \n",
        "              DEC_LAYERS, \n",
        "              DEC_HEADS, \n",
        "              DEC_PF_DIM, \n",
        "              DEC_DROPOUT, \n",
        "              device)"
      ],
      "execution_count": 25,
      "outputs": []
    },
    {
      "cell_type": "code",
      "metadata": {
        "id": "hE1nNRm-8DEl"
      },
      "source": [
        "QUEUE_PAD_IDX = queue.vocab.stoi[queue.pad_token]\n",
        "SNIPPET_PAD_IDX = snippet.vocab.stoi[snippet.pad_token]\n",
        "\n",
        "model = Seq2Seq(enc, dec, QUEUE_PAD_IDX, SNIPPET_PAD_IDX, device).to(device)"
      ],
      "execution_count": 26,
      "outputs": []
    },
    {
      "cell_type": "code",
      "metadata": {
        "colab": {
          "base_uri": "https://localhost:8080/"
        },
        "id": "Qd0ePzj0OzLa",
        "outputId": "fd4b1890-95bd-4037-ed06-19bbbc935bfb"
      },
      "source": [
        "def count_parameters(model):\n",
        "    return sum(p.numel() for p in model.parameters() if p.requires_grad)\n",
        "\n",
        "print(f'The model has {count_parameters(model):,} trainable parameters')"
      ],
      "execution_count": 27,
      "outputs": [
        {
          "output_type": "stream",
          "text": [
            "The model has 2,770,600 trainable parameters\n"
          ],
          "name": "stdout"
        }
      ]
    },
    {
      "cell_type": "code",
      "metadata": {
        "id": "fmZ0hyo8O0vE"
      },
      "source": [
        "def initialize_weights(m):\n",
        "    if hasattr(m, 'weight') and m.weight.dim() > 1:\n",
        "        nn.init.xavier_uniform_(m.weight.data)"
      ],
      "execution_count": 28,
      "outputs": []
    },
    {
      "cell_type": "code",
      "metadata": {
        "id": "NRtAM9Y4O2N2"
      },
      "source": [
        "model.apply(initialize_weights);"
      ],
      "execution_count": 29,
      "outputs": []
    },
    {
      "cell_type": "code",
      "metadata": {
        "id": "NEpApG3YO3ZE"
      },
      "source": [
        "LEARNING_RATE = 0.0005\n",
        "\n",
        "optimizer = torch.optim.Adam(model.parameters(), lr = LEARNING_RATE)"
      ],
      "execution_count": 30,
      "outputs": []
    },
    {
      "cell_type": "code",
      "metadata": {
        "id": "n9Dy_wWrO46l"
      },
      "source": [
        "# criterion = nn.CrossEntropyLoss(ignore_index = SNIPPET_PAD_IDX)\n"
      ],
      "execution_count": 31,
      "outputs": []
    },
    {
      "cell_type": "code",
      "metadata": {
        "id": "lMgp77E8tCy6"
      },
      "source": [
        "l_one = nn.CrossEntropyLoss(ignore_index = SNIPPET_PAD_IDX)\n",
        "l_two = nn.HingeEmbeddingLoss()\n",
        "def criterion(output,target):\n",
        "  loss = 0.995 * l_one(output, target) + 0.005 * l_two(torch.Tensor.float(output.argmax(1)), target)\n",
        "  return loss"
      ],
      "execution_count": 32,
      "outputs": []
    },
    {
      "cell_type": "code",
      "metadata": {
        "id": "ycBBiEpuO6cG"
      },
      "source": [
        "def train(model, iterator, optimizer, criterion, clip):\n",
        "    \n",
        "    model.train()\n",
        "    \n",
        "    epoch_loss = 0\n",
        "    \n",
        "    for i, batch in enumerate(iterator):\n",
        "        src,_ = batch.queue\n",
        "        trg,_ = batch.snippet\n",
        "        optimizer.zero_grad()\n",
        "        # print(src.shape,trg.shape)\n",
        "        # print(trg)\n",
        "        output, _ = model(src, trg[:,:-1])\n",
        "        #output = [batch size, trg len - 1, output dim]\n",
        "        #trg = [batch size, trg len]\n",
        "            \n",
        "        output_dim = output.shape[-1]\n",
        "            \n",
        "        output = output.contiguous().view(-1, output_dim)\n",
        "        trg = trg[:,1:].contiguous().view(-1)\n",
        "                \n",
        "        #output = [batch size * trg len - 1, output dim]\n",
        "        #trg = [batch size * trg len - 1]\n",
        "            \n",
        "        loss = criterion(output, trg)\n",
        "        \n",
        "        loss.backward()\n",
        "        \n",
        "        torch.nn.utils.clip_grad_norm_(model.parameters(), clip)\n",
        "        \n",
        "        optimizer.step()\n",
        "        \n",
        "        epoch_loss += loss.item()\n",
        "        \n",
        "    return epoch_loss / len(iterator)"
      ],
      "execution_count": 33,
      "outputs": []
    },
    {
      "cell_type": "code",
      "metadata": {
        "id": "zi3Ev8gaO79_"
      },
      "source": [
        "def evaluate(model, iterator, criterion):\n",
        "    \n",
        "    model.eval()\n",
        "    \n",
        "    epoch_loss = 0\n",
        "    \n",
        "    with torch.no_grad():\n",
        "    \n",
        "        for i, batch in enumerate(iterator):\n",
        "            src,_ = batch.queue\n",
        "            trg,_ = batch.snippet\n",
        "\n",
        "            output, _ = model(src, trg[:,:-1])\n",
        "            \n",
        "            #output = [batch size, trg len - 1, output dim]\n",
        "            #trg = [batch size, trg len]\n",
        "            \n",
        "            output_dim = output.shape[-1]\n",
        "            \n",
        "            output = output.contiguous().view(-1, output_dim)\n",
        "            trg = trg[:,1:].contiguous().view(-1)\n",
        "            \n",
        "            #output = [batch size * trg len - 1, output dim]\n",
        "            #trg = [batch size * trg len - 1]\n",
        "            \n",
        "            loss = criterion(output, trg)\n",
        "\n",
        "            epoch_loss += loss.item()\n",
        "        \n",
        "    return epoch_loss / len(iterator)"
      ],
      "execution_count": 34,
      "outputs": []
    },
    {
      "cell_type": "code",
      "metadata": {
        "id": "JuB4JqQRO9Wg"
      },
      "source": [
        "def epoch_time(start_time, end_time):\n",
        "    elapsed_time = end_time - start_time\n",
        "    elapsed_mins = int(elapsed_time / 60)\n",
        "    elapsed_secs = int(elapsed_time - (elapsed_mins * 60))\n",
        "    return elapsed_mins, elapsed_secs"
      ],
      "execution_count": 35,
      "outputs": []
    },
    {
      "cell_type": "code",
      "metadata": {
        "colab": {
          "base_uri": "https://localhost:8080/"
        },
        "id": "aax76Ie4O_Cr",
        "outputId": "ea3ddb2f-bf96-4d15-cfcd-4d876948c92e"
      },
      "source": [
        "N_EPOCHS = 100\n",
        "CLIP = 1\n",
        "\n",
        "best_valid_loss = float('inf')\n",
        "\n",
        "for epoch in range(N_EPOCHS):\n",
        "    \n",
        "    start_time = time.time()\n",
        "    \n",
        "    train_loss = train(model, train_iterator, optimizer, criterion, CLIP)\n",
        "    valid_loss = evaluate(model, valid_iterator, criterion)\n",
        "    end_time = time.time()\n",
        "    \n",
        "    epoch_mins, epoch_secs = epoch_time(start_time, end_time)\n",
        "    \n",
        "    if valid_loss < best_valid_loss:\n",
        "        best_valid_loss = valid_loss\n",
        "        torch.save(model.state_dict(), 'tut6-model.pt')\n",
        "    \n",
        "    print(f'Epoch: {epoch+1:02} | Time: {epoch_mins}m {epoch_secs}s')\n",
        "    print(f'\\tTrain Loss: {train_loss:.3f} | Train PPL: {math.exp(train_loss):7.3f}')\n",
        "    print(f'\\t Val. Loss: {valid_loss:.3f} |  Val. PPL: {math.exp(valid_loss):7.3f}')"
      ],
      "execution_count": 47,
      "outputs": [
        {
          "output_type": "stream",
          "text": [
            "Epoch: 01 | Time: 0m 7s\n",
            "\tTrain Loss: 1.808 | Train PPL:   6.098\n",
            "\t Val. Loss: 2.010 |  Val. PPL:   7.463\n",
            "Epoch: 02 | Time: 0m 7s\n",
            "\tTrain Loss: 1.719 | Train PPL:   5.578\n",
            "\t Val. Loss: 1.973 |  Val. PPL:   7.190\n",
            "Epoch: 03 | Time: 0m 7s\n",
            "\tTrain Loss: 1.649 | Train PPL:   5.201\n",
            "\t Val. Loss: 1.941 |  Val. PPL:   6.967\n",
            "Epoch: 04 | Time: 0m 7s\n",
            "\tTrain Loss: 1.583 | Train PPL:   4.870\n",
            "\t Val. Loss: 1.909 |  Val. PPL:   6.744\n",
            "Epoch: 05 | Time: 0m 7s\n",
            "\tTrain Loss: 1.529 | Train PPL:   4.611\n",
            "\t Val. Loss: 1.891 |  Val. PPL:   6.624\n",
            "Epoch: 06 | Time: 0m 7s\n",
            "\tTrain Loss: 1.474 | Train PPL:   4.365\n",
            "\t Val. Loss: 1.874 |  Val. PPL:   6.515\n",
            "Epoch: 07 | Time: 0m 7s\n",
            "\tTrain Loss: 1.430 | Train PPL:   4.177\n",
            "\t Val. Loss: 1.838 |  Val. PPL:   6.287\n",
            "Epoch: 08 | Time: 0m 7s\n",
            "\tTrain Loss: 1.385 | Train PPL:   3.996\n",
            "\t Val. Loss: 1.829 |  Val. PPL:   6.226\n",
            "Epoch: 09 | Time: 0m 7s\n",
            "\tTrain Loss: 1.347 | Train PPL:   3.846\n",
            "\t Val. Loss: 1.808 |  Val. PPL:   6.100\n",
            "Epoch: 10 | Time: 0m 7s\n",
            "\tTrain Loss: 1.309 | Train PPL:   3.703\n",
            "\t Val. Loss: 1.819 |  Val. PPL:   6.168\n",
            "Epoch: 11 | Time: 0m 7s\n",
            "\tTrain Loss: 1.279 | Train PPL:   3.592\n",
            "\t Val. Loss: 1.826 |  Val. PPL:   6.209\n",
            "Epoch: 12 | Time: 0m 7s\n",
            "\tTrain Loss: 1.255 | Train PPL:   3.509\n",
            "\t Val. Loss: 1.789 |  Val. PPL:   5.986\n",
            "Epoch: 13 | Time: 0m 7s\n",
            "\tTrain Loss: 1.231 | Train PPL:   3.423\n",
            "\t Val. Loss: 1.794 |  Val. PPL:   6.011\n",
            "Epoch: 14 | Time: 0m 7s\n",
            "\tTrain Loss: 1.209 | Train PPL:   3.349\n",
            "\t Val. Loss: 1.787 |  Val. PPL:   5.974\n",
            "Epoch: 15 | Time: 0m 7s\n",
            "\tTrain Loss: 1.193 | Train PPL:   3.296\n",
            "\t Val. Loss: 1.789 |  Val. PPL:   5.986\n",
            "Epoch: 16 | Time: 0m 7s\n",
            "\tTrain Loss: 1.166 | Train PPL:   3.210\n",
            "\t Val. Loss: 1.800 |  Val. PPL:   6.050\n",
            "Epoch: 17 | Time: 0m 7s\n",
            "\tTrain Loss: 1.145 | Train PPL:   3.144\n",
            "\t Val. Loss: 1.797 |  Val. PPL:   6.035\n",
            "Epoch: 18 | Time: 0m 7s\n",
            "\tTrain Loss: 1.133 | Train PPL:   3.106\n",
            "\t Val. Loss: 1.815 |  Val. PPL:   6.144\n",
            "Epoch: 19 | Time: 0m 7s\n",
            "\tTrain Loss: 1.109 | Train PPL:   3.031\n",
            "\t Val. Loss: 1.813 |  Val. PPL:   6.127\n",
            "Epoch: 20 | Time: 0m 7s\n",
            "\tTrain Loss: 1.088 | Train PPL:   2.970\n",
            "\t Val. Loss: 1.804 |  Val. PPL:   6.072\n",
            "Epoch: 21 | Time: 0m 7s\n",
            "\tTrain Loss: 1.076 | Train PPL:   2.934\n",
            "\t Val. Loss: 1.818 |  Val. PPL:   6.158\n",
            "Epoch: 22 | Time: 0m 7s\n",
            "\tTrain Loss: 1.066 | Train PPL:   2.903\n",
            "\t Val. Loss: 1.814 |  Val. PPL:   6.136\n",
            "Epoch: 23 | Time: 0m 7s\n",
            "\tTrain Loss: 1.048 | Train PPL:   2.852\n",
            "\t Val. Loss: 1.812 |  Val. PPL:   6.122\n",
            "Epoch: 24 | Time: 0m 7s\n",
            "\tTrain Loss: 1.027 | Train PPL:   2.791\n",
            "\t Val. Loss: 1.820 |  Val. PPL:   6.171\n",
            "Epoch: 25 | Time: 0m 7s\n",
            "\tTrain Loss: 1.023 | Train PPL:   2.781\n",
            "\t Val. Loss: 1.819 |  Val. PPL:   6.165\n",
            "Epoch: 26 | Time: 0m 7s\n",
            "\tTrain Loss: 1.007 | Train PPL:   2.738\n",
            "\t Val. Loss: 1.833 |  Val. PPL:   6.251\n",
            "Epoch: 27 | Time: 0m 7s\n",
            "\tTrain Loss: 0.980 | Train PPL:   2.663\n",
            "\t Val. Loss: 1.815 |  Val. PPL:   6.140\n",
            "Epoch: 28 | Time: 0m 7s\n",
            "\tTrain Loss: 0.964 | Train PPL:   2.623\n",
            "\t Val. Loss: 1.792 |  Val. PPL:   5.999\n",
            "Epoch: 29 | Time: 0m 7s\n",
            "\tTrain Loss: 0.969 | Train PPL:   2.636\n",
            "\t Val. Loss: 1.824 |  Val. PPL:   6.195\n",
            "Epoch: 30 | Time: 0m 7s\n",
            "\tTrain Loss: 0.944 | Train PPL:   2.569\n",
            "\t Val. Loss: 1.816 |  Val. PPL:   6.146\n",
            "Epoch: 31 | Time: 0m 7s\n",
            "\tTrain Loss: 0.942 | Train PPL:   2.564\n",
            "\t Val. Loss: 1.830 |  Val. PPL:   6.236\n",
            "Epoch: 32 | Time: 0m 7s\n",
            "\tTrain Loss: 0.927 | Train PPL:   2.526\n",
            "\t Val. Loss: 1.836 |  Val. PPL:   6.274\n",
            "Epoch: 33 | Time: 0m 7s\n",
            "\tTrain Loss: 0.922 | Train PPL:   2.514\n",
            "\t Val. Loss: 1.854 |  Val. PPL:   6.385\n",
            "Epoch: 34 | Time: 0m 7s\n",
            "\tTrain Loss: 0.904 | Train PPL:   2.469\n",
            "\t Val. Loss: 1.856 |  Val. PPL:   6.399\n",
            "Epoch: 35 | Time: 0m 7s\n",
            "\tTrain Loss: 0.905 | Train PPL:   2.471\n",
            "\t Val. Loss: 1.845 |  Val. PPL:   6.331\n",
            "Epoch: 36 | Time: 0m 7s\n",
            "\tTrain Loss: 0.878 | Train PPL:   2.406\n",
            "\t Val. Loss: 1.831 |  Val. PPL:   6.242\n",
            "Epoch: 37 | Time: 0m 7s\n",
            "\tTrain Loss: 0.880 | Train PPL:   2.411\n",
            "\t Val. Loss: 1.845 |  Val. PPL:   6.325\n",
            "Epoch: 38 | Time: 0m 7s\n",
            "\tTrain Loss: 0.872 | Train PPL:   2.393\n",
            "\t Val. Loss: 1.868 |  Val. PPL:   6.472\n",
            "Epoch: 39 | Time: 0m 7s\n",
            "\tTrain Loss: 0.854 | Train PPL:   2.350\n",
            "\t Val. Loss: 1.862 |  Val. PPL:   6.437\n",
            "Epoch: 40 | Time: 0m 7s\n",
            "\tTrain Loss: 0.850 | Train PPL:   2.339\n",
            "\t Val. Loss: 1.881 |  Val. PPL:   6.561\n",
            "Epoch: 41 | Time: 0m 7s\n",
            "\tTrain Loss: 0.842 | Train PPL:   2.321\n",
            "\t Val. Loss: 1.890 |  Val. PPL:   6.617\n",
            "Epoch: 42 | Time: 0m 7s\n",
            "\tTrain Loss: 0.825 | Train PPL:   2.282\n",
            "\t Val. Loss: 1.897 |  Val. PPL:   6.668\n",
            "Epoch: 43 | Time: 0m 7s\n",
            "\tTrain Loss: 0.824 | Train PPL:   2.280\n",
            "\t Val. Loss: 1.897 |  Val. PPL:   6.663\n",
            "Epoch: 44 | Time: 0m 7s\n",
            "\tTrain Loss: 0.826 | Train PPL:   2.284\n",
            "\t Val. Loss: 1.900 |  Val. PPL:   6.685\n",
            "Epoch: 45 | Time: 0m 7s\n",
            "\tTrain Loss: 0.817 | Train PPL:   2.263\n",
            "\t Val. Loss: 1.897 |  Val. PPL:   6.668\n",
            "Epoch: 46 | Time: 0m 7s\n",
            "\tTrain Loss: 0.805 | Train PPL:   2.237\n",
            "\t Val. Loss: 1.920 |  Val. PPL:   6.824\n",
            "Epoch: 47 | Time: 0m 7s\n",
            "\tTrain Loss: 0.799 | Train PPL:   2.223\n",
            "\t Val. Loss: 1.914 |  Val. PPL:   6.781\n",
            "Epoch: 48 | Time: 0m 7s\n",
            "\tTrain Loss: 0.800 | Train PPL:   2.225\n",
            "\t Val. Loss: 1.907 |  Val. PPL:   6.735\n",
            "Epoch: 49 | Time: 0m 7s\n",
            "\tTrain Loss: 0.785 | Train PPL:   2.193\n",
            "\t Val. Loss: 1.923 |  Val. PPL:   6.839\n",
            "Epoch: 50 | Time: 0m 7s\n",
            "\tTrain Loss: 0.779 | Train PPL:   2.179\n",
            "\t Val. Loss: 1.930 |  Val. PPL:   6.886\n",
            "Epoch: 51 | Time: 0m 7s\n",
            "\tTrain Loss: 0.772 | Train PPL:   2.165\n",
            "\t Val. Loss: 1.927 |  Val. PPL:   6.870\n",
            "Epoch: 52 | Time: 0m 7s\n",
            "\tTrain Loss: 0.773 | Train PPL:   2.167\n",
            "\t Val. Loss: 1.929 |  Val. PPL:   6.881\n",
            "Epoch: 53 | Time: 0m 7s\n",
            "\tTrain Loss: 0.759 | Train PPL:   2.136\n",
            "\t Val. Loss: 1.942 |  Val. PPL:   6.975\n",
            "Epoch: 54 | Time: 0m 7s\n",
            "\tTrain Loss: 0.754 | Train PPL:   2.125\n",
            "\t Val. Loss: 1.942 |  Val. PPL:   6.971\n",
            "Epoch: 55 | Time: 0m 7s\n",
            "\tTrain Loss: 0.754 | Train PPL:   2.126\n",
            "\t Val. Loss: 1.938 |  Val. PPL:   6.944\n",
            "Epoch: 56 | Time: 0m 7s\n",
            "\tTrain Loss: 0.744 | Train PPL:   2.105\n",
            "\t Val. Loss: 1.962 |  Val. PPL:   7.116\n",
            "Epoch: 57 | Time: 0m 7s\n",
            "\tTrain Loss: 0.738 | Train PPL:   2.091\n",
            "\t Val. Loss: 1.983 |  Val. PPL:   7.265\n",
            "Epoch: 58 | Time: 0m 7s\n",
            "\tTrain Loss: 0.740 | Train PPL:   2.095\n",
            "\t Val. Loss: 1.966 |  Val. PPL:   7.141\n",
            "Epoch: 59 | Time: 0m 7s\n",
            "\tTrain Loss: 0.724 | Train PPL:   2.062\n",
            "\t Val. Loss: 1.967 |  Val. PPL:   7.149\n",
            "Epoch: 60 | Time: 0m 7s\n",
            "\tTrain Loss: 0.735 | Train PPL:   2.085\n",
            "\t Val. Loss: 2.005 |  Val. PPL:   7.423\n",
            "Epoch: 61 | Time: 0m 7s\n",
            "\tTrain Loss: 0.730 | Train PPL:   2.075\n",
            "\t Val. Loss: 1.985 |  Val. PPL:   7.282\n",
            "Epoch: 62 | Time: 0m 7s\n",
            "\tTrain Loss: 0.706 | Train PPL:   2.027\n",
            "\t Val. Loss: 1.986 |  Val. PPL:   7.285\n",
            "Epoch: 63 | Time: 0m 7s\n",
            "\tTrain Loss: 0.716 | Train PPL:   2.047\n",
            "\t Val. Loss: 1.973 |  Val. PPL:   7.190\n",
            "Epoch: 64 | Time: 0m 7s\n",
            "\tTrain Loss: 0.710 | Train PPL:   2.033\n",
            "\t Val. Loss: 1.998 |  Val. PPL:   7.374\n",
            "Epoch: 65 | Time: 0m 7s\n",
            "\tTrain Loss: 0.707 | Train PPL:   2.029\n",
            "\t Val. Loss: 2.003 |  Val. PPL:   7.409\n",
            "Epoch: 66 | Time: 0m 7s\n",
            "\tTrain Loss: 0.708 | Train PPL:   2.031\n",
            "\t Val. Loss: 1.991 |  Val. PPL:   7.324\n",
            "Epoch: 67 | Time: 0m 7s\n",
            "\tTrain Loss: 0.703 | Train PPL:   2.020\n",
            "\t Val. Loss: 2.009 |  Val. PPL:   7.455\n",
            "Epoch: 68 | Time: 0m 7s\n",
            "\tTrain Loss: 0.696 | Train PPL:   2.005\n",
            "\t Val. Loss: 2.013 |  Val. PPL:   7.483\n",
            "Epoch: 69 | Time: 0m 7s\n",
            "\tTrain Loss: 0.685 | Train PPL:   1.983\n",
            "\t Val. Loss: 2.029 |  Val. PPL:   7.604\n",
            "Epoch: 70 | Time: 0m 7s\n",
            "\tTrain Loss: 0.681 | Train PPL:   1.976\n",
            "\t Val. Loss: 2.024 |  Val. PPL:   7.571\n",
            "Epoch: 71 | Time: 0m 7s\n",
            "\tTrain Loss: 0.678 | Train PPL:   1.969\n",
            "\t Val. Loss: 2.022 |  Val. PPL:   7.557\n",
            "Epoch: 72 | Time: 0m 7s\n",
            "\tTrain Loss: 0.683 | Train PPL:   1.979\n",
            "\t Val. Loss: 2.036 |  Val. PPL:   7.661\n",
            "Epoch: 73 | Time: 0m 7s\n",
            "\tTrain Loss: 0.683 | Train PPL:   1.981\n",
            "\t Val. Loss: 2.064 |  Val. PPL:   7.878\n",
            "Epoch: 74 | Time: 0m 7s\n",
            "\tTrain Loss: 0.663 | Train PPL:   1.940\n",
            "\t Val. Loss: 2.053 |  Val. PPL:   7.789\n",
            "Epoch: 75 | Time: 0m 7s\n",
            "\tTrain Loss: 0.663 | Train PPL:   1.941\n",
            "\t Val. Loss: 2.060 |  Val. PPL:   7.845\n",
            "Epoch: 76 | Time: 0m 7s\n",
            "\tTrain Loss: 0.660 | Train PPL:   1.936\n",
            "\t Val. Loss: 2.052 |  Val. PPL:   7.782\n",
            "Epoch: 77 | Time: 0m 7s\n",
            "\tTrain Loss: 0.653 | Train PPL:   1.922\n",
            "\t Val. Loss: 2.049 |  Val. PPL:   7.758\n",
            "Epoch: 78 | Time: 0m 7s\n",
            "\tTrain Loss: 0.655 | Train PPL:   1.926\n",
            "\t Val. Loss: 2.070 |  Val. PPL:   7.926\n",
            "Epoch: 79 | Time: 0m 7s\n",
            "\tTrain Loss: 0.649 | Train PPL:   1.914\n",
            "\t Val. Loss: 2.059 |  Val. PPL:   7.838\n",
            "Epoch: 80 | Time: 0m 7s\n",
            "\tTrain Loss: 0.643 | Train PPL:   1.902\n",
            "\t Val. Loss: 2.051 |  Val. PPL:   7.774\n",
            "Epoch: 81 | Time: 0m 7s\n",
            "\tTrain Loss: 0.652 | Train PPL:   1.919\n",
            "\t Val. Loss: 2.081 |  Val. PPL:   8.015\n",
            "Epoch: 82 | Time: 0m 7s\n",
            "\tTrain Loss: 0.647 | Train PPL:   1.910\n",
            "\t Val. Loss: 2.075 |  Val. PPL:   7.968\n",
            "Epoch: 83 | Time: 0m 7s\n",
            "\tTrain Loss: 0.647 | Train PPL:   1.910\n",
            "\t Val. Loss: 2.074 |  Val. PPL:   7.956\n",
            "Epoch: 84 | Time: 0m 7s\n",
            "\tTrain Loss: 0.646 | Train PPL:   1.909\n",
            "\t Val. Loss: 2.075 |  Val. PPL:   7.968\n",
            "Epoch: 85 | Time: 0m 7s\n",
            "\tTrain Loss: 0.636 | Train PPL:   1.889\n",
            "\t Val. Loss: 2.089 |  Val. PPL:   8.078\n",
            "Epoch: 86 | Time: 0m 7s\n",
            "\tTrain Loss: 0.627 | Train PPL:   1.872\n",
            "\t Val. Loss: 2.085 |  Val. PPL:   8.046\n",
            "Epoch: 87 | Time: 0m 7s\n",
            "\tTrain Loss: 0.623 | Train PPL:   1.864\n",
            "\t Val. Loss: 2.111 |  Val. PPL:   8.260\n",
            "Epoch: 88 | Time: 0m 7s\n",
            "\tTrain Loss: 0.619 | Train PPL:   1.858\n",
            "\t Val. Loss: 2.113 |  Val. PPL:   8.272\n",
            "Epoch: 89 | Time: 0m 7s\n",
            "\tTrain Loss: 0.613 | Train PPL:   1.846\n",
            "\t Val. Loss: 2.105 |  Val. PPL:   8.208\n",
            "Epoch: 90 | Time: 0m 7s\n",
            "\tTrain Loss: 0.610 | Train PPL:   1.841\n",
            "\t Val. Loss: 2.123 |  Val. PPL:   8.356\n",
            "Epoch: 91 | Time: 0m 7s\n",
            "\tTrain Loss: 0.610 | Train PPL:   1.840\n",
            "\t Val. Loss: 2.122 |  Val. PPL:   8.347\n",
            "Epoch: 92 | Time: 0m 7s\n",
            "\tTrain Loss: 0.616 | Train PPL:   1.852\n",
            "\t Val. Loss: 2.119 |  Val. PPL:   8.324\n",
            "Epoch: 93 | Time: 0m 7s\n",
            "\tTrain Loss: 0.606 | Train PPL:   1.833\n",
            "\t Val. Loss: 2.126 |  Val. PPL:   8.382\n",
            "Epoch: 94 | Time: 0m 7s\n",
            "\tTrain Loss: 0.602 | Train PPL:   1.826\n",
            "\t Val. Loss: 2.142 |  Val. PPL:   8.512\n",
            "Epoch: 95 | Time: 0m 7s\n",
            "\tTrain Loss: 0.602 | Train PPL:   1.825\n",
            "\t Val. Loss: 2.139 |  Val. PPL:   8.488\n",
            "Epoch: 96 | Time: 0m 7s\n",
            "\tTrain Loss: 0.612 | Train PPL:   1.843\n",
            "\t Val. Loss: 2.153 |  Val. PPL:   8.613\n",
            "Epoch: 97 | Time: 0m 7s\n",
            "\tTrain Loss: 0.600 | Train PPL:   1.822\n",
            "\t Val. Loss: 2.145 |  Val. PPL:   8.539\n",
            "Epoch: 98 | Time: 0m 7s\n",
            "\tTrain Loss: 0.592 | Train PPL:   1.807\n",
            "\t Val. Loss: 2.158 |  Val. PPL:   8.658\n",
            "Epoch: 99 | Time: 0m 7s\n",
            "\tTrain Loss: 0.597 | Train PPL:   1.816\n",
            "\t Val. Loss: 2.141 |  Val. PPL:   8.510\n",
            "Epoch: 100 | Time: 0m 7s\n",
            "\tTrain Loss: 0.593 | Train PPL:   1.810\n",
            "\t Val. Loss: 2.144 |  Val. PPL:   8.533\n"
          ],
          "name": "stdout"
        }
      ]
    },
    {
      "cell_type": "code",
      "metadata": {
        "id": "ieIjql9uPKH1"
      },
      "source": [
        "def translate_sentence(sentence, src_field, trg_field, model, device, max_len = 450):\n",
        "    model.eval()   \n",
        "    if isinstance(sentence, str):\n",
        "        nlp = spacy.load('de')\n",
        "        tokens = [token.text.lower() for token in nlp(sentence)]\n",
        "    else:\n",
        "        tokens = [token.lower() for token in sentence]\n",
        "\n",
        "    tokens = [src_field.init_token] + tokens + [src_field.eos_token]\n",
        "        \n",
        "    src_indexes = [src_field.vocab.stoi[token] for token in tokens]\n",
        "\n",
        "    src_tensor = torch.LongTensor(src_indexes).unsqueeze(0).to(device)\n",
        "    \n",
        "    src_mask = model.make_src_mask(src_tensor)\n",
        "    \n",
        "    with torch.no_grad():\n",
        "        enc_src = model.encoder(src_tensor, src_mask)\n",
        "\n",
        "    trg_indexes = [trg_field.vocab.stoi[trg_field.init_token]]\n",
        "\n",
        "    for i in range(max_len):\n",
        "\n",
        "        trg_tensor = torch.LongTensor(trg_indexes).unsqueeze(0).to(device)\n",
        "\n",
        "        trg_mask = model.make_trg_mask(trg_tensor)\n",
        "        \n",
        "        with torch.no_grad():\n",
        "            output, attention = model.decoder(trg_tensor, enc_src, trg_mask, src_mask)\n",
        "        \n",
        "        pred_token = output.argmax(2)[:,-1].item()\n",
        "        \n",
        "        trg_indexes.append(pred_token)\n",
        "\n",
        "        if pred_token == trg_field.vocab.stoi[trg_field.eos_token]:\n",
        "            break\n",
        "    \n",
        "    trg_tokens = [trg_field.vocab.itos[i] for i in trg_indexes]\n",
        "    \n",
        "    return trg_tokens[1:], attention"
      ],
      "execution_count": 48,
      "outputs": []
    },
    {
      "cell_type": "code",
      "metadata": {
        "colab": {
          "base_uri": "https://localhost:8080/"
        },
        "id": "c9_GobzqP1EK",
        "outputId": "adf7f0b9-f17e-4477-8c09-da94d8583ddb"
      },
      "source": [
        "example_idx = 21\n",
        "\n",
        "src = vars(train_data.examples[example_idx])['queue']\n",
        "trg = vars(train_data.examples[example_idx])['snippet']\n",
        "\n",
        "print(f'src = {src}')\n",
        "print(f'trg = {trg}')"
      ],
      "execution_count": 49,
      "outputs": [
        {
          "output_type": "stream",
          "text": [
            "src = ['write ', 'a ', 'python ', 'function ', 'to ', 'perform ', 'random ', 'selection ', 'from ', 'itertools.combinations_with_replacement(iterable', ', ', 'r', ')']\n",
            "trg = ['def', 'random_combination_with_replacement', '(', 'iterable', ',', 'r', ')', ':', '\\n', '\\t', 'import', 'random', '\\n', 'pool', '=', 'tuple', '(', 'iterable', ')', '\\n', 'n', '=', 'len', '(', 'pool', ')', '\\n', 'indices', '=', 'sorted', '(', 'random', '.', 'choices', '(', 'range', '(', 'n', ')', ',', 'k', '=', 'r', ')', ')', '\\n', 'return', 'tuple', '(', 'pool', '[', 'i', ']', 'for', 'i', 'in', 'indices', ')', '', '', '']\n"
          ],
          "name": "stdout"
        }
      ]
    },
    {
      "cell_type": "code",
      "metadata": {
        "colab": {
          "base_uri": "https://localhost:8080/",
          "height": 1000
        },
        "id": "tsMSg78wmlvY",
        "outputId": "04ab9f0a-6162-4df0-e633-bdc09efb8c05"
      },
      "source": [
        "def display_attention(sentence, translation, attention, n_heads = 8, n_rows = 4, n_cols = 2):\n",
        "    \n",
        "    assert n_rows * n_cols == n_heads\n",
        "    \n",
        "    fig = plt.figure(figsize=(15,25))\n",
        "    \n",
        "    for i in range(n_heads):\n",
        "        \n",
        "        ax = fig.add_subplot(n_rows, n_cols, i+1)\n",
        "        \n",
        "        _attention = attention.squeeze(0)[i].cpu().detach().numpy()\n",
        "\n",
        "        cax = ax.matshow(_attention, cmap='bone')\n",
        "\n",
        "        ax.tick_params(labelsize=12)\n",
        "        ax.set_xticklabels(['']+['<sos>']+[t.lower() for t in sentence]+['<eos>'], \n",
        "                           rotation=45)\n",
        "        ax.set_yticklabels(['']+translation)\n",
        "\n",
        "        ax.xaxis.set_major_locator(ticker.MultipleLocator(1))\n",
        "        ax.yaxis.set_major_locator(ticker.MultipleLocator(1))\n",
        "    plt.savefig('foo.png')\n",
        "    plt.show()\n",
        "user_queue = \"write  a  python  function  to  merge  two  given  lists  into  one\"\n",
        "\n",
        "fields_1 = [('queue', queue),('snippet',snippet)]\n",
        "temp = data.Example.fromlist([user_queue,\"\"], fields_1)\n",
        "translation, attention = translate_sentence(vars(temp)[\"queue\"], queue, snippet, model, device)\n",
        "display_attention(vars(temp)[\"queue\"], translation[:-1], attention)"
      ],
      "execution_count": 52,
      "outputs": [
        {
          "output_type": "stream",
          "text": [
            "/usr/local/lib/python3.7/dist-packages/matplotlib/backends/backend_agg.py:214: RuntimeWarning: Glyph 9 missing from current font.\n",
            "  font.set_text(s, 0.0, flags=flags)\n",
            "/usr/local/lib/python3.7/dist-packages/matplotlib/backends/backend_agg.py:183: RuntimeWarning: Glyph 9 missing from current font.\n",
            "  font.set_text(s, 0, flags=flags)\n"
          ],
          "name": "stderr"
        },
        {
          "output_type": "display_data",
          "data": {
            "image/png": "[encoded data removed]",
            "text/plain": [
              "<Figure size 1080x1800 with 8 Axes>"
            ]
          },
          "metadata": {
            "tags": [],
            "needs_background": "light"
          }
        }
      ]
    },
    {
      "cell_type": "code",
      "metadata": {
        "colab": {
          "base_uri": "https://localhost:8080/"
        },
        "id": "ZClnmzRj42IL",
        "outputId": "5033780c-0e4c-493b-89c1-14f5232f06cb"
      },
      "source": [
        "src,trg = vars(example[1])['queue'],vars(example[1])['snippet']\n",
        "\n",
        "print(\"queue:\")\n",
        "print(\" \".join(src))\n",
        "print(\"*\"*50)\n",
        "print(\"\\nsnippet:\")\n",
        "print(\" \".join(trg))\n",
        "print(\"*\"*50)\n",
        "translation, attention = translate_sentence(src, queue, snippet, model, device)\n",
        "# print(f'predicted trg = {translation}')\n",
        "print(\"\\npredicted:\")\n",
        "print(\" \".join(translation[:-1]))"
      ],
      "execution_count": 53,
      "outputs": [
        {
          "output_type": "stream",
          "text": [
            "queue:\n",
            "write  a  python  function  to  add  two  user  provided  numbers  and  return  the  sum\n",
            "**************************************************\n",
            "\n",
            "snippet:\n",
            "def add_two_numbers ( num1 , num2 ) : \n",
            " \t sum = num1 + num2 \n",
            " return sum   \n",
            "**************************************************\n",
            "\n",
            "predicted:\n",
            "def add_two_numbers ( num1 , num2 ) : \n",
            " \t sum = num1 + num2 \n",
            " return sum   \n"
          ],
          "name": "stdout"
        }
      ]
    },
    {
      "cell_type": "code",
      "metadata": {
        "id": "JWUPCU6PCtFw"
      },
      "source": [
        ""
      ],
      "execution_count": null,
      "outputs": []
    },
    {
      "cell_type": "code",
      "metadata": {
        "colab": {
          "base_uri": "https://localhost:8080/"
        },
        "id": "aNssNDxx6r99",
        "outputId": "17d848b0-e700-4a8e-e801-39961cd3bf9d"
      },
      "source": [
        "for i in range(10):\n",
        "  src,trg = vars(example[i])['queue'],vars(example[i])['snippet']\n",
        "  print(\"#\"*100)\n",
        "  print(\"queue:\")\n",
        "  print(\" \".join(src))\n",
        "  print(\"*\"*50)\n",
        "  print(\"\\nsnippet:\\n\")\n",
        "  print(\" \".join(trg))\n",
        "  print(\"*\"*50)\n",
        "  translation, attention = translate_sentence(src, queue, snippet, model, device)\n",
        "  # print(f'predicted trg = {translation}')\n",
        "  print(\"\\npredicted:\")\n",
        "  print(\" \".join(translation[:-1]))\n",
        "  print(\"#\"*100)\n",
        "  print(\"\")"
      ],
      "execution_count": 54,
      "outputs": [
        {
          "output_type": "stream",
          "text": [
            "####################################################################################################\n",
            "queue:\n",
            "#  write  a  python  program  to  add  two  numbers \n",
            "**************************************************\n",
            "\n",
            "snippet:\n",
            "\n",
            "num1 = 1.5 \n",
            " num2 = 6.3 \n",
            " sum = num1 + num2 \n",
            " print ( f'Sum: {sum}' )  \n",
            "**************************************************\n",
            "\n",
            "predicted:\n",
            "num1 = 1.5 \n",
            " num2 = 6.3 \n",
            " sum = num1 + num2 \n",
            " print ( f'Sum: {sum}' )  \n",
            "####################################################################################################\n",
            "\n",
            "####################################################################################################\n",
            "queue:\n",
            "write  a  python  function  to  add  two  user  provided  numbers  and  return  the  sum\n",
            "**************************************************\n",
            "\n",
            "snippet:\n",
            "\n",
            "def add_two_numbers ( num1 , num2 ) : \n",
            " \t sum = num1 + num2 \n",
            " return sum   \n",
            "**************************************************\n",
            "\n",
            "predicted:\n",
            "def add_two_numbers ( num1 , num2 ) : \n",
            " \t sum = num1 + num2 \n",
            " return sum   \n",
            "####################################################################################################\n",
            "\n",
            "####################################################################################################\n",
            "queue:\n",
            "write  a  program  to  find  and  print  the  largest  among  three  numbers\n",
            "**************************************************\n",
            "\n",
            "snippet:\n",
            "\n",
            "num1 = 10 \n",
            " num2 = 12 \n",
            " num3 = 14 \n",
            " if ( num1 >= num2 ) and ( num1 >= num3 ) : \n",
            " \t largest = num1 \n",
            "  elif ( num2 >= num1 ) and ( num2 >= num3 ) : \n",
            " \t largest = num2 \n",
            "  else : \n",
            " \t largest = num3 \n",
            "  print ( f'largest:{largest}' )  \n",
            "**************************************************\n",
            "\n",
            "predicted:\n",
            "num1 = 10 \n",
            " num2 = 12 \n",
            " num3 = 14 \n",
            " if ( num1 >= num2 ) and ( num1 >= num3 ) : \n",
            " \t largest = num1 \n",
            "  elif ( num2 >= num1 ) and ( num2 >= num3 ) : \n",
            " \t largest = num2 \n",
            "  else : largest = num3 \n",
            " print ( f'largest:{largest}' )  \n",
            "####################################################################################################\n",
            "\n",
            "####################################################################################################\n",
            "queue:\n",
            "write  a  program  to  find  and  print  the  smallest  among  three  numbers\n",
            "**************************************************\n",
            "\n",
            "snippet:\n",
            "\n",
            "num1 = 10 \n",
            " num2 = 12 \n",
            " num3 = 14 \n",
            " if ( num1 <= num2 ) and ( num1 <= num3 ) : \n",
            " \t smallest = num1 \n",
            "  elif ( num2 <= num1 ) and ( num2 <= num3 ) : \n",
            " \t smallest = num2 \n",
            "  else : \n",
            " \t smallest = num3 \n",
            "  print ( f'smallest:{smallest}' )  \n",
            "**************************************************\n",
            "\n",
            "predicted:\n",
            "num1 = 10 \n",
            " num2 = 12 \n",
            " num3 = 14 \n",
            " if ( num1 <= num2 ) and ( num1 <= num3 ) : \n",
            " \t smallest = num1 \n",
            "  elif ( num2 <= num1 ) and ( num2 <= num3 ) : \n",
            " \t smallest = num3 \n",
            "  else : \n",
            " \t smallest = num3 \n",
            "  print ( f'smallest:{smallest}' )  \n",
            "####################################################################################################\n",
            "\n",
            "####################################################################################################\n",
            "queue:\n",
            "Write  a  python  function  to  merge  two  given  lists  into  one\n",
            "**************************************************\n",
            "\n",
            "snippet:\n",
            "\n",
            "def merge_lists ( l1 , l2 ) : \n",
            " \t return l1 + l2   \n",
            "**************************************************\n",
            "\n",
            "predicted:\n",
            "def merge_lists ( l1 , l2 ) : \n",
            " \t return l1 + l2   \n",
            "####################################################################################################\n",
            "\n",
            "####################################################################################################\n",
            "queue:\n",
            "Write  a  program  to  check  whether  a  number  is  prime  or  not\n",
            "**************************************************\n",
            "\n",
            "snippet:\n",
            "\n",
            "num = 337 \n",
            " \n",
            " if num > 1 : \n",
            " \t for i in range ( 2 , num // 2 + 1 ) : \n",
            " \t \t if ( num % i ) == 0 : \n",
            " \t \t \t print ( num , \"is not a prime number\" ) \n",
            " print ( f\"{i} times {num//i} is {num}\" ) \n",
            " break \n",
            "  else : \n",
            " \t \t \t print ( f\"{num} is a prime number\" ) \n",
            " break \n",
            " \n",
            "    else : \n",
            " \t print ( f\"{num} is not a prime number\" )   \n",
            "**************************************************\n",
            "\n",
            "predicted:\n",
            "num = 337 \n",
            " if num > 1 : \n",
            " \t for i in range ( 2 , num ) : \n",
            " \t \t if ( num % i ) == 0 : \n",
            " \t \t \t print ( num , \"is not a prime number\" ) \n",
            " print ( f\"{i} times {num//i} is {num}\" ) \n",
            " print ( f\"{i} times {num//i} is {num}\" ) \n",
            " break \n",
            "  else : \n",
            " \t \t \t print ( f\"{num} is a prime number\" ) \n",
            " break \n",
            "   else : \n",
            " \t \t print ( f\"{num} is a prime number\" ) \n",
            "   else : \n",
            " \t print ( f\"{num} is not a prime number\" )  \n",
            "####################################################################################################\n",
            "\n",
            "####################################################################################################\n",
            "queue:\n",
            "Write  a  python  function  that  prints  the  factors  of  a  given  number\n",
            "**************************************************\n",
            "\n",
            "snippet:\n",
            "\n",
            "def print_factors ( x ) : \n",
            " \t print ( f\"The factors of {x} are:\" ) \n",
            " for i in range ( 1 , x + 1 ) : \n",
            " \t \t if x % i == 0 : \n",
            " \t \t \t print ( i )     \n",
            "**************************************************\n",
            "\n",
            "predicted:\n",
            "def print_factors ( x ) : \n",
            " \t print ( f\"The factors of {x} are:\" ) \n",
            " for i in range ( 1 , x + 1 ) : \n",
            " \t \t if x % i == 0 : \n",
            " \t \t \t print ( i )     \n",
            "####################################################################################################\n",
            "\n",
            "####################################################################################################\n",
            "queue:\n",
            "Write  a  program  to  find  the  factorial  of  a  number\n",
            "**************************************************\n",
            "\n",
            "snippet:\n",
            "\n",
            "num = 13 \n",
            " factorial = 1 \n",
            " \n",
            " if num < 0 : \n",
            " \t print ( \"No factorials for negative numbers!\" ) \n",
            " \n",
            "  elif num == 0 : \n",
            " \t print ( \"The factorial of 0 is 1\" ) \n",
            " \n",
            "  else : \n",
            " \t for i in range ( 1 , num + 1 ) : \n",
            " \t \t factorial = factorial * i \n",
            "  print ( f\"The factorial of {num} is {factorial}\" )   \n",
            "**************************************************\n",
            "\n",
            "predicted:\n",
            "num = int ( input ( \"Enter a number: \" ) ) \n",
            " factorial = 1 \n",
            " if num < 0 : \n",
            " \t print ( \"Sorry, factorial does not exist for negative numbers\" ) \n",
            "  elif num == 0 : \n",
            " \t for i in range ( 1 , num + 1 ) : \n",
            " \t \t factorial = factorial * i \n",
            "  print ( \"The factorial of\" , num , num , num , \"is\" , factorial ) \n",
            " \n",
            "  findfactorial = int ( input ( num ) ) \n",
            " print ( fact , num )  \n",
            "####################################################################################################\n",
            "\n",
            "####################################################################################################\n",
            "queue:\n",
            "Write  a  python  function  to  print  whether  a  number  is  negative ,  positive  or  zero\n",
            "**************************************************\n",
            "\n",
            "snippet:\n",
            "\n",
            "def check_pnz ( num ) : \n",
            " \t if num > 0 : \n",
            " \t \t print ( \"Positive number\" ) \n",
            "  elif num == 0 : \n",
            " \t \t print ( \"Zero\" ) \n",
            "  else : \n",
            " \t \t print ( \"Negative number\" )    \n",
            "**************************************************\n",
            "\n",
            "predicted:\n",
            "def check_pnz ( num ) : \n",
            " \t if num > 0 : \n",
            " \t \t print ( \"Positive number\" ) \n",
            "  elif num == 0 : \n",
            " \t \t print ( \"Zero\" ) \n",
            "  else : \n",
            " \t \t print ( \"Negative number\" )    \n",
            "####################################################################################################\n",
            "\n",
            "####################################################################################################\n",
            "queue:\n",
            "Write  a  program  to  print  the  multiplication  table  of  a  given  number\n",
            "**************************************************\n",
            "\n",
            "snippet:\n",
            "\n",
            "num = 9 \n",
            " for i in range ( 1 , 11 ) : \n",
            " \t print ( f\"{num} x {i} = {num*i}\" )   \n",
            "**************************************************\n",
            "\n",
            "predicted:\n",
            "num = 9 \n",
            " for i in range ( 1 , 11 ) : \n",
            " \t print ( f\"{num} x {i} = {num*i}\" )   \n",
            "####################################################################################################\n",
            "\n"
          ],
          "name": "stdout"
        }
      ]
    },
    {
      "cell_type": "code",
      "metadata": {
        "colab": {
          "base_uri": "https://localhost:8080/"
        },
        "id": "2hqKsPMuVLaE",
        "outputId": "d23ec1ec-d176-4077-f039-4d9dbfd07cbb"
      },
      "source": [
        "sample_queue = [\"merge two dictionaries\"]\n",
        "sample_snippet = [\"\"]\n",
        "fields = [('queue', queue),('snippet',snippet)]\n",
        "sample_data = data.Example.fromlist([sample_queue[0],sample_snippet[0]], fields)\n",
        "src = vars(sample_data)[\"queue\"]\n",
        "translation, attention = translate_sentence(src, queue, snippet, model, device)\n",
        "print(f'predicted trg :\\n{\" \".join(translation[:-1])}')"
      ],
      "execution_count": 55,
      "outputs": [
        {
          "output_type": "stream",
          "text": [
            "predicted trg :\n",
            "dict_1 = { 'apple' : 9 , 'banana' : 8 } \n",
            " dict_2 = { 'banana' : 4 , 'orange' : 6 } \n",
            " combined_dict = { ** dict_1 , ** dict_2 } # z = x | y    \n"
          ],
          "name": "stdout"
        }
      ]
    },
    {
      "cell_type": "code",
      "metadata": {
        "colab": {
          "base_uri": "https://localhost:8080/"
        },
        "id": "846v_xrFWO-a",
        "outputId": "d9c3bf08-a945-4632-fc5d-a5d81e983953"
      },
      "source": [
        "sample_queue = [\"combine two dictionaries\"]\n",
        "sample_snippet = [\"\"]\n",
        "fields = [('queue', queue),('snippet',snippet)]\n",
        "sample_data = data.Example.fromlist([sample_queue[0],sample_snippet[0]], fields)\n",
        "src = vars(sample_data)[\"queue\"]\n",
        "translation, attention = translate_sentence(src, queue, snippet, model, device)\n",
        "print(f'predicted trg :\\n{\" \".join(translation[:-1])}')"
      ],
      "execution_count": 56,
      "outputs": [
        {
          "output_type": "stream",
          "text": [
            "predicted trg :\n",
            "dict1 = { 'a' : 12 , 'for' : 25 , 'c' : 9 } \n",
            " dict2 = { 'Geeks' : 100 , 'geek' : 200 , 'for' : 300 } \n",
            " for key in dict2 : \n",
            " \t if key in dict1 : \n",
            " \t \t dict2 [ key ] += 1 \n",
            "  else : \n",
            " \t \t pass \n",
            "   res = dict2 + str ( dict1 ) \n",
            " print ( dict1 + str ( res ) )  \n"
          ],
          "name": "stdout"
        }
      ]
    },
    {
      "cell_type": "code",
      "metadata": {
        "colab": {
          "base_uri": "https://localhost:8080/"
        },
        "id": "J5qAIr2vQCFr",
        "outputId": "6b13e3f9-857b-43b1-fc53-b65dd7292b8b"
      },
      "source": [
        "sample_queue = [\"add two numbers\"]\n",
        "sample_snippet = [\"\"]\n",
        "fields = [('queue', queue),('snippet',snippet)]\n",
        "sample_data = data.Example.fromlist([sample_queue[0],sample_snippet[0]], fields)\n",
        "src = vars(sample_data)[\"queue\"]\n",
        "translation, attention = translate_sentence(src, queue, snippet, model, device)\n",
        "print(f'predicted trg :\\n{\" \".join(translation[:-1])}')"
      ],
      "execution_count": 57,
      "outputs": [
        {
          "output_type": "stream",
          "text": [
            "predicted trg :\n",
            "num1 = 1.5 \n",
            " num2 = 6.3 \n",
            " sum = num1 + num2 \n",
            " print ( f'Sum: {sum}' )  \n"
          ],
          "name": "stdout"
        }
      ]
    },
    {
      "cell_type": "code",
      "metadata": {
        "id": "-Fq9BvrOQOd2"
      },
      "source": [
        "from torchtext.data.metrics import bleu_score\n",
        "\n",
        "def calculate_bleu(data, src_field, trg_field, model, device, max_len = 450):\n",
        "    \n",
        "    trgs = []\n",
        "    pred_trgs = []\n",
        "    # count = 0\n",
        "    for datum in data:\n",
        "        # print(count)\n",
        "        src = vars(datum)['queue']\n",
        "        trg = vars(datum)['snippet']\n",
        "        \n",
        "        pred_trg, _ = translate_sentence(src, src_field, trg_field, model, device, max_len)\n",
        "        \n",
        "        #cut off <eos> token\n",
        "        pred_trg = pred_trg[:-1]\n",
        "        trg = [i.replace(\" \", \"\") for i in trg]\n",
        "        pred_trg = [i.replace(\" \", \"\") for i in pred_trg]\n",
        "        pred_trgs.append(pred_trg)\n",
        "        trgs.append([trg])\n",
        "\n",
        "        # count = count+1\n",
        "        # break\n",
        "\n",
        "    # print(\"trg : \",trg)\n",
        "    # print(\"pred_trg : \",pred_trg)\n",
        "    # print(\"here\")\n",
        "    return bleu_score(pred_trgs, trgs)\n",
        "    # return trgs,pred_trgs"
      ],
      "execution_count": 59,
      "outputs": []
    },
    {
      "cell_type": "code",
      "metadata": {
        "id": "rZlpwROoQayw",
        "colab": {
          "base_uri": "https://localhost:8080/"
        },
        "outputId": "890d9581-d4b6-4d04-d82f-a950945d923c"
      },
      "source": [
        "bleu_score = calculate_bleu(valid_data, queue, snippet, model, device)\n",
        "\n",
        "print(f'BLEU score = {bleu_score*100:.2f}')"
      ],
      "execution_count": 46,
      "outputs": [
        {
          "output_type": "stream",
          "text": [
            "BLEU score = 14.55\n"
          ],
          "name": "stdout"
        }
      ]
    },
    {
      "cell_type": "code",
      "metadata": {
        "colab": {
          "base_uri": "https://localhost:8080/"
        },
        "id": "cuIA639es4--",
        "outputId": "4fbdbcf0-9822-4fe8-caf0-f4e460762da0"
      },
      "source": [
        "bleu_score = calculate_bleu(valid_data, queue, snippet, model, device)\n",
        "\n",
        "print(f'BLEU score = {bleu_score*100:.2f}')"
      ],
      "execution_count": 60,
      "outputs": [
        {
          "output_type": "stream",
          "text": [
            "BLEU score = 46.50\n"
          ],
          "name": "stdout"
        }
      ]
    },
    {
      "cell_type": "code",
      "metadata": {
        "id": "Ps70DZwdzCpm"
      },
      "source": [
        ""
      ],
      "execution_count": null,
      "outputs": []
    }
  ]
}