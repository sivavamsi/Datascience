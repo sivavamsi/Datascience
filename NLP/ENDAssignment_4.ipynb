{
  "nbformat": 4,
  "nbformat_minor": 0,
  "metadata": {
    "colab": {
      "name": "ENDAssignment-4.ipynb",
      "provenance": [],
      "collapsed_sections": []
    },
    "kernelspec": {
      "name": "python3",
      "display_name": "Python 3"
    },
    "accelerator": "GPU"
  },
  "cells": [
    {
      "cell_type": "markdown",
      "metadata": {
        "id": "QXDeQkLHh4D6"
      },
      "source": [
        "Collecting IMBD dataset\r\n"
      ]
    },
    {
      "cell_type": "code",
      "metadata": {
        "id": "IvsNZY2OhHWd"
      },
      "source": [
        "import torch\r\n",
        "from torchtext import data\r\n",
        "from torchtext import datasets\r\n",
        "\r\n",
        "SEED = 1234\r\n",
        "\r\n",
        "torch.manual_seed(SEED)\r\n",
        "torch.backends.cudnn.deterministic = True\r\n",
        "\r\n",
        "TEXT = data.Field(tokenize = 'spacy', include_lengths = True)\r\n",
        "LABEL = data.LabelField(dtype = torch.float)"
      ],
      "execution_count": 1,
      "outputs": []
    },
    {
      "cell_type": "code",
      "metadata": {
        "colab": {
          "base_uri": "https://localhost:8080/"
        },
        "id": "0PwWc10Ki689",
        "outputId": "e829cc71-3951-4040-bc71-150854b5d901"
      },
      "source": [
        "\r\n",
        "from torchtext import datasets\r\n",
        "\r\n",
        "train_data, test_data = datasets.IMDB.splits(TEXT, LABEL)"
      ],
      "execution_count": 2,
      "outputs": [
        {
          "output_type": "stream",
          "text": [
            "\raclImdb_v1.tar.gz:   0%|          | 0.00/84.1M [00:00<?, ?B/s]"
          ],
          "name": "stderr"
        },
        {
          "output_type": "stream",
          "text": [
            "downloading aclImdb_v1.tar.gz\n"
          ],
          "name": "stdout"
        },
        {
          "output_type": "stream",
          "text": [
            "aclImdb_v1.tar.gz: 100%|██████████| 84.1M/84.1M [00:03<00:00, 22.1MB/s]\n"
          ],
          "name": "stderr"
        }
      ]
    },
    {
      "cell_type": "code",
      "metadata": {
        "id": "XhMN7_Kwi_Hc"
      },
      "source": [
        "import random\r\n",
        "\r\n",
        "train_data, valid_data = train_data.split(random_state = random.seed(SEED))"
      ],
      "execution_count": 3,
      "outputs": []
    },
    {
      "cell_type": "code",
      "metadata": {
        "id": "Z_SG21U5jeoY"
      },
      "source": [
        ""
      ],
      "execution_count": null,
      "outputs": []
    },
    {
      "cell_type": "markdown",
      "metadata": {
        "id": "DHfc9PfejfiG"
      },
      "source": [
        "Reversing text"
      ]
    },
    {
      "cell_type": "code",
      "metadata": {
        "colab": {
          "base_uri": "https://localhost:8080/"
        },
        "id": "PfLiBV5OjiZi",
        "outputId": "e64b0adf-1362-4f4d-f819-70720aad40ff"
      },
      "source": [
        "print(vars(train_data.examples[1]))"
      ],
      "execution_count": 4,
      "outputs": [
        {
          "output_type": "stream",
          "text": [
            "{'text': ['Timeless', 'musical', 'gem', ',', 'with', 'Gene', 'Kelly', 'in', 'top', 'form', ',', 'stylish', 'direction', 'by', 'Vincente', 'Minnelli', ',', 'and', 'wonderful', 'musical', 'numbers', '.', 'It', 'is', 'great', 'entertainment', 'from', 'start', 'to', 'finish', ',', 'one', 'of', 'those', 'films', 'that', 'people', 'watch', 'with', 'a', 'smile', 'and', 'say', '\"', 'they', 'do', \"n't\", 'make', \"'em\", 'like', 'they', 'used', 'to', '!', '\"', 'But', 'they', 'never', 'did', 'quite', 'make', 'them', 'like', 'this', '.', 'The', 'climactic', '25', 'minute', 'musical', 'sequence', 'without', 'any', 'dialogue', 'is', 'among', 'the', 'most', 'beautiful', 'in', 'film', 'history', '.', 'Movie', 'magic', ',', 'clearly', 'derived', 'from', 'the', 'heart', 'and', 'soul', 'of', 'everyone', 'involved', '.', 'A', 'must', 'see', '!'], 'label': 'pos'}\n"
          ],
          "name": "stdout"
        }
      ]
    },
    {
      "cell_type": "code",
      "metadata": {
        "colab": {
          "base_uri": "https://localhost:8080/"
        },
        "id": "8z0014iPjvh1",
        "outputId": "173fc7d7-53d7-45ca-828f-70cf1aba0499"
      },
      "source": [
        "for index in range(len(train_data)):\r\n",
        "  vars(train_data.examples[index]). get('text'). reverse()\r\n"
      ],
      "execution_count": 5,
      "outputs": [
        {
          "output_type": "stream",
          "text": [
            "{'text': ['.', 'waste', 'a', 'What', '!', 'time', 'the', 'me', 'give', 'but', ',', 'money', 'the', 'keep', 'can', 'They', '.', 'back', 'life', 'my', 'of', 'minutes', 'ninety', 'that', 'want', 'I', ',', 'line', '/>Bottom', '/><br', 'br', '<', '.', 'either', 'good', \"n't\", 'were', 'really', 'they', 'but', ',', 'bad', \"n't\", 'were', 'creatures', 'The', '.', 'film', 'entire', 'the', 'out', 'through', 'off', 'was', 'continuity', '/>The', '/><br', 'br', '<', '.', 'comebacks', 'their', 'stage', 'and', 'try', 'to', 'film', 'lousy', 'a', 'picked', 'Dorff', 'and', 'Slater', '.', 'archaeologist', 'an', 'as', 'unbelievable', 'VERY', 'was', 'she', 'but', 'Reid', 'like', 'I', ',', 'sorry', \"'m\", 'I', 'And', '.', 'robot', 'a', 'from', 'if', 'as', 'delivered', 'were', 'Lines', '.', 'Dorff', 'and', 'Reid', ',', 'Slater', 'of', 'likes', 'the', 'from', 'more', 'expect', 'You', '.', 'inexperience', 'of', 'sense', 'a', 'off', 'gave', 'actors', 'the', 'and', 'stiff', 'was', 'acting', '/>The', '/><br', 'possible.<br', 'is', 'that', 'if', ',', 'worse', 'even', 'was', 'line', 'story', 'The', '.', 'best', 'at', 'laughable', 'is', 'premise', 'The', '!', 'trouble', 'for', 'in', 'were', 'we', 'knew', 'I', ',', 'started', 'forward', 'the', 'minute', 'The'], 'label': 'neg'}\n"
          ],
          "name": "stdout"
        }
      ]
    },
    {
      "cell_type": "code",
      "metadata": {
        "colab": {
          "base_uri": "https://localhost:8080/"
        },
        "id": "hMYuUqKVj30h",
        "outputId": "15690d4f-c5f3-4219-cf52-36b6dc985389"
      },
      "source": [
        "print(vars(train_data.examples[1]))"
      ],
      "execution_count": 6,
      "outputs": [
        {
          "output_type": "stream",
          "text": [
            "{'text': ['!', 'see', 'must', 'A', '.', 'involved', 'everyone', 'of', 'soul', 'and', 'heart', 'the', 'from', 'derived', 'clearly', ',', 'magic', 'Movie', '.', 'history', 'film', 'in', 'beautiful', 'most', 'the', 'among', 'is', 'dialogue', 'any', 'without', 'sequence', 'musical', 'minute', '25', 'climactic', 'The', '.', 'this', 'like', 'them', 'make', 'quite', 'did', 'never', 'they', 'But', '\"', '!', 'to', 'used', 'they', 'like', \"'em\", 'make', \"n't\", 'do', 'they', '\"', 'say', 'and', 'smile', 'a', 'with', 'watch', 'people', 'that', 'films', 'those', 'of', 'one', ',', 'finish', 'to', 'start', 'from', 'entertainment', 'great', 'is', 'It', '.', 'numbers', 'musical', 'wonderful', 'and', ',', 'Minnelli', 'Vincente', 'by', 'direction', 'stylish', ',', 'form', 'top', 'in', 'Kelly', 'Gene', 'with', ',', 'gem', 'musical', 'Timeless'], 'label': 'pos'}\n"
          ],
          "name": "stdout"
        }
      ]
    },
    {
      "cell_type": "code",
      "metadata": {
        "colab": {
          "base_uri": "https://localhost:8080/"
        },
        "id": "RzcOdRfFj-Y7",
        "outputId": "d5b642c0-ae68-4365-9b0e-2e041e944cab"
      },
      "source": [
        "\r\n",
        "MAX_VOCAB_SIZE = 25_000\r\n",
        "\r\n",
        "TEXT.build_vocab(train_data, \r\n",
        "                 max_size = MAX_VOCAB_SIZE, \r\n",
        "                 vectors = \"glove.6B.100d\", \r\n",
        "                 unk_init = torch.Tensor.normal_)\r\n",
        "\r\n",
        "LABEL.build_vocab(train_data)"
      ],
      "execution_count": 7,
      "outputs": [
        {
          "output_type": "stream",
          "text": [
            ".vector_cache/glove.6B.zip: 862MB [06:54, 2.08MB/s]                           \n",
            " 99%|█████████▉| 397955/400000 [00:16<00:00, 23351.95it/s]"
          ],
          "name": "stderr"
        }
      ]
    },
    {
      "cell_type": "code",
      "metadata": {
        "id": "tY7LuDEbkNJu"
      },
      "source": [
        "BATCH_SIZE = 64\r\n",
        "\r\n",
        "device = torch.device('cuda' if torch.cuda.is_available() else 'cpu')\r\n",
        "\r\n",
        "train_iterator, valid_iterator, test_iterator = data.BucketIterator.splits(\r\n",
        "    (train_data, valid_data, test_data), \r\n",
        "    batch_size = BATCH_SIZE,\r\n",
        "    sort_within_batch = True,\r\n",
        "    device = device)"
      ],
      "execution_count": 8,
      "outputs": []
    },
    {
      "cell_type": "code",
      "metadata": {
        "id": "T_SJwknykSXq"
      },
      "source": [
        "import torch.nn as nn\r\n",
        "\r\n",
        "class RNN(nn.Module):\r\n",
        "    def __init__(self, vocab_size, embedding_dim, hidden_dim, output_dim, n_layers, \r\n",
        "                 bidirectional, dropout, pad_idx):\r\n",
        "        \r\n",
        "        super().__init__()\r\n",
        "        self.n_layers = n_layers\r\n",
        "        self.embedding = nn.Embedding(vocab_size, embedding_dim, padding_idx = pad_idx)\r\n",
        "        self.rnns = nn.ModuleList()\r\n",
        "\r\n",
        "        for index in range(n_layers):\r\n",
        "          if index == 0:\r\n",
        "            input_size = embedding_dim\r\n",
        "          else:\r\n",
        "            input_size = hidden_dim\r\n",
        "\r\n",
        "          self.rnns.append(nn.LSTM(input_size, hidden_dim, 1, bidirectional=bidirectional, \r\n",
        "                           dropout=dropout))          \r\n",
        "        \r\n",
        "        self.fc = nn.Linear(hidden_dim * 2, output_dim)\r\n",
        "        \r\n",
        "        self.dropout = nn.Dropout(dropout)\r\n",
        "        \r\n",
        "    def forward(self, text, text_lengths):\r\n",
        "        \r\n",
        "        #text = [sent len, batch size]\r\n",
        "        \r\n",
        "        embedded = self.dropout(self.embedding(text))\r\n",
        "        \r\n",
        "        #embedded = [sent len, batch size, emb dim]\r\n",
        "        \r\n",
        "        #pack sequence\r\n",
        "        packed_embedded = nn.utils.rnn.pack_padded_sequence(embedded, text_lengths)\r\n",
        "        \r\n",
        "        #packed_output, (hidden, cell) = self.rnn(packed_embedded)\r\n",
        "        \r\n",
        "        #unpack sequence\r\n",
        "        #output, output_lengths = nn.utils.rnn.pad_packed_sequence(packed_output)\r\n",
        "\r\n",
        "        #output = [sent len, batch size, hid dim * num directions]\r\n",
        "        #output over padding tokens are zero tensors\r\n",
        "        \r\n",
        "        #hidden = [num layers * num directions, batch size, hid dim]\r\n",
        "        #cell = [num layers * num directions, batch size, hid dim]\r\n",
        "        \r\n",
        "        #concat the final forward (hidden[-2,:,:]) and backward (hidden[-1,:,:]) hidden layers\r\n",
        "        #and apply dropout\r\n",
        "        for index in range(self.n_layers):\r\n",
        "          if(index == 0):\r\n",
        "            t1 = packed_embedded\r\n",
        "          else:\r\n",
        "            t1 = hidden\r\n",
        "          packed_output, (hidden, cell) = self.rnns[index](t1)\r\n",
        "\r\n",
        "        hidden = self.dropout(torch.cat((hidden[-2,:,:], hidden[-1,:,:]), dim = 1))\r\n",
        "                \r\n",
        "        #hidden = [batch size, hid dim * num directions]\r\n",
        "            \r\n",
        "        return self.fc(hidden)"
      ],
      "execution_count": 9,
      "outputs": []
    },
    {
      "cell_type": "code",
      "metadata": {
        "colab": {
          "base_uri": "https://localhost:8080/"
        },
        "id": "0p11FhndkauB",
        "outputId": "39c5714a-399c-41f3-e2af-11702890f5f0"
      },
      "source": [
        "INPUT_DIM = len(TEXT.vocab)\r\n",
        "EMBEDDING_DIM = 100\r\n",
        "HIDDEN_DIM = 256\r\n",
        "OUTPUT_DIM = 1\r\n",
        "N_LAYERS = 3\r\n",
        "BIDIRECTIONAL = True\r\n",
        "DROPOUT = 0.2\r\n",
        "PAD_IDX = TEXT.vocab.stoi[TEXT.pad_token]\r\n",
        "\r\n",
        "model = RNN(INPUT_DIM, \r\n",
        "            EMBEDDING_DIM, \r\n",
        "            HIDDEN_DIM, \r\n",
        "            OUTPUT_DIM, \r\n",
        "            N_LAYERS, \r\n",
        "            BIDIRECTIONAL, \r\n",
        "            DROPOUT, \r\n",
        "            PAD_IDX)"
      ],
      "execution_count": 10,
      "outputs": [
        {
          "output_type": "stream",
          "text": [
            "/usr/local/lib/python3.7/dist-packages/torch/nn/modules/rnn.py:61: UserWarning: dropout option adds dropout after all but last recurrent layer, so non-zero dropout expects num_layers greater than 1, but got dropout=0.2 and num_layers=1\n",
            "  \"num_layers={}\".format(dropout, num_layers))\n"
          ],
          "name": "stderr"
        }
      ]
    },
    {
      "cell_type": "code",
      "metadata": {
        "colab": {
          "base_uri": "https://localhost:8080/"
        },
        "id": "ar8gF5jYkdgk",
        "outputId": "829eb053-3661-480f-9aa8-2a4119aef7b2"
      },
      "source": [
        "\r\n",
        "def count_parameters(model):\r\n",
        "    return sum(p.numel() for p in model.parameters() if p.requires_grad)\r\n",
        "\r\n",
        "print(f'The model has {count_parameters(model):,} trainable parameters')"
      ],
      "execution_count": 11,
      "outputs": [
        {
          "output_type": "stream",
          "text": [
            "The model has 5,339,241 trainable parameters\n"
          ],
          "name": "stdout"
        }
      ]
    },
    {
      "cell_type": "code",
      "metadata": {
        "colab": {
          "base_uri": "https://localhost:8080/"
        },
        "id": "G_m9Egmakjde",
        "outputId": "7fb5c3b7-2e44-440a-bb3d-a3f921ded630"
      },
      "source": [
        "\r\n",
        "pretrained_embeddings = TEXT.vocab.vectors\r\n",
        "\r\n",
        "print(pretrained_embeddings.shape)"
      ],
      "execution_count": 12,
      "outputs": [
        {
          "output_type": "stream",
          "text": [
            "torch.Size([25002, 100])\n"
          ],
          "name": "stdout"
        }
      ]
    },
    {
      "cell_type": "code",
      "metadata": {
        "colab": {
          "base_uri": "https://localhost:8080/"
        },
        "id": "Ke13Z04Ikpi3",
        "outputId": "5db8414e-5560-4c17-c326-034dd8c98d2f"
      },
      "source": [
        "model.embedding.weight.data.copy_(pretrained_embeddings)"
      ],
      "execution_count": 13,
      "outputs": [
        {
          "output_type": "execute_result",
          "data": {
            "text/plain": [
              "tensor([[-0.1117, -0.4966,  0.1631,  ...,  1.2647, -0.2753, -0.1325],\n",
              "        [-0.8555, -0.7208,  1.3755,  ...,  0.0825, -1.1314,  0.3997],\n",
              "        [-0.0382, -0.2449,  0.7281,  ..., -0.1459,  0.8278,  0.2706],\n",
              "        ...,\n",
              "        [-0.2281,  0.8470, -0.4455,  ..., -0.1672, -0.4080,  0.0305],\n",
              "        [-0.5568,  0.5786,  0.5510,  ..., -0.0846, -0.2132,  0.3013],\n",
              "        [ 0.1659, -0.4335, -0.3923,  ..., -0.3463,  0.4126,  0.0022]])"
            ]
          },
          "metadata": {
            "tags": []
          },
          "execution_count": 13
        }
      ]
    },
    {
      "cell_type": "code",
      "metadata": {
        "id": "WGewezJUktFR"
      },
      "source": [
        "\r\n",
        "UNK_IDX = TEXT.vocab.stoi[TEXT.unk_token]\r\n",
        "\r\n",
        "model.embedding.weight.data[UNK_IDX] = torch.zeros(EMBEDDING_DIM)\r\n",
        "model.embedding.weight.data[PAD_IDX] = torch.zeros(EMBEDDING_DIM)"
      ],
      "execution_count": 14,
      "outputs": []
    },
    {
      "cell_type": "code",
      "metadata": {
        "id": "8pqKUekQkwUS"
      },
      "source": [
        "import torch.optim as optim\r\n",
        "\r\n",
        "optimizer = optim.Adam(model.parameters())"
      ],
      "execution_count": 15,
      "outputs": []
    },
    {
      "cell_type": "code",
      "metadata": {
        "id": "x7uo0pRzk1SD"
      },
      "source": [
        "\r\n",
        "criterion = nn.BCEWithLogitsLoss()\r\n",
        "\r\n",
        "model = model.to(device)\r\n",
        "criterion = criterion.to(device)"
      ],
      "execution_count": 16,
      "outputs": []
    },
    {
      "cell_type": "code",
      "metadata": {
        "id": "f6MAXMqMk355"
      },
      "source": [
        "def binary_accuracy(preds, y):\r\n",
        "    \"\"\"\r\n",
        "    Returns accuracy per batch, i.e. if you get 8/10 right, this returns 0.8, NOT 8\r\n",
        "    \"\"\"\r\n",
        "\r\n",
        "    #round predictions to the closest integer\r\n",
        "    rounded_preds = torch.round(torch.sigmoid(preds))\r\n",
        "    correct = (rounded_preds == y).float() #convert into float for division \r\n",
        "    acc = correct.sum() / len(correct)\r\n",
        "    return acc"
      ],
      "execution_count": 17,
      "outputs": []
    },
    {
      "cell_type": "code",
      "metadata": {
        "id": "EdjXb0RYk-0q"
      },
      "source": [
        "def train(model, iterator, optimizer, criterion):\r\n",
        "    \r\n",
        "    epoch_loss = 0\r\n",
        "    epoch_acc = 0\r\n",
        "    \r\n",
        "    model.train()\r\n",
        "    \r\n",
        "    for batch in iterator:\r\n",
        "        \r\n",
        "        optimizer.zero_grad()\r\n",
        "        \r\n",
        "        text, text_lengths = batch.text\r\n",
        "\r\n",
        "        text_lengths = text_lengths.cpu()\r\n",
        "        predictions = model(text, text_lengths).squeeze(1)\r\n",
        "        \r\n",
        "        loss = criterion(predictions, batch.label)\r\n",
        "        \r\n",
        "        acc = binary_accuracy(predictions, batch.label)\r\n",
        "        \r\n",
        "        loss.backward()\r\n",
        "        \r\n",
        "        optimizer.step()\r\n",
        "        \r\n",
        "        epoch_loss += loss.item()\r\n",
        "        epoch_acc += acc.item()\r\n",
        "        \r\n",
        "    return epoch_loss / len(iterator), epoch_acc / len(iterator)"
      ],
      "execution_count": 18,
      "outputs": []
    },
    {
      "cell_type": "code",
      "metadata": {
        "id": "Np03QfPulD8i"
      },
      "source": [
        "def evaluate(model, iterator, criterion):\r\n",
        "    \r\n",
        "    epoch_loss = 0\r\n",
        "    epoch_acc = 0\r\n",
        "    \r\n",
        "    model.eval()\r\n",
        "    \r\n",
        "    with torch.no_grad():\r\n",
        "    \r\n",
        "        for batch in iterator:\r\n",
        "\r\n",
        "            text, text_lengths = batch.text\r\n",
        "            text_lengths = text_lengths.cpu()\r\n",
        "            predictions = model(text, text_lengths).squeeze(1)\r\n",
        "            \r\n",
        "            loss = criterion(predictions, batch.label)\r\n",
        "            \r\n",
        "            acc = binary_accuracy(predictions, batch.label)\r\n",
        "\r\n",
        "            epoch_loss += loss.item()\r\n",
        "            epoch_acc += acc.item()\r\n",
        "        \r\n",
        "    return epoch_loss / len(iterator), epoch_acc / len(iterator)"
      ],
      "execution_count": 19,
      "outputs": []
    },
    {
      "cell_type": "code",
      "metadata": {
        "id": "o7UB54WAlHMz"
      },
      "source": [
        "import time\r\n",
        "\r\n",
        "def epoch_time(start_time, end_time):\r\n",
        "    elapsed_time = end_time - start_time\r\n",
        "    elapsed_mins = int(elapsed_time / 60)\r\n",
        "    elapsed_secs = int(elapsed_time - (elapsed_mins * 60))\r\n",
        "    return elapsed_mins, elapsed_secs"
      ],
      "execution_count": 20,
      "outputs": []
    },
    {
      "cell_type": "code",
      "metadata": {
        "colab": {
          "base_uri": "https://localhost:8080/"
        },
        "id": "82x631XblK7q",
        "outputId": "4a793f28-6245-44c4-ce07-eb3e3b358ced"
      },
      "source": [
        "\r\n",
        "N_EPOCHS = 10\r\n",
        "\r\n",
        "best_valid_loss = float('inf')\r\n",
        "\r\n",
        "for epoch in range(N_EPOCHS):\r\n",
        "\r\n",
        "    start_time = time.time()\r\n",
        "    \r\n",
        "    train_loss, train_acc = train(model, train_iterator, optimizer, criterion)\r\n",
        "    valid_loss, valid_acc = evaluate(model, valid_iterator, criterion)\r\n",
        "    \r\n",
        "    end_time = time.time()\r\n",
        "\r\n",
        "    epoch_mins, epoch_secs = epoch_time(start_time, end_time)\r\n",
        "    \r\n",
        "    if valid_loss < best_valid_loss:\r\n",
        "        best_valid_loss = valid_loss\r\n",
        "        torch.save(model.state_dict(), 'tut2-model.pt')\r\n",
        "    \r\n",
        "    print(f'Epoch: {epoch+1:02} | Epoch Time: {epoch_mins}m {epoch_secs}s')\r\n",
        "    print(f'\\tTrain Loss: {train_loss:.3f} | Train Acc: {train_acc*100:.2f}%')\r\n",
        "    print(f'\\t Val. Loss: {valid_loss:.3f} |  Val. Acc: {valid_acc*100:.2f}%')"
      ],
      "execution_count": 21,
      "outputs": [
        {
          "output_type": "stream",
          "text": [
            "Epoch: 01 | Epoch Time: 0m 15s\n",
            "\tTrain Loss: 0.675 | Train Acc: 56.54%\n",
            "\t Val. Loss: 0.691 |  Val. Acc: 53.08%\n",
            "Epoch: 02 | Epoch Time: 0m 14s\n",
            "\tTrain Loss: 0.566 | Train Acc: 69.68%\n",
            "\t Val. Loss: 0.455 |  Val. Acc: 80.60%\n",
            "Epoch: 03 | Epoch Time: 0m 14s\n",
            "\tTrain Loss: 0.314 | Train Acc: 87.07%\n",
            "\t Val. Loss: 0.374 |  Val. Acc: 84.32%\n",
            "Epoch: 04 | Epoch Time: 0m 15s\n",
            "\tTrain Loss: 0.212 | Train Acc: 91.91%\n",
            "\t Val. Loss: 0.364 |  Val. Acc: 86.32%\n",
            "Epoch: 05 | Epoch Time: 0m 15s\n",
            "\tTrain Loss: 0.156 | Train Acc: 94.43%\n",
            "\t Val. Loss: 0.367 |  Val. Acc: 86.26%\n",
            "Epoch: 06 | Epoch Time: 0m 15s\n",
            "\tTrain Loss: 0.114 | Train Acc: 96.03%\n",
            "\t Val. Loss: 0.380 |  Val. Acc: 86.19%\n",
            "Epoch: 07 | Epoch Time: 0m 15s\n",
            "\tTrain Loss: 0.085 | Train Acc: 97.30%\n",
            "\t Val. Loss: 0.453 |  Val. Acc: 87.00%\n",
            "Epoch: 08 | Epoch Time: 0m 15s\n",
            "\tTrain Loss: 0.066 | Train Acc: 97.88%\n",
            "\t Val. Loss: 0.447 |  Val. Acc: 87.08%\n",
            "Epoch: 09 | Epoch Time: 0m 15s\n",
            "\tTrain Loss: 0.050 | Train Acc: 98.49%\n",
            "\t Val. Loss: 0.470 |  Val. Acc: 84.63%\n",
            "Epoch: 10 | Epoch Time: 0m 15s\n",
            "\tTrain Loss: 0.039 | Train Acc: 98.87%\n",
            "\t Val. Loss: 0.444 |  Val. Acc: 86.14%\n"
          ],
          "name": "stdout"
        }
      ]
    },
    {
      "cell_type": "code",
      "metadata": {
        "colab": {
          "base_uri": "https://localhost:8080/"
        },
        "id": "DEZfMnDelV6K",
        "outputId": "c160c8d4-3e20-4393-f647-6c05ee9e25b6"
      },
      "source": [
        "\r\n",
        "model.load_state_dict(torch.load('tut2-model.pt'))\r\n",
        "\r\n",
        "test_loss, test_acc = evaluate(model, test_iterator, criterion)\r\n",
        "\r\n",
        "print(f'Test Loss: {test_loss:.3f} | Test Acc: {test_acc*100:.2f}%')"
      ],
      "execution_count": 22,
      "outputs": [
        {
          "output_type": "stream",
          "text": [
            "Test Loss: 0.398 | Test Acc: 84.31%\n"
          ],
          "name": "stdout"
        }
      ]
    },
    {
      "cell_type": "code",
      "metadata": {
        "id": "6OW2rd5GlkOQ"
      },
      "source": [
        "import spacy\r\n",
        "nlp = spacy.load('en')\r\n",
        "\r\n",
        "def predict_sentiment(model, sentence):\r\n",
        "    model.eval()\r\n",
        "    tokenized = [tok.text for tok in nlp.tokenizer(sentence)]\r\n",
        "    indexed = [TEXT.vocab.stoi[t] for t in tokenized]\r\n",
        "    length = [len(indexed)]\r\n",
        "    tensor = torch.LongTensor(indexed).to(device)\r\n",
        "    tensor = tensor.unsqueeze(1)\r\n",
        "    length_tensor = torch.LongTensor(length)\r\n",
        "    prediction = torch.sigmoid(model(tensor, length_tensor))\r\n",
        "    return prediction.item()"
      ],
      "execution_count": 23,
      "outputs": []
    },
    {
      "cell_type": "code",
      "metadata": {
        "colab": {
          "base_uri": "https://localhost:8080/"
        },
        "id": "H63Xn0oTlpE4",
        "outputId": "d7a60d4a-ef90-4692-b07e-84d5e37496f5"
      },
      "source": [
        "predict_sentiment(model, \"my name is Rohan\")"
      ],
      "execution_count": 24,
      "outputs": [
        {
          "output_type": "execute_result",
          "data": {
            "text/plain": [
              "0.4499405026435852"
            ]
          },
          "metadata": {
            "tags": []
          },
          "execution_count": 24
        }
      ]
    },
    {
      "cell_type": "code",
      "metadata": {
        "colab": {
          "base_uri": "https://localhost:8080/"
        },
        "id": "fxaLvslul6Sz",
        "outputId": "bddb2056-63e5-48a7-86bb-311f0b6a9d8e"
      },
      "source": [
        "\r\n",
        "predict_sentiment(model, \"Rohan is name my\")"
      ],
      "execution_count": 25,
      "outputs": [
        {
          "output_type": "execute_result",
          "data": {
            "text/plain": [
              "0.6206717491149902"
            ]
          },
          "metadata": {
            "tags": []
          },
          "execution_count": 25
        }
      ]
    },
    {
      "cell_type": "code",
      "metadata": {
        "id": "qxedIvIYmCmA"
      },
      "source": [
        ""
      ],
      "execution_count": null,
      "outputs": []
    }
  ]
}