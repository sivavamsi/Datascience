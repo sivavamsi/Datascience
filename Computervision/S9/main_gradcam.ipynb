{
 "cells": [
  {
   "cell_type": "code",
   "execution_count": 72,
   "metadata": {},
   "outputs": [],
   "source": [
    "import torch\n",
    "import torch.nn as nn\n",
    "import torch.nn.functional as F\n",
    "\n",
    "import numpy as np"
   ]
  },
  {
   "cell_type": "code",
   "execution_count": 2,
   "metadata": {},
   "outputs": [
    {
     "name": "stdout",
     "output_type": "stream",
     "text": [
      "Files already downloaded and verified\n",
      "Files already downloaded and verified\n"
     ]
    }
   ],
   "source": [
    "############ DATA & TRANSFORMS\n",
    "\n",
    "from data import get_data\n",
    "from device import get_device\n",
    "\n",
    "device = get_device(force_cpu=False)\n",
    "\n",
    "\n",
    "horizontal_flip_prob = 0.2\n",
    "vertical_flip_prob = 0.0\n",
    "gaussian_blur_prob = 0.0\n",
    "rotate_degree = 20\n",
    "cutout = 0.3\n",
    "#\n",
    "transform_args = {}\n",
    "\n",
    "\n",
    "transform_args['horizontal_flip_prob'] =  0.2\n",
    "transform_args['vertical_flip_prob'] = 0.0\n",
    "transform_args['gaussian_blur_prob'] = 0.0\n",
    "transform_args['rotate_degree'] = 20\n",
    "transform_args['cutout'] = 0.3\n",
    "transform_args['cutout_height'] = 16\n",
    "transform_args['cutout_width'] = 16\n",
    "\n",
    "\n",
    "train_loader, test_loader = get_data(device,transform_args,batch_size=64 )"
   ]
  },
  {
   "cell_type": "code",
   "execution_count": 8,
   "metadata": {},
   "outputs": [
    {
     "data": {
      "text/plain": [
       "['airplane',\n",
       " 'automobile',\n",
       " 'bird',\n",
       " 'cat',\n",
       " 'deer',\n",
       " 'dog',\n",
       " 'frog',\n",
       " 'horse',\n",
       " 'ship',\n",
       " 'truck']"
      ]
     },
     "execution_count": 8,
     "metadata": {},
     "output_type": "execute_result"
    }
   ],
   "source": [
    "train_loader.dataset.classes"
   ]
  },
  {
   "cell_type": "code",
   "execution_count": 4,
   "metadata": {},
   "outputs": [
    {
     "name": "stdout",
     "output_type": "stream",
     "text": [
      "----------------------------------------------------------------\n",
      "        Layer (type)               Output Shape         Param #\n",
      "================================================================\n",
      "            Conv2d-1           [-1, 64, 32, 32]           1,728\n",
      "       BatchNorm2d-2           [-1, 64, 32, 32]             128\n",
      "            Conv2d-3           [-1, 64, 32, 32]          36,864\n",
      "       BatchNorm2d-4           [-1, 64, 32, 32]             128\n",
      "            Conv2d-5           [-1, 64, 32, 32]          36,864\n",
      "       BatchNorm2d-6           [-1, 64, 32, 32]             128\n",
      "        BasicBlock-7           [-1, 64, 32, 32]               0\n",
      "            Conv2d-8           [-1, 64, 32, 32]          36,864\n",
      "       BatchNorm2d-9           [-1, 64, 32, 32]             128\n",
      "           Conv2d-10           [-1, 64, 32, 32]          36,864\n",
      "      BatchNorm2d-11           [-1, 64, 32, 32]             128\n",
      "       BasicBlock-12           [-1, 64, 32, 32]               0\n",
      "           Conv2d-13          [-1, 128, 16, 16]          73,728\n",
      "      BatchNorm2d-14          [-1, 128, 16, 16]             256\n",
      "           Conv2d-15          [-1, 128, 16, 16]         147,456\n",
      "      BatchNorm2d-16          [-1, 128, 16, 16]             256\n",
      "           Conv2d-17          [-1, 128, 16, 16]           8,192\n",
      "      BatchNorm2d-18          [-1, 128, 16, 16]             256\n",
      "       BasicBlock-19          [-1, 128, 16, 16]               0\n",
      "           Conv2d-20          [-1, 128, 16, 16]         147,456\n",
      "      BatchNorm2d-21          [-1, 128, 16, 16]             256\n",
      "           Conv2d-22          [-1, 128, 16, 16]         147,456\n",
      "      BatchNorm2d-23          [-1, 128, 16, 16]             256\n",
      "       BasicBlock-24          [-1, 128, 16, 16]               0\n",
      "           Conv2d-25            [-1, 256, 8, 8]         294,912\n",
      "      BatchNorm2d-26            [-1, 256, 8, 8]             512\n",
      "           Conv2d-27            [-1, 256, 8, 8]         589,824\n",
      "      BatchNorm2d-28            [-1, 256, 8, 8]             512\n",
      "           Conv2d-29            [-1, 256, 8, 8]          32,768\n",
      "      BatchNorm2d-30            [-1, 256, 8, 8]             512\n",
      "       BasicBlock-31            [-1, 256, 8, 8]               0\n",
      "           Conv2d-32            [-1, 256, 8, 8]         589,824\n",
      "      BatchNorm2d-33            [-1, 256, 8, 8]             512\n",
      "           Conv2d-34            [-1, 256, 8, 8]         589,824\n",
      "      BatchNorm2d-35            [-1, 256, 8, 8]             512\n",
      "       BasicBlock-36            [-1, 256, 8, 8]               0\n",
      "           Conv2d-37            [-1, 512, 4, 4]       1,179,648\n",
      "      BatchNorm2d-38            [-1, 512, 4, 4]           1,024\n",
      "           Conv2d-39            [-1, 512, 4, 4]       2,359,296\n",
      "      BatchNorm2d-40            [-1, 512, 4, 4]           1,024\n",
      "           Conv2d-41            [-1, 512, 4, 4]         131,072\n",
      "      BatchNorm2d-42            [-1, 512, 4, 4]           1,024\n",
      "       BasicBlock-43            [-1, 512, 4, 4]               0\n",
      "           Conv2d-44            [-1, 512, 4, 4]       2,359,296\n",
      "      BatchNorm2d-45            [-1, 512, 4, 4]           1,024\n",
      "           Conv2d-46            [-1, 512, 4, 4]       2,359,296\n",
      "      BatchNorm2d-47            [-1, 512, 4, 4]           1,024\n",
      "       BasicBlock-48            [-1, 512, 4, 4]               0\n",
      "           Linear-49                   [-1, 10]           5,130\n",
      "================================================================\n",
      "Total params: 11,173,962\n",
      "Trainable params: 11,173,962\n",
      "Non-trainable params: 0\n",
      "----------------------------------------------------------------\n",
      "Input size (MB): 0.01\n",
      "Forward/backward pass size (MB): 11.25\n",
      "Params size (MB): 42.63\n",
      "Estimated Total Size (MB): 53.89\n",
      "----------------------------------------------------------------\n"
     ]
    }
   ],
   "source": [
    "##################### MODEL\n",
    "\n",
    "from model2 import ResNet18\n",
    "from torchsummary import summary\n",
    "model = ResNet18().to(device)\n",
    "\n",
    "summary(model, input_size=(3, 32, 32))"
   ]
  },
  {
   "cell_type": "code",
   "execution_count": 5,
   "metadata": {},
   "outputs": [
    {
     "name": "stdout",
     "output_type": "stream",
     "text": [
      "\n",
      "Epoch 1:\n",
      "(TRAIN) batch_number:  100 Loss : 1.845 Acc : 0.30297\n",
      "(TRAIN) batch_number:  200 Loss : 1.378 Acc : 0.36766\n",
      "(TRAIN) batch_number:  300 Loss : 1.381 Acc : 0.4013\n",
      "(TRAIN) batch_number:  400 Loss : 1.283 Acc : 0.42953\n",
      "(TRAIN) batch_number:  500 Loss : 1.072 Acc : 0.45363\n",
      "(TRAIN) batch_number:  600 Loss : 1.18 Acc : 0.47497\n",
      "(TRAIN) batch_number:  700 Loss : 1.012 Acc : 0.49161\n",
      "(TEST) Correct_classified :  6515  of 10000\n",
      "(TEST) Loss : 0.9854 Acc : 0.6515\n",
      "\n",
      " ************************************************************ \n",
      "\n",
      "\n",
      "Epoch 2:\n",
      "(TRAIN) batch_number:  100 Loss : 0.9325 Acc : 0.64219\n",
      "(TRAIN) batch_number:  200 Loss : 1.086 Acc : 0.65141\n",
      "(TRAIN) batch_number:  300 Loss : 1.185 Acc : 0.6563\n",
      "(TRAIN) batch_number:  400 Loss : 0.898 Acc : 0.66094\n",
      "(TRAIN) batch_number:  500 Loss : 1.039 Acc : 0.66659\n",
      "(TRAIN) batch_number:  600 Loss : 0.9296 Acc : 0.67193\n",
      "(TRAIN) batch_number:  700 Loss : 0.7431 Acc : 0.67538\n",
      "(TEST) Correct_classified :  7128  of 10000\n",
      "(TEST) Loss : 0.8052 Acc : 0.7128\n",
      "\n",
      " ************************************************************ \n",
      "\n",
      "\n",
      "Epoch 3:\n",
      "(TRAIN) batch_number:  100 Loss : 0.5841 Acc : 0.73281\n",
      "(TRAIN) batch_number:  200 Loss : 1.028 Acc : 0.7393\n",
      "(TRAIN) batch_number:  300 Loss : 0.6743 Acc : 0.7413\n",
      "(TRAIN) batch_number:  400 Loss : 1.024 Acc : 0.74129\n",
      "(TRAIN) batch_number:  500 Loss : 0.7189 Acc : 0.74119\n",
      "(TRAIN) batch_number:  600 Loss : 0.5812 Acc : 0.74307\n",
      "(TRAIN) batch_number:  700 Loss : 0.7516 Acc : 0.74542\n",
      "(TEST) Correct_classified :  7703  of 10000\n",
      "(TEST) Loss : 0.668 Acc : 0.7703\n",
      "\n",
      " ************************************************************ \n",
      "\n",
      "\n",
      "Epoch 4:\n",
      "(TRAIN) batch_number:  100 Loss : 0.6464 Acc : 0.77281\n",
      "(TRAIN) batch_number:  200 Loss : 0.7572 Acc : 0.78055\n",
      "(TRAIN) batch_number:  300 Loss : 0.9052 Acc : 0.77964\n",
      "(TRAIN) batch_number:  400 Loss : 1.118 Acc : 0.78063\n",
      "(TRAIN) batch_number:  500 Loss : 0.6567 Acc : 0.78184\n",
      "(TRAIN) batch_number:  600 Loss : 0.4704 Acc : 0.78284\n",
      "(TRAIN) batch_number:  700 Loss : 0.5673 Acc : 0.78301\n",
      "(TEST) Correct_classified :  8044  of 10000\n",
      "(TEST) Loss : 0.5606 Acc : 0.8044\n",
      "\n",
      " ************************************************************ \n",
      "\n",
      "\n",
      "Epoch 5:\n",
      "(TRAIN) batch_number:  100 Loss : 0.6165 Acc : 0.80844\n",
      "(TRAIN) batch_number:  200 Loss : 0.48 Acc : 0.80789\n",
      "(TRAIN) batch_number:  300 Loss : 0.4124 Acc : 0.80724\n",
      "(TRAIN) batch_number:  400 Loss : 0.4306 Acc : 0.8102\n",
      "(TRAIN) batch_number:  500 Loss : 0.2992 Acc : 0.80963\n",
      "(TRAIN) batch_number:  600 Loss : 0.5826 Acc : 0.8112\n",
      "(TRAIN) batch_number:  700 Loss : 0.4567 Acc : 0.81158\n",
      "(TEST) Correct_classified :  7981  of 10000\n",
      "(TEST) Loss : 0.5923 Acc : 0.7981\n",
      "\n",
      " ************************************************************ \n",
      "\n",
      "\n",
      "Epoch 6:\n",
      "(TRAIN) batch_number:  100 Loss : 0.2783 Acc : 0.85188\n",
      "(TRAIN) batch_number:  200 Loss : 0.3931 Acc : 0.85289\n",
      "(TRAIN) batch_number:  300 Loss : 0.3228 Acc : 0.855\n",
      "(TRAIN) batch_number:  400 Loss : 0.2348 Acc : 0.85953\n",
      "(TRAIN) batch_number:  500 Loss : 0.4556 Acc : 0.85956\n",
      "(TRAIN) batch_number:  600 Loss : 0.512 Acc : 0.86227\n",
      "(TRAIN) batch_number:  700 Loss : 0.285 Acc : 0.86435\n",
      "(TEST) Correct_classified :  8582  of 10000\n",
      "(TEST) Loss : 0.417 Acc : 0.8582\n",
      "\n",
      " ************************************************************ \n",
      "\n",
      "\n",
      "Epoch 7:\n",
      "(TRAIN) batch_number:  100 Loss : 0.2877 Acc : 0.88375\n",
      "(TRAIN) batch_number:  200 Loss : 0.4742 Acc : 0.88477\n",
      "(TRAIN) batch_number:  300 Loss : 0.2132 Acc : 0.8813\n",
      "(TRAIN) batch_number:  400 Loss : 0.259 Acc : 0.88129\n",
      "(TRAIN) batch_number:  500 Loss : 0.2902 Acc : 0.88078\n",
      "(TRAIN) batch_number:  600 Loss : 0.4123 Acc : 0.88094\n",
      "(TRAIN) batch_number:  700 Loss : 0.3525 Acc : 0.88056\n",
      "(TEST) Correct_classified :  8591  of 10000\n",
      "(TEST) Loss : 0.4147 Acc : 0.8591\n",
      "\n",
      " ************************************************************ \n",
      "\n",
      "\n",
      "Epoch 8:\n",
      "(TRAIN) batch_number:  100 Loss : 0.3278 Acc : 0.88531\n",
      "(TRAIN) batch_number:  200 Loss : 0.3525 Acc : 0.88203\n",
      "(TRAIN) batch_number:  300 Loss : 0.2485 Acc : 0.88417\n",
      "(TRAIN) batch_number:  400 Loss : 0.3319 Acc : 0.88285\n",
      "(TRAIN) batch_number:  500 Loss : 0.4306 Acc : 0.88397\n",
      "(TRAIN) batch_number:  600 Loss : 0.3093 Acc : 0.88549\n",
      "(TRAIN) batch_number:  700 Loss : 0.2873 Acc : 0.88567\n",
      "(TEST) Correct_classified :  8666  of 10000\n",
      "(TEST) Loss : 0.3993 Acc : 0.8666\n",
      "\n",
      " ************************************************************ \n",
      "\n",
      "\n",
      "Epoch 9:\n",
      "(TRAIN) batch_number:  100 Loss : 0.3683 Acc : 0.89953\n",
      "(TRAIN) batch_number:  200 Loss : 0.2149 Acc : 0.89617\n",
      "(TRAIN) batch_number:  300 Loss : 0.2563 Acc : 0.89844\n",
      "(TRAIN) batch_number:  400 Loss : 0.261 Acc : 0.89707\n",
      "(TRAIN) batch_number:  500 Loss : 0.2081 Acc : 0.89706\n",
      "(TRAIN) batch_number:  600 Loss : 0.395 Acc : 0.89635\n",
      "(TRAIN) batch_number:  700 Loss : 0.2187 Acc : 0.89663\n",
      "(TEST) Correct_classified :  8690  of 10000\n",
      "(TEST) Loss : 0.3935 Acc : 0.869\n",
      "\n",
      " ************************************************************ \n",
      "\n",
      "\n",
      "Epoch 10:\n",
      "(TRAIN) batch_number:  100 Loss : 0.1558 Acc : 0.90625\n",
      "(TRAIN) batch_number:  200 Loss : 0.1589 Acc : 0.90156\n",
      "(TRAIN) batch_number:  300 Loss : 0.2899 Acc : 0.90115\n",
      "(TRAIN) batch_number:  400 Loss : 0.2843 Acc : 0.90066\n",
      "(TRAIN) batch_number:  500 Loss : 0.2492 Acc : 0.90075\n",
      "(TRAIN) batch_number:  600 Loss : 0.3552 Acc : 0.90122\n",
      "(TRAIN) batch_number:  700 Loss : 0.2421 Acc : 0.90087\n",
      "(TEST) Correct_classified :  8715  of 10000\n",
      "(TEST) Loss : 0.3829 Acc : 0.8715\n",
      "\n",
      " ************************************************************ \n",
      "\n",
      "\n",
      "Epoch 11:\n",
      "(TRAIN) batch_number:  100 Loss : 0.244 Acc : 0.91469\n",
      "(TRAIN) batch_number:  200 Loss : 0.2158 Acc : 0.91352\n",
      "(TRAIN) batch_number:  300 Loss : 0.1457 Acc : 0.91198\n",
      "(TRAIN) batch_number:  400 Loss : 0.1722 Acc : 0.91219\n",
      "(TRAIN) batch_number:  500 Loss : 0.06838 Acc : 0.91319\n",
      "(TRAIN) batch_number:  600 Loss : 0.1906 Acc : 0.91359\n",
      "(TRAIN) batch_number:  700 Loss : 0.2642 Acc : 0.91319\n",
      "(TEST) Correct_classified :  8739  of 10000\n",
      "(TEST) Loss : 0.3741 Acc : 0.8739\n",
      "\n",
      " ************************************************************ \n",
      "\n",
      "\n",
      "Epoch 12:\n",
      "(TRAIN) batch_number:  100 Loss : 0.2185 Acc : 0.91328\n",
      "(TRAIN) batch_number:  200 Loss : 0.1725 Acc : 0.91609\n",
      "(TRAIN) batch_number:  300 Loss : 0.2123 Acc : 0.91823\n",
      "(TRAIN) batch_number:  400 Loss : 0.2521 Acc : 0.91805\n",
      "(TRAIN) batch_number:  500 Loss : 0.1343 Acc : 0.91828\n",
      "(TRAIN) batch_number:  600 Loss : 0.3149 Acc : 0.91753\n",
      "(TRAIN) batch_number:  700 Loss : 0.2658 Acc : 0.91734\n",
      "(TEST) Correct_classified :  8740  of 10000\n",
      "(TEST) Loss : 0.3736 Acc : 0.874\n",
      "\n",
      " ************************************************************ \n",
      "\n",
      "\n",
      "Epoch 13:\n",
      "(TRAIN) batch_number:  100 Loss : 0.2811 Acc : 0.91563\n",
      "(TRAIN) batch_number:  200 Loss : 0.2426 Acc : 0.91977\n",
      "(TRAIN) batch_number:  300 Loss : 0.2285 Acc : 0.9201\n",
      "(TRAIN) batch_number:  400 Loss : 0.142 Acc : 0.9202\n",
      "(TRAIN) batch_number:  500 Loss : 0.167 Acc : 0.91972\n",
      "(TRAIN) batch_number:  600 Loss : 0.3454 Acc : 0.91927\n",
      "(TRAIN) batch_number:  700 Loss : 0.3338 Acc : 0.91842\n",
      "(TEST) Correct_classified :  8759  of 10000\n",
      "(TEST) Loss : 0.3721 Acc : 0.8759\n",
      "\n",
      " ************************************************************ \n",
      "\n",
      "\n",
      "Epoch 14:\n",
      "(TRAIN) batch_number:  100 Loss : 0.2336 Acc : 0.92078\n",
      "(TRAIN) batch_number:  200 Loss : 0.2763 Acc : 0.9193\n",
      "(TRAIN) batch_number:  300 Loss : 0.173 Acc : 0.91771\n",
      "(TRAIN) batch_number:  400 Loss : 0.2459 Acc : 0.91707\n",
      "(TRAIN) batch_number:  500 Loss : 0.4189 Acc : 0.91591\n",
      "(TRAIN) batch_number:  600 Loss : 0.1933 Acc : 0.91776\n",
      "(TRAIN) batch_number:  700 Loss : 0.2711 Acc : 0.91766\n",
      "(TEST) Correct_classified :  8749  of 10000\n",
      "(TEST) Loss : 0.378 Acc : 0.8749\n",
      "\n",
      " ************************************************************ \n",
      "\n",
      "\n",
      "Epoch 15:\n",
      "(TRAIN) batch_number:  100 Loss : 0.2088 Acc : 0.91594\n",
      "(TRAIN) batch_number:  200 Loss : 0.2764 Acc : 0.91891\n",
      "(TRAIN) batch_number:  300 Loss : 0.187 Acc : 0.92198\n",
      "(TRAIN) batch_number:  400 Loss : 0.2636 Acc : 0.9216\n",
      "(TRAIN) batch_number:  500 Loss : 0.1049 Acc : 0.92169\n",
      "(TRAIN) batch_number:  600 Loss : 0.1642 Acc : 0.9218\n",
      "(TRAIN) batch_number:  700 Loss : 0.1311 Acc : 0.92127\n",
      "(TEST) Correct_classified :  8764  of 10000\n",
      "(TEST) Loss : 0.3757 Acc : 0.8764\n",
      "\n",
      " ************************************************************ \n",
      "\n",
      "\n",
      "Epoch 16:\n",
      "(TRAIN) batch_number:  100 Loss : 0.2155 Acc : 0.92453\n",
      "(TRAIN) batch_number:  200 Loss : 0.3464 Acc : 0.92523\n",
      "(TRAIN) batch_number:  300 Loss : 0.3131 Acc : 0.92448\n"
     ]
    },
    {
     "name": "stdout",
     "output_type": "stream",
     "text": [
      "(TRAIN) batch_number:  400 Loss : 0.2559 Acc : 0.92234\n",
      "(TRAIN) batch_number:  500 Loss : 0.2628 Acc : 0.92306\n",
      "(TRAIN) batch_number:  600 Loss : 0.1756 Acc : 0.92344\n",
      "(TRAIN) batch_number:  700 Loss : 0.2331 Acc : 0.92442\n",
      "(TEST) Correct_classified :  8754  of 10000\n",
      "(TEST) Loss : 0.3726 Acc : 0.8754\n",
      "\n",
      " ************************************************************ \n",
      "\n",
      "\n",
      "Epoch 17:\n",
      "(TRAIN) batch_number:  100 Loss : 0.2796 Acc : 0.92281\n",
      "(TRAIN) batch_number:  200 Loss : 0.1375 Acc : 0.92352\n",
      "(TRAIN) batch_number:  300 Loss : 0.1479 Acc : 0.9226\n",
      "(TRAIN) batch_number:  400 Loss : 0.1092 Acc : 0.92418\n",
      "(TRAIN) batch_number:  500 Loss : 0.2134 Acc : 0.92456\n",
      "(TRAIN) batch_number:  600 Loss : 0.1661 Acc : 0.92471\n",
      "(TRAIN) batch_number:  700 Loss : 0.2587 Acc : 0.92493\n",
      "(TEST) Correct_classified :  8768  of 10000\n",
      "(TEST) Loss : 0.3699 Acc : 0.8768\n",
      "\n",
      " ************************************************************ \n",
      "\n",
      "\n",
      "Epoch 18:\n",
      "(TRAIN) batch_number:  100 Loss : 0.2642 Acc : 0.92031\n",
      "(TRAIN) batch_number:  200 Loss : 0.2756 Acc : 0.91961\n",
      "(TRAIN) batch_number:  300 Loss : 0.2796 Acc : 0.92229\n",
      "(TRAIN) batch_number:  400 Loss : 0.2216 Acc : 0.92199\n",
      "(TRAIN) batch_number:  500 Loss : 0.3665 Acc : 0.92309\n",
      "(TRAIN) batch_number:  600 Loss : 0.387 Acc : 0.92284\n",
      "(TRAIN) batch_number:  700 Loss : 0.3953 Acc : 0.92279\n",
      "(TEST) Correct_classified :  8767  of 10000\n",
      "(TEST) Loss : 0.3718 Acc : 0.8767\n",
      "\n",
      " ************************************************************ \n",
      "\n",
      "\n",
      "Epoch 19:\n",
      "(TRAIN) batch_number:  100 Loss : 0.1174 Acc : 0.91766\n",
      "(TRAIN) batch_number:  200 Loss : 0.3124 Acc : 0.91961\n",
      "(TRAIN) batch_number:  300 Loss : 0.2986 Acc : 0.9213\n",
      "(TRAIN) batch_number:  400 Loss : 0.1767 Acc : 0.92203\n",
      "(TRAIN) batch_number:  500 Loss : 0.2092 Acc : 0.92259\n",
      "(TRAIN) batch_number:  600 Loss : 0.2452 Acc : 0.92216\n",
      "(TRAIN) batch_number:  700 Loss : 0.3014 Acc : 0.92212\n",
      "(TEST) Correct_classified :  8766  of 10000\n",
      "(TEST) Loss : 0.3756 Acc : 0.8766\n",
      "\n",
      " ************************************************************ \n",
      "\n",
      "\n",
      "Epoch 20:\n",
      "(TRAIN) batch_number:  100 Loss : 0.3408 Acc : 0.92672\n",
      "(TRAIN) batch_number:  200 Loss : 0.27 Acc : 0.92445\n",
      "(TRAIN) batch_number:  300 Loss : 0.288 Acc : 0.92458\n",
      "(TRAIN) batch_number:  400 Loss : 0.1274 Acc : 0.92312\n",
      "(TRAIN) batch_number:  500 Loss : 0.2466 Acc : 0.92431\n",
      "(TRAIN) batch_number:  600 Loss : 0.3584 Acc : 0.92443\n",
      "(TRAIN) batch_number:  700 Loss : 0.1788 Acc : 0.92467\n",
      "(TEST) Correct_classified :  8770  of 10000\n",
      "(TEST) Loss : 0.3726 Acc : 0.877\n",
      "\n",
      " ************************************************************ \n",
      "\n"
     ]
    }
   ],
   "source": [
    "from run import run_model\n",
    "\n",
    "epochs = 20\n",
    "regularization = {'l1_factor':0,'l2_factor':0}\n",
    "\n",
    "model,train_trackers,test_trackers,incorrect_samples = run_model(model, train_loader, test_loader, epochs, device, **regularization)"
   ]
  },
  {
   "cell_type": "code",
   "execution_count": 207,
   "metadata": {},
   "outputs": [
    {
     "data": {
      "image/png": "[encoded data removed]",
      "text/plain": [
       "<Figure size 576x432 with 1 Axes>"
      ]
     },
     "metadata": {
      "needs_background": "light"
     },
     "output_type": "display_data"
    }
   ],
   "source": [
    "import matplotlib.pyplot as plt\n",
    "\n",
    "metric = 'LOSS'\n",
    "# Initialize a figure\n",
    "fig = plt.figure(figsize=(8, 6))\n",
    "\n",
    "# Plot values\n",
    "plain_plt, = plt.plot(test_trackers['test_losses'])\n",
    "\n",
    "\n",
    "# Set plot title\n",
    "plt.title(f'Validation {metric}')\n",
    "\n",
    "# Label axes\n",
    "plt.xlabel('Epoch')\n",
    "plt.ylabel(metric)\n",
    "\n",
    "# Set legend\n",
    "location = 'upper' if metric == 'Loss' else 'lower'\n"
   ]
  },
  {
   "cell_type": "code",
   "execution_count": 7,
   "metadata": {},
   "outputs": [],
   "source": [
    "torch.save(model.state_dict() , 'C://Users//saina//Documents//EVA//S9//trained.pt') "
   ]
  },
  {
   "cell_type": "markdown",
   "metadata": {},
   "source": [
    "# GRAD CAM"
   ]
  },
  {
   "cell_type": "code",
   "execution_count": 41,
   "metadata": {},
   "outputs": [
    {
     "data": {
      "text/plain": [
       "[Conv2d(3, 64, kernel_size=(3, 3), stride=(1, 1), padding=(1, 1), bias=False),\n",
       " BatchNorm2d(64, eps=1e-05, momentum=0.1, affine=True, track_running_stats=True),\n",
       " Sequential(\n",
       "   (0): BasicBlock(\n",
       "     (conv1): Conv2d(64, 64, kernel_size=(3, 3), stride=(1, 1), padding=(1, 1), bias=False)\n",
       "     (bn1): BatchNorm2d(64, eps=1e-05, momentum=0.1, affine=True, track_running_stats=True)\n",
       "     (conv2): Conv2d(64, 64, kernel_size=(3, 3), stride=(1, 1), padding=(1, 1), bias=False)\n",
       "     (bn2): BatchNorm2d(64, eps=1e-05, momentum=0.1, affine=True, track_running_stats=True)\n",
       "     (shortcut): Sequential()\n",
       "   )\n",
       "   (1): BasicBlock(\n",
       "     (conv1): Conv2d(64, 64, kernel_size=(3, 3), stride=(1, 1), padding=(1, 1), bias=False)\n",
       "     (bn1): BatchNorm2d(64, eps=1e-05, momentum=0.1, affine=True, track_running_stats=True)\n",
       "     (conv2): Conv2d(64, 64, kernel_size=(3, 3), stride=(1, 1), padding=(1, 1), bias=False)\n",
       "     (bn2): BatchNorm2d(64, eps=1e-05, momentum=0.1, affine=True, track_running_stats=True)\n",
       "     (shortcut): Sequential()\n",
       "   )\n",
       " ),\n",
       " Sequential(\n",
       "   (0): BasicBlock(\n",
       "     (conv1): Conv2d(64, 128, kernel_size=(3, 3), stride=(2, 2), padding=(1, 1), bias=False)\n",
       "     (bn1): BatchNorm2d(128, eps=1e-05, momentum=0.1, affine=True, track_running_stats=True)\n",
       "     (conv2): Conv2d(128, 128, kernel_size=(3, 3), stride=(1, 1), padding=(1, 1), bias=False)\n",
       "     (bn2): BatchNorm2d(128, eps=1e-05, momentum=0.1, affine=True, track_running_stats=True)\n",
       "     (shortcut): Sequential(\n",
       "       (0): Conv2d(64, 128, kernel_size=(1, 1), stride=(2, 2), bias=False)\n",
       "       (1): BatchNorm2d(128, eps=1e-05, momentum=0.1, affine=True, track_running_stats=True)\n",
       "     )\n",
       "   )\n",
       "   (1): BasicBlock(\n",
       "     (conv1): Conv2d(128, 128, kernel_size=(3, 3), stride=(1, 1), padding=(1, 1), bias=False)\n",
       "     (bn1): BatchNorm2d(128, eps=1e-05, momentum=0.1, affine=True, track_running_stats=True)\n",
       "     (conv2): Conv2d(128, 128, kernel_size=(3, 3), stride=(1, 1), padding=(1, 1), bias=False)\n",
       "     (bn2): BatchNorm2d(128, eps=1e-05, momentum=0.1, affine=True, track_running_stats=True)\n",
       "     (shortcut): Sequential()\n",
       "   )\n",
       " ),\n",
       " Sequential(\n",
       "   (0): BasicBlock(\n",
       "     (conv1): Conv2d(128, 256, kernel_size=(3, 3), stride=(2, 2), padding=(1, 1), bias=False)\n",
       "     (bn1): BatchNorm2d(256, eps=1e-05, momentum=0.1, affine=True, track_running_stats=True)\n",
       "     (conv2): Conv2d(256, 256, kernel_size=(3, 3), stride=(1, 1), padding=(1, 1), bias=False)\n",
       "     (bn2): BatchNorm2d(256, eps=1e-05, momentum=0.1, affine=True, track_running_stats=True)\n",
       "     (shortcut): Sequential(\n",
       "       (0): Conv2d(128, 256, kernel_size=(1, 1), stride=(2, 2), bias=False)\n",
       "       (1): BatchNorm2d(256, eps=1e-05, momentum=0.1, affine=True, track_running_stats=True)\n",
       "     )\n",
       "   )\n",
       "   (1): BasicBlock(\n",
       "     (conv1): Conv2d(256, 256, kernel_size=(3, 3), stride=(1, 1), padding=(1, 1), bias=False)\n",
       "     (bn1): BatchNorm2d(256, eps=1e-05, momentum=0.1, affine=True, track_running_stats=True)\n",
       "     (conv2): Conv2d(256, 256, kernel_size=(3, 3), stride=(1, 1), padding=(1, 1), bias=False)\n",
       "     (bn2): BatchNorm2d(256, eps=1e-05, momentum=0.1, affine=True, track_running_stats=True)\n",
       "     (shortcut): Sequential()\n",
       "   )\n",
       " ),\n",
       " Sequential(\n",
       "   (0): BasicBlock(\n",
       "     (conv1): Conv2d(256, 512, kernel_size=(3, 3), stride=(2, 2), padding=(1, 1), bias=False)\n",
       "     (bn1): BatchNorm2d(512, eps=1e-05, momentum=0.1, affine=True, track_running_stats=True)\n",
       "     (conv2): Conv2d(512, 512, kernel_size=(3, 3), stride=(1, 1), padding=(1, 1), bias=False)\n",
       "     (bn2): BatchNorm2d(512, eps=1e-05, momentum=0.1, affine=True, track_running_stats=True)\n",
       "     (shortcut): Sequential(\n",
       "       (0): Conv2d(256, 512, kernel_size=(1, 1), stride=(2, 2), bias=False)\n",
       "       (1): BatchNorm2d(512, eps=1e-05, momentum=0.1, affine=True, track_running_stats=True)\n",
       "     )\n",
       "   )\n",
       "   (1): BasicBlock(\n",
       "     (conv1): Conv2d(512, 512, kernel_size=(3, 3), stride=(1, 1), padding=(1, 1), bias=False)\n",
       "     (bn1): BatchNorm2d(512, eps=1e-05, momentum=0.1, affine=True, track_running_stats=True)\n",
       "     (conv2): Conv2d(512, 512, kernel_size=(3, 3), stride=(1, 1), padding=(1, 1), bias=False)\n",
       "     (bn2): BatchNorm2d(512, eps=1e-05, momentum=0.1, affine=True, track_running_stats=True)\n",
       "     (shortcut): Sequential()\n",
       "   )\n",
       " ),\n",
       " Linear(in_features=512, out_features=10, bias=True)]"
      ]
     },
     "execution_count": 41,
     "metadata": {},
     "output_type": "execute_result"
    }
   ],
   "source": [
    "list(model.children())"
   ]
  },
  {
   "cell_type": "code",
   "execution_count": 44,
   "metadata": {},
   "outputs": [
    {
     "data": {
      "text/plain": [
       "[Conv2d(3, 64, kernel_size=(3, 3), stride=(1, 1), padding=(1, 1), bias=False),\n",
       " BatchNorm2d(64, eps=1e-05, momentum=0.1, affine=True, track_running_stats=True),\n",
       " Sequential(\n",
       "   (0): BasicBlock(\n",
       "     (conv1): Conv2d(64, 64, kernel_size=(3, 3), stride=(1, 1), padding=(1, 1), bias=False)\n",
       "     (bn1): BatchNorm2d(64, eps=1e-05, momentum=0.1, affine=True, track_running_stats=True)\n",
       "     (conv2): Conv2d(64, 64, kernel_size=(3, 3), stride=(1, 1), padding=(1, 1), bias=False)\n",
       "     (bn2): BatchNorm2d(64, eps=1e-05, momentum=0.1, affine=True, track_running_stats=True)\n",
       "     (shortcut): Sequential()\n",
       "   )\n",
       "   (1): BasicBlock(\n",
       "     (conv1): Conv2d(64, 64, kernel_size=(3, 3), stride=(1, 1), padding=(1, 1), bias=False)\n",
       "     (bn1): BatchNorm2d(64, eps=1e-05, momentum=0.1, affine=True, track_running_stats=True)\n",
       "     (conv2): Conv2d(64, 64, kernel_size=(3, 3), stride=(1, 1), padding=(1, 1), bias=False)\n",
       "     (bn2): BatchNorm2d(64, eps=1e-05, momentum=0.1, affine=True, track_running_stats=True)\n",
       "     (shortcut): Sequential()\n",
       "   )\n",
       " ),\n",
       " Sequential(\n",
       "   (0): BasicBlock(\n",
       "     (conv1): Conv2d(64, 128, kernel_size=(3, 3), stride=(2, 2), padding=(1, 1), bias=False)\n",
       "     (bn1): BatchNorm2d(128, eps=1e-05, momentum=0.1, affine=True, track_running_stats=True)\n",
       "     (conv2): Conv2d(128, 128, kernel_size=(3, 3), stride=(1, 1), padding=(1, 1), bias=False)\n",
       "     (bn2): BatchNorm2d(128, eps=1e-05, momentum=0.1, affine=True, track_running_stats=True)\n",
       "     (shortcut): Sequential(\n",
       "       (0): Conv2d(64, 128, kernel_size=(1, 1), stride=(2, 2), bias=False)\n",
       "       (1): BatchNorm2d(128, eps=1e-05, momentum=0.1, affine=True, track_running_stats=True)\n",
       "     )\n",
       "   )\n",
       "   (1): BasicBlock(\n",
       "     (conv1): Conv2d(128, 128, kernel_size=(3, 3), stride=(1, 1), padding=(1, 1), bias=False)\n",
       "     (bn1): BatchNorm2d(128, eps=1e-05, momentum=0.1, affine=True, track_running_stats=True)\n",
       "     (conv2): Conv2d(128, 128, kernel_size=(3, 3), stride=(1, 1), padding=(1, 1), bias=False)\n",
       "     (bn2): BatchNorm2d(128, eps=1e-05, momentum=0.1, affine=True, track_running_stats=True)\n",
       "     (shortcut): Sequential()\n",
       "   )\n",
       " ),\n",
       " Sequential(\n",
       "   (0): BasicBlock(\n",
       "     (conv1): Conv2d(128, 256, kernel_size=(3, 3), stride=(2, 2), padding=(1, 1), bias=False)\n",
       "     (bn1): BatchNorm2d(256, eps=1e-05, momentum=0.1, affine=True, track_running_stats=True)\n",
       "     (conv2): Conv2d(256, 256, kernel_size=(3, 3), stride=(1, 1), padding=(1, 1), bias=False)\n",
       "     (bn2): BatchNorm2d(256, eps=1e-05, momentum=0.1, affine=True, track_running_stats=True)\n",
       "     (shortcut): Sequential(\n",
       "       (0): Conv2d(128, 256, kernel_size=(1, 1), stride=(2, 2), bias=False)\n",
       "       (1): BatchNorm2d(256, eps=1e-05, momentum=0.1, affine=True, track_running_stats=True)\n",
       "     )\n",
       "   )\n",
       "   (1): BasicBlock(\n",
       "     (conv1): Conv2d(256, 256, kernel_size=(3, 3), stride=(1, 1), padding=(1, 1), bias=False)\n",
       "     (bn1): BatchNorm2d(256, eps=1e-05, momentum=0.1, affine=True, track_running_stats=True)\n",
       "     (conv2): Conv2d(256, 256, kernel_size=(3, 3), stride=(1, 1), padding=(1, 1), bias=False)\n",
       "     (bn2): BatchNorm2d(256, eps=1e-05, momentum=0.1, affine=True, track_running_stats=True)\n",
       "     (shortcut): Sequential()\n",
       "   )\n",
       " )]"
      ]
     },
     "execution_count": 44,
     "metadata": {},
     "output_type": "execute_result"
    }
   ],
   "source": [
    "list(model.children())[:-2]"
   ]
  },
  {
   "cell_type": "code",
   "execution_count": 45,
   "metadata": {},
   "outputs": [],
   "source": [
    "class ModelGradCam(nn.Module):\n",
    "    \n",
    "    def __init__(self,model):\n",
    "        super().__init__()\n",
    "        \n",
    "        # get the pretrained resnet network\n",
    "        self.res = model\n",
    "        \n",
    "        # disect the network to access its last convolutional layer\n",
    "        self.features_conv = nn.Sequential(*list(self.res.children())[:-2])\n",
    "        \n",
    "        # # get the max pool of the features stem\n",
    "        # self.max_pool = nn.MaxPool2d(kernel_size=2, stride=2, padding=0, dilation=1, ceil_mode=False)\n",
    "        \n",
    "        # get the classifier of the resnet\n",
    "        self.classifier1 = list(self.res.children())[-2:][0]\n",
    "        self.classifier2 = list(self.res.children())[-2:][1]\n",
    "\n",
    "        \n",
    "        # placeholder for the gradients\n",
    "        self.gradients = None\n",
    "    \n",
    "    # hook for the gradients of the activations\n",
    "    def activations_hook(self, grad):\n",
    "        self.gradients = grad\n",
    "        \n",
    "    def forward(self, x):\n",
    "        x = self.features_conv(x)\n",
    "        \n",
    "        # register the hook\n",
    "        h = x.register_hook(self.activations_hook)\n",
    "\n",
    "        # apply the remaining pooling\n",
    "        x = self.classifier1(x)\n",
    "        x = F.avg_pool2d(x, 4)\n",
    "        x = x.view(x.size(0), -1)\n",
    "        x = self.classifier2(x)\n",
    "        return x\n",
    "    \n",
    "    # method for the gradient extraction\n",
    "    def get_activations_gradient(self):\n",
    "        return self.gradients\n",
    "    \n",
    "    # method for the activation exctraction\n",
    "    def get_activations(self, x):\n",
    "        return self.features_conv(x)"
   ]
  },
  {
   "cell_type": "code",
   "execution_count": 173,
   "metadata": {},
   "outputs": [],
   "source": [
    "from data import Transforms\n",
    "\n",
    "from torchvision import datasets\n",
    "\n",
    "test_transforms = Transforms(train=False, **transform_args)\n",
    "\n",
    "data = datasets.ImageFolder(\"./test\", test_transforms)\n",
    "\n",
    "sample_loader = torch.utils.data.DataLoader(data, batch_size = 1, shuffle=False, num_workers=4)"
   ]
  },
  {
   "cell_type": "code",
   "execution_count": 174,
   "metadata": {},
   "outputs": [
    {
     "data": {
      "text/plain": [
       "['cat', 'dog']"
      ]
     },
     "execution_count": 174,
     "metadata": {},
     "output_type": "execute_result"
    }
   ],
   "source": [
    "sample_loader.dataset.classes"
   ]
  },
  {
   "cell_type": "code",
   "execution_count": 52,
   "metadata": {},
   "outputs": [],
   "source": [
    "device2 = torch.device(\"cpu\")"
   ]
  },
  {
   "cell_type": "code",
   "execution_count": 176,
   "metadata": {},
   "outputs": [],
   "source": [
    "for img,label in sample_loader:\n",
    "    img = img.to(device)"
   ]
  },
  {
   "cell_type": "code",
   "execution_count": 177,
   "metadata": {},
   "outputs": [
    {
     "data": {
      "text/plain": [
       "torch.Size([1, 3, 32, 32])"
      ]
     },
     "execution_count": 177,
     "metadata": {},
     "output_type": "execute_result"
    }
   ],
   "source": [
    "img.shape"
   ]
  },
  {
   "cell_type": "code",
   "execution_count": 180,
   "metadata": {},
   "outputs": [
    {
     "name": "stderr",
     "output_type": "stream",
     "text": [
      "Clipping input data to the valid range for imshow with RGB data ([0..1] for floats or [0..255] for integers).\n"
     ]
    },
    {
     "data": {
      "text/plain": [
       "<matplotlib.image.AxesImage at 0x1caf4fb58d0>"
      ]
     },
     "execution_count": 180,
     "metadata": {},
     "output_type": "execute_result"
    },
    {
     "data": {
      "image/png": "[encoded data removed]",
      "text/plain": [
       "<Figure size 432x288 with 1 Axes>"
      ]
     },
     "metadata": {
      "needs_background": "light"
     },
     "output_type": "display_data"
    }
   ],
   "source": [
    "plt.imshow(np.transpose(img.squeeze().cpu().data.numpy() , (1,2,0)))"
   ]
  },
  {
   "cell_type": "code",
   "execution_count": 189,
   "metadata": {},
   "outputs": [
    {
     "name": "stdout",
     "output_type": "stream",
     "text": [
      "aaaaaa\n",
      "bbbbbb\n",
      "torch.Size([1, 256, 8, 8])\n",
      "before linear torch.Size([1, 512, 4, 4])\n",
      "cccccc\n"
     ]
    }
   ],
   "source": [
    "# initialize the resnet model\n",
    "res = ModelGradCam(model)\n",
    "\n",
    "# set the evaluation mode\n",
    "res.eval()\n",
    "\n",
    "# get the most likely prediction of the model\n",
    "pred = res(img)"
   ]
  },
  {
   "cell_type": "code",
   "execution_count": 190,
   "metadata": {},
   "outputs": [
    {
     "data": {
      "text/plain": [
       "tensor([[ 0.8898, -0.7844, -4.0727,  3.8725, -5.8945, 13.1918, -6.0310,  2.1498,\n",
       "         -4.6134, -0.4906]], device='cuda:0', grad_fn=<AddmmBackward>)"
      ]
     },
     "execution_count": 190,
     "metadata": {},
     "output_type": "execute_result"
    }
   ],
   "source": [
    "pred"
   ]
  },
  {
   "cell_type": "code",
   "execution_count": 191,
   "metadata": {},
   "outputs": [],
   "source": [
    "# get the gradient of the output with respect to the parameters of the model\n",
    "pred[:,5].backward()"
   ]
  },
  {
   "cell_type": "code",
   "execution_count": 192,
   "metadata": {},
   "outputs": [],
   "source": [
    "# pull the gradients out of the model\n",
    "gradients = res.get_activations_gradient()"
   ]
  },
  {
   "cell_type": "code",
   "execution_count": 193,
   "metadata": {},
   "outputs": [],
   "source": [
    "# pool the gradients across the channels\n",
    "pooled_gradients = torch.mean(gradients, dim=[0, 2, 3])"
   ]
  },
  {
   "cell_type": "code",
   "execution_count": 194,
   "metadata": {},
   "outputs": [],
   "source": [
    "# get the activations of the last convolutional layer\n",
    "activations = res.get_activations(img).detach()"
   ]
  },
  {
   "cell_type": "code",
   "execution_count": 195,
   "metadata": {},
   "outputs": [
    {
     "data": {
      "text/plain": [
       "torch.Size([256])"
      ]
     },
     "execution_count": 195,
     "metadata": {},
     "output_type": "execute_result"
    }
   ],
   "source": [
    "pooled_gradients.shape"
   ]
  },
  {
   "cell_type": "code",
   "execution_count": 196,
   "metadata": {},
   "outputs": [
    {
     "data": {
      "text/plain": [
       "torch.Size([1, 256, 8, 8])"
      ]
     },
     "execution_count": 196,
     "metadata": {},
     "output_type": "execute_result"
    }
   ],
   "source": [
    "activations.shape"
   ]
  },
  {
   "cell_type": "code",
   "execution_count": 197,
   "metadata": {},
   "outputs": [],
   "source": [
    "# weight the channels by corresponding gradients\n",
    "\n",
    "for i in range(256):\n",
    "    activations[:, i, :, :] *= pooled_gradients[i]"
   ]
  },
  {
   "cell_type": "code",
   "execution_count": 198,
   "metadata": {},
   "outputs": [
    {
     "data": {
      "text/plain": [
       "torch.Size([8, 8])"
      ]
     },
     "execution_count": 198,
     "metadata": {},
     "output_type": "execute_result"
    }
   ],
   "source": [
    "# weight the channels by corresponding gradients\n",
    "\n",
    "heatmap = torch.mean(activations, dim=1).squeeze()\n",
    "heatmap.shape"
   ]
  },
  {
   "cell_type": "code",
   "execution_count": 199,
   "metadata": {},
   "outputs": [
    {
     "data": {
      "text/plain": [
       "torch.Size([8, 8])"
      ]
     },
     "execution_count": 199,
     "metadata": {},
     "output_type": "execute_result"
    }
   ],
   "source": [
    "# relu on top of the heatmap\n",
    "# expression (2) in https://arxiv.org/pdf/1610.02391.pdf\n",
    "heatmap = np.maximum(heatmap.cpu(), 0)\n",
    "heatmap.shape"
   ]
  },
  {
   "cell_type": "code",
   "execution_count": 200,
   "metadata": {},
   "outputs": [],
   "source": [
    "heatmap /= torch.max(heatmap)"
   ]
  },
  {
   "cell_type": "code",
   "execution_count": 201,
   "metadata": {},
   "outputs": [
    {
     "data": {
      "text/plain": [
       "<matplotlib.image.AxesImage at 0x1caf5ff3080>"
      ]
     },
     "execution_count": 201,
     "metadata": {},
     "output_type": "execute_result"
    },
    {
     "data": {
      "image/png": "[encoded data removed]",
      "text/plain": [
       "<Figure size 288x288 with 1 Axes>"
      ]
     },
     "metadata": {
      "needs_background": "light"
     },
     "output_type": "display_data"
    }
   ],
   "source": [
    "# normalize the heatmap\n",
    "import matplotlib.pyplot as plt\n",
    "\n",
    "plt.matshow(heatmap.squeeze())"
   ]
  },
  {
   "cell_type": "code",
   "execution_count": 204,
   "metadata": {},
   "outputs": [
    {
     "data": {
      "text/plain": [
       "<matplotlib.image.AxesImage at 0x1caf60fac50>"
      ]
     },
     "execution_count": 204,
     "metadata": {},
     "output_type": "execute_result"
    },
    {
     "data": {
      "image/png": "[encoded data removed]",
      "text/plain": [
       "<Figure size 432x288 with 1 Axes>"
      ]
     },
     "metadata": {
      "needs_background": "light"
     },
     "output_type": "display_data"
    }
   ],
   "source": [
    "## interpolate the heat-map and project it onto the original image\n",
    "\n",
    "import cv2\n",
    "img = cv2.imread('.\\\\test\\\\dog\\\\dog1.png')\n",
    "plt.imshow(img)"
   ]
  },
  {
   "cell_type": "code",
   "execution_count": 205,
   "metadata": {},
   "outputs": [
    {
     "data": {
      "text/plain": [
       "<matplotlib.image.AxesImage at 0x1caf615f0f0>"
      ]
     },
     "execution_count": 205,
     "metadata": {},
     "output_type": "execute_result"
    },
    {
     "data": {
      "image/png": "[encoded data removed]",
      "text/plain": [
       "<Figure size 432x288 with 1 Axes>"
      ]
     },
     "metadata": {
      "needs_background": "light"
     },
     "output_type": "display_data"
    }
   ],
   "source": [
    "heatmap_numpy_resized = cv2.resize(heatmap.cpu().data.numpy(), (img.shape[1], img.shape[0]))\n",
    "heatmap_rescaled = np.uint8(255 * heatmap_numpy_resized)\n",
    "\n",
    "plt.imshow(heatmap_rescaled)"
   ]
  },
  {
   "cell_type": "code",
   "execution_count": 206,
   "metadata": {},
   "outputs": [
    {
     "data": {
      "text/plain": [
       "True"
      ]
     },
     "execution_count": 206,
     "metadata": {},
     "output_type": "execute_result"
    }
   ],
   "source": [
    "heatmap_final = cv2.applyColorMap(heatmap_rescaled, cv2.COLORMAP_JET)\n",
    "superimposed_img = heatmap_final * 0.4 + img\n",
    "cv2.imwrite('.\\\\Gradcam_out\\\\map.jpg', superimposed_img)"
   ]
  },
  {
   "cell_type": "code",
   "execution_count": 100,
   "metadata": {},
   "outputs": [
    {
     "data": {
      "text/plain": [
       "(32, 32, 3)"
      ]
     },
     "execution_count": 100,
     "metadata": {},
     "output_type": "execute_result"
    }
   ],
   "source": [
    "superimposed_img.shape"
   ]
  },
  {
   "cell_type": "code",
   "execution_count": null,
   "metadata": {},
   "outputs": [],
   "source": []
  }
 ],
 "metadata": {
  "kernelspec": {
   "display_name": "Python 3",
   "language": "python",
   "name": "python3"
  },
  "language_info": {
   "codemirror_mode": {
    "name": "ipython",
    "version": 3
   },
   "file_extension": ".py",
   "mimetype": "text/x-python",
   "name": "python",
   "nbconvert_exporter": "python",
   "pygments_lexer": "ipython3",
   "version": "3.7.3"
  }
 },
 "nbformat": 4,
 "nbformat_minor": 4
}
