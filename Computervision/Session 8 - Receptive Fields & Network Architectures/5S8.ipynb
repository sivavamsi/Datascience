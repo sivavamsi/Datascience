{
  "nbformat": 4,
  "nbformat_minor": 0,
  "metadata": {
    "colab": {
      "name": "5S8.ipynb",
      "provenance": [],
      "collapsed_sections": []
    },
    "kernelspec": {
      "name": "python3",
      "display_name": "Python 3"
    },
    "accelerator": "GPU"
  },
  "cells": [
    {
      "cell_type": "code",
      "metadata": {
        "colab": {
          "base_uri": "https://localhost:8080/"
        },
        "id": "GHvLrFjSZu1w",
        "outputId": "bd13b362-9c15-4a85-b31c-87a975ac0776"
      },
      "source": [
        "from google.colab import drive\n",
        "drive.mount('/content/drive')"
      ],
      "execution_count": 2,
      "outputs": [
        {
          "output_type": "stream",
          "text": [
            "Drive already mounted at /content/drive; to attempt to forcibly remount, call drive.mount(\"/content/drive\", force_remount=True).\n"
          ],
          "name": "stdout"
        }
      ]
    },
    {
      "cell_type": "code",
      "metadata": {
        "colab": {
          "base_uri": "https://localhost:8080/"
        },
        "id": "rvmGlPR7Zv2r",
        "outputId": "98197554-30e9-4301-8400-89b99bac1778"
      },
      "source": [
        "cd drive/MyDrive/s6"
      ],
      "execution_count": 1,
      "outputs": [
        {
          "output_type": "stream",
          "text": [
            "/content/drive/MyDrive/s6\n"
          ],
          "name": "stdout"
        }
      ]
    },
    {
      "cell_type": "code",
      "metadata": {
        "colab": {
          "base_uri": "https://localhost:8080/"
        },
        "id": "whOZGVJAZ4Fg",
        "outputId": "b95a6149-582a-4985-ce63-1b86bab9841e"
      },
      "source": [
        "ls"
      ],
      "execution_count": 2,
      "outputs": [
        {
          "output_type": "stream",
          "text": [
            "\u001b[0m\u001b[01;34mdata\u001b[0m/           gbn.py       \u001b[01;34m__pycache__\u001b[0m/  test.py      utils.py\n",
            "data.py         metric.json  run.py        training.py\n",
            "feedforward.py  model.pt     testing.py    train.py\n"
          ],
          "name": "stdout"
        }
      ]
    },
    {
      "cell_type": "code",
      "metadata": {
        "colab": {
          "base_uri": "https://localhost:8080/"
        },
        "id": "MpZndZHbYVd4",
        "outputId": "76271985-ab6e-41cb-b4d8-1dfa4cb7c49f"
      },
      "source": [
        "import torch\r\n",
        "from feedforward import ResNet18\r\n",
        "from torchsummary import summary\r\n",
        "use_cuda = torch.cuda.is_available()\r\n",
        "device = torch.device(\"cuda\" if use_cuda else \"cpu\")\r\n",
        "model = ResNet18().to(device)\r\n",
        "summary(model, input_size=(3, 32, 32))"
      ],
      "execution_count": 3,
      "outputs": [
        {
          "output_type": "stream",
          "text": [
            "----------------------------------------------------------------\n",
            "        Layer (type)               Output Shape         Param #\n",
            "================================================================\n",
            "            Conv2d-1           [-1, 64, 32, 32]           1,728\n",
            "       BatchNorm2d-2           [-1, 64, 32, 32]             128\n",
            "            Conv2d-3           [-1, 64, 32, 32]          36,864\n",
            "       BatchNorm2d-4           [-1, 64, 32, 32]             128\n",
            "            Conv2d-5           [-1, 64, 32, 32]          36,864\n",
            "       BatchNorm2d-6           [-1, 64, 32, 32]             128\n",
            "        BasicBlock-7           [-1, 64, 32, 32]               0\n",
            "            Conv2d-8           [-1, 64, 32, 32]          36,864\n",
            "       BatchNorm2d-9           [-1, 64, 32, 32]             128\n",
            "           Conv2d-10           [-1, 64, 32, 32]          36,864\n",
            "      BatchNorm2d-11           [-1, 64, 32, 32]             128\n",
            "       BasicBlock-12           [-1, 64, 32, 32]               0\n",
            "           Conv2d-13          [-1, 128, 16, 16]          73,728\n",
            "      BatchNorm2d-14          [-1, 128, 16, 16]             256\n",
            "           Conv2d-15          [-1, 128, 16, 16]         147,456\n",
            "      BatchNorm2d-16          [-1, 128, 16, 16]             256\n",
            "           Conv2d-17          [-1, 128, 16, 16]           8,192\n",
            "      BatchNorm2d-18          [-1, 128, 16, 16]             256\n",
            "       BasicBlock-19          [-1, 128, 16, 16]               0\n",
            "           Conv2d-20          [-1, 128, 16, 16]         147,456\n",
            "      BatchNorm2d-21          [-1, 128, 16, 16]             256\n",
            "           Conv2d-22          [-1, 128, 16, 16]         147,456\n",
            "      BatchNorm2d-23          [-1, 128, 16, 16]             256\n",
            "       BasicBlock-24          [-1, 128, 16, 16]               0\n",
            "           Conv2d-25            [-1, 256, 8, 8]         294,912\n",
            "      BatchNorm2d-26            [-1, 256, 8, 8]             512\n",
            "           Conv2d-27            [-1, 256, 8, 8]         589,824\n",
            "      BatchNorm2d-28            [-1, 256, 8, 8]             512\n",
            "           Conv2d-29            [-1, 256, 8, 8]          32,768\n",
            "      BatchNorm2d-30            [-1, 256, 8, 8]             512\n",
            "       BasicBlock-31            [-1, 256, 8, 8]               0\n",
            "           Conv2d-32            [-1, 256, 8, 8]         589,824\n",
            "      BatchNorm2d-33            [-1, 256, 8, 8]             512\n",
            "           Conv2d-34            [-1, 256, 8, 8]         589,824\n",
            "      BatchNorm2d-35            [-1, 256, 8, 8]             512\n",
            "       BasicBlock-36            [-1, 256, 8, 8]               0\n",
            "           Conv2d-37            [-1, 512, 4, 4]       1,179,648\n",
            "      BatchNorm2d-38            [-1, 512, 4, 4]           1,024\n",
            "           Conv2d-39            [-1, 512, 4, 4]       2,359,296\n",
            "      BatchNorm2d-40            [-1, 512, 4, 4]           1,024\n",
            "           Conv2d-41            [-1, 512, 4, 4]         131,072\n",
            "      BatchNorm2d-42            [-1, 512, 4, 4]           1,024\n",
            "       BasicBlock-43            [-1, 512, 4, 4]               0\n",
            "           Conv2d-44            [-1, 512, 4, 4]       2,359,296\n",
            "      BatchNorm2d-45            [-1, 512, 4, 4]           1,024\n",
            "           Conv2d-46            [-1, 512, 4, 4]       2,359,296\n",
            "      BatchNorm2d-47            [-1, 512, 4, 4]           1,024\n",
            "       BasicBlock-48            [-1, 512, 4, 4]               0\n",
            "           Linear-49                   [-1, 10]           5,130\n",
            "================================================================\n",
            "Total params: 11,173,962\n",
            "Trainable params: 11,173,962\n",
            "Non-trainable params: 0\n",
            "----------------------------------------------------------------\n",
            "Input size (MB): 0.01\n",
            "Forward/backward pass size (MB): 11.25\n",
            "Params size (MB): 42.63\n",
            "Estimated Total Size (MB): 53.89\n",
            "----------------------------------------------------------------\n"
          ],
          "name": "stdout"
        }
      ]
    },
    {
      "cell_type": "code",
      "metadata": {
        "id": "vS3qTRe_sDFR",
        "colab": {
          "base_uri": "https://localhost:8080/"
        },
        "outputId": "f40814fb-5fee-4ad7-abaf-54e28d6d46ef"
      },
      "source": [
        "from run import run\r\n",
        "run(epochs=50)"
      ],
      "execution_count": null,
      "outputs": [
        {
          "output_type": "stream",
          "text": [
            "Files already downloaded and verified\n",
            "Files already downloaded and verified\n"
          ],
          "name": "stdout"
        },
        {
          "output_type": "stream",
          "text": [
            "\r  0%|          | 0/391 [00:00<?, ?it/s]"
          ],
          "name": "stderr"
        },
        {
          "output_type": "stream",
          "text": [
            "\n",
            "Epoch: 1\n"
          ],
          "name": "stdout"
        },
        {
          "output_type": "stream",
          "text": [
            "100%|██████████| 391/391 [01:02<00:00,  6.23it/s]\n",
            "100%|██████████| 100/100 [00:03<00:00, 33.17it/s]\n",
            "  0%|          | 0/391 [00:00<?, ?it/s]"
          ],
          "name": "stderr"
        },
        {
          "output_type": "stream",
          "text": [
            "\n",
            "Epoch: 1\n",
            "\t Train set: Average loss: 2.128370292351374, Accuracy: 27.254%\n",
            "\n",
            "\tTest set: Average loss: 1.6347090101242066, Accuracy: 38.33%\n",
            "\n",
            "Epoch: 2\n"
          ],
          "name": "stdout"
        },
        {
          "output_type": "stream",
          "text": [
            "100%|██████████| 391/391 [01:02<00:00,  6.21it/s]\n",
            "100%|██████████| 100/100 [00:02<00:00, 33.51it/s]\n",
            "  0%|          | 0/391 [00:00<?, ?it/s]"
          ],
          "name": "stderr"
        },
        {
          "output_type": "stream",
          "text": [
            "\n",
            "Epoch: 2\n",
            "\t Train set: Average loss: 1.5311814525243266, Accuracy: 43.13%\n",
            "\n",
            "\tTest set: Average loss: 1.5304442644119263, Accuracy: 45.29%\n",
            "\n",
            "Epoch: 3\n"
          ],
          "name": "stdout"
        },
        {
          "output_type": "stream",
          "text": [
            "100%|██████████| 391/391 [01:03<00:00,  6.19it/s]\n",
            "100%|██████████| 100/100 [00:03<00:00, 32.98it/s]\n",
            "  0%|          | 0/391 [00:00<?, ?it/s]"
          ],
          "name": "stderr"
        },
        {
          "output_type": "stream",
          "text": [
            "\n",
            "Epoch: 3\n",
            "\t Train set: Average loss: 1.2567302869713826, Accuracy: 53.852%\n",
            "\n",
            "\tTest set: Average loss: 1.3948547852039337, Accuracy: 51.65%\n",
            "\n",
            "Epoch: 4\n"
          ],
          "name": "stdout"
        },
        {
          "output_type": "stream",
          "text": [
            "100%|██████████| 391/391 [01:03<00:00,  6.16it/s]\n",
            "100%|██████████| 100/100 [00:03<00:00, 32.39it/s]\n",
            "  0%|          | 0/391 [00:00<?, ?it/s]"
          ],
          "name": "stderr"
        },
        {
          "output_type": "stream",
          "text": [
            "\n",
            "Epoch: 4\n",
            "\t Train set: Average loss: 1.051313895856023, Accuracy: 62.234%\n",
            "\n",
            "\tTest set: Average loss: 1.04416133582592, Accuracy: 63.65%\n",
            "\n",
            "Epoch: 5\n"
          ],
          "name": "stdout"
        },
        {
          "output_type": "stream",
          "text": [
            "100%|██████████| 391/391 [01:03<00:00,  6.20it/s]\n",
            "100%|██████████| 100/100 [00:03<00:00, 33.18it/s]\n",
            "  0%|          | 0/391 [00:00<?, ?it/s]"
          ],
          "name": "stderr"
        },
        {
          "output_type": "stream",
          "text": [
            "\n",
            "Epoch: 5\n",
            "\t Train set: Average loss: 0.8955107598048647, Accuracy: 68.256%\n",
            "\n",
            "\tTest set: Average loss: 1.0378867411613464, Accuracy: 64.83%\n",
            "\n",
            "Epoch: 6\n"
          ],
          "name": "stdout"
        },
        {
          "output_type": "stream",
          "text": [
            "100%|██████████| 391/391 [01:03<00:00,  6.18it/s]\n",
            "100%|██████████| 100/100 [00:02<00:00, 33.43it/s]\n",
            "  0%|          | 0/391 [00:00<?, ?it/s]"
          ],
          "name": "stderr"
        },
        {
          "output_type": "stream",
          "text": [
            "\n",
            "Epoch: 6\n",
            "\t Train set: Average loss: 0.7552470051114212, Accuracy: 73.466%\n",
            "\n",
            "\tTest set: Average loss: 0.8414817726612092, Accuracy: 71.39%\n",
            "\n",
            "Epoch: 7\n"
          ],
          "name": "stdout"
        },
        {
          "output_type": "stream",
          "text": [
            "100%|██████████| 391/391 [01:03<00:00,  6.18it/s]\n",
            "100%|██████████| 100/100 [00:03<00:00, 33.11it/s]\n",
            "  0%|          | 0/391 [00:00<?, ?it/s]"
          ],
          "name": "stderr"
        },
        {
          "output_type": "stream",
          "text": [
            "\n",
            "Epoch: 7\n",
            "\t Train set: Average loss: 0.6634034271282918, Accuracy: 76.986%\n",
            "\n",
            "\tTest set: Average loss: 0.7244924813508987, Accuracy: 74.8%\n",
            "\n",
            "Epoch: 8\n"
          ],
          "name": "stdout"
        },
        {
          "output_type": "stream",
          "text": [
            "100%|██████████| 391/391 [01:03<00:00,  6.19it/s]\n",
            "100%|██████████| 100/100 [00:03<00:00, 33.00it/s]\n",
            "  0%|          | 0/391 [00:00<?, ?it/s]"
          ],
          "name": "stderr"
        },
        {
          "output_type": "stream",
          "text": [
            "\n",
            "Epoch: 8\n",
            "\t Train set: Average loss: 0.6173470687988164, Accuracy: 78.512%\n",
            "\n",
            "\tTest set: Average loss: 0.6793201756477356, Accuracy: 77.2%\n",
            "\n",
            "Epoch: 9\n"
          ],
          "name": "stdout"
        },
        {
          "output_type": "stream",
          "text": [
            "100%|██████████| 391/391 [01:02<00:00,  6.21it/s]\n",
            "100%|██████████| 100/100 [00:03<00:00, 33.30it/s]\n",
            "  0%|          | 0/391 [00:00<?, ?it/s]"
          ],
          "name": "stderr"
        },
        {
          "output_type": "stream",
          "text": [
            "\n",
            "Epoch: 9\n",
            "\t Train set: Average loss: 0.5723831350236293, Accuracy: 80.322%\n",
            "\n",
            "\tTest set: Average loss: 0.7541403412818909, Accuracy: 75.08%\n",
            "\n",
            "Epoch: 10\n"
          ],
          "name": "stdout"
        },
        {
          "output_type": "stream",
          "text": [
            "100%|██████████| 391/391 [01:03<00:00,  6.20it/s]\n",
            "100%|██████████| 100/100 [00:03<00:00, 32.84it/s]\n",
            "  0%|          | 0/391 [00:00<?, ?it/s]"
          ],
          "name": "stderr"
        },
        {
          "output_type": "stream",
          "text": [
            "\n",
            "Epoch: 10\n",
            "\t Train set: Average loss: 0.5482799708081023, Accuracy: 81.162%\n",
            "\n",
            "\tTest set: Average loss: 0.7526173740625381, Accuracy: 74.89%\n",
            "\n",
            "Epoch: 11\n"
          ],
          "name": "stdout"
        },
        {
          "output_type": "stream",
          "text": [
            "100%|██████████| 391/391 [01:02<00:00,  6.23it/s]\n",
            "100%|██████████| 100/100 [00:03<00:00, 33.22it/s]\n",
            "  0%|          | 0/391 [00:00<?, ?it/s]"
          ],
          "name": "stderr"
        },
        {
          "output_type": "stream",
          "text": [
            "\n",
            "Epoch: 11\n",
            "\t Train set: Average loss: 0.5216142373621616, Accuracy: 82.062%\n",
            "\n",
            "\tTest set: Average loss: 0.5809719836711884, Accuracy: 81.03%\n",
            "\n",
            "Epoch: 12\n"
          ],
          "name": "stdout"
        },
        {
          "output_type": "stream",
          "text": [
            "100%|██████████| 391/391 [01:03<00:00,  6.19it/s]\n",
            "100%|██████████| 100/100 [00:03<00:00, 33.09it/s]\n",
            "  0%|          | 0/391 [00:00<?, ?it/s]"
          ],
          "name": "stderr"
        },
        {
          "output_type": "stream",
          "text": [
            "\n",
            "Epoch: 12\n",
            "\t Train set: Average loss: 0.4955046003127037, Accuracy: 82.954%\n",
            "\n",
            "\tTest set: Average loss: 0.6710876280069351, Accuracy: 77.95%\n",
            "\n",
            "Epoch: 13\n"
          ],
          "name": "stdout"
        },
        {
          "output_type": "stream",
          "text": [
            "100%|██████████| 391/391 [01:03<00:00,  6.18it/s]\n",
            "100%|██████████| 100/100 [00:03<00:00, 32.99it/s]\n",
            "  0%|          | 0/391 [00:00<?, ?it/s]"
          ],
          "name": "stderr"
        },
        {
          "output_type": "stream",
          "text": [
            "\n",
            "Epoch: 13\n",
            "\t Train set: Average loss: 0.4866008366007939, Accuracy: 83.344%\n",
            "\n",
            "\tTest set: Average loss: 0.5364640906453133, Accuracy: 81.87%\n",
            "\n",
            "Epoch: 14\n"
          ],
          "name": "stdout"
        },
        {
          "output_type": "stream",
          "text": [
            "100%|██████████| 391/391 [01:03<00:00,  6.18it/s]\n",
            "100%|██████████| 100/100 [00:02<00:00, 33.51it/s]\n",
            "  0%|          | 0/391 [00:00<?, ?it/s]"
          ],
          "name": "stderr"
        },
        {
          "output_type": "stream",
          "text": [
            "\n",
            "Epoch: 14\n",
            "\t Train set: Average loss: 0.4591260978480434, Accuracy: 84.318%\n",
            "\n",
            "\tTest set: Average loss: 0.7004068407416344, Accuracy: 78.3%\n",
            "\n",
            "Epoch: 15\n"
          ],
          "name": "stdout"
        },
        {
          "output_type": "stream",
          "text": [
            "100%|██████████| 391/391 [01:03<00:00,  6.18it/s]\n",
            "100%|██████████| 100/100 [00:03<00:00, 32.80it/s]\n",
            "  0%|          | 0/391 [00:00<?, ?it/s]"
          ],
          "name": "stderr"
        },
        {
          "output_type": "stream",
          "text": [
            "\n",
            "Epoch: 15\n",
            "\t Train set: Average loss: 0.46101149127763863, Accuracy: 84.3%\n",
            "\n",
            "\tTest set: Average loss: 0.4936007454991341, Accuracy: 83.15%\n",
            "\n",
            "Epoch: 16\n"
          ],
          "name": "stdout"
        },
        {
          "output_type": "stream",
          "text": [
            "100%|██████████| 391/391 [01:03<00:00,  6.16it/s]\n",
            "100%|██████████| 100/100 [00:02<00:00, 33.48it/s]\n",
            "  0%|          | 0/391 [00:00<?, ?it/s]"
          ],
          "name": "stderr"
        },
        {
          "output_type": "stream",
          "text": [
            "\n",
            "Epoch: 16\n",
            "\t Train set: Average loss: 0.439751678263135, Accuracy: 84.936%\n",
            "\n",
            "\tTest set: Average loss: 0.718444712460041, Accuracy: 76.96%\n",
            "\n",
            "Epoch: 17\n"
          ],
          "name": "stdout"
        },
        {
          "output_type": "stream",
          "text": [
            "100%|██████████| 391/391 [01:02<00:00,  6.22it/s]\n",
            "100%|██████████| 100/100 [00:03<00:00, 32.97it/s]\n",
            "  0%|          | 0/391 [00:00<?, ?it/s]"
          ],
          "name": "stderr"
        },
        {
          "output_type": "stream",
          "text": [
            "\n",
            "Epoch: 17\n",
            "\t Train set: Average loss: 0.4335293634925657, Accuracy: 85.048%\n",
            "\n",
            "\tTest set: Average loss: 0.6047691032290459, Accuracy: 80.4%\n",
            "\n",
            "Epoch: 18\n"
          ],
          "name": "stdout"
        },
        {
          "output_type": "stream",
          "text": [
            "100%|██████████| 391/391 [01:03<00:00,  6.20it/s]\n",
            "100%|██████████| 100/100 [00:02<00:00, 33.60it/s]\n",
            "  0%|          | 0/391 [00:00<?, ?it/s]"
          ],
          "name": "stderr"
        },
        {
          "output_type": "stream",
          "text": [
            "\n",
            "Epoch: 18\n",
            "\t Train set: Average loss: 0.42269175032825423, Accuracy: 85.628%\n",
            "\n",
            "\tTest set: Average loss: 0.6860317215323448, Accuracy: 78.39%\n",
            "\n",
            "Epoch: 19\n"
          ],
          "name": "stdout"
        },
        {
          "output_type": "stream",
          "text": [
            "100%|██████████| 391/391 [01:03<00:00,  6.19it/s]\n",
            "100%|██████████| 100/100 [00:02<00:00, 33.64it/s]\n",
            "  0%|          | 0/391 [00:00<?, ?it/s]"
          ],
          "name": "stderr"
        },
        {
          "output_type": "stream",
          "text": [
            "\n",
            "Epoch: 19\n",
            "\t Train set: Average loss: 0.42222475167125695, Accuracy: 85.752%\n",
            "\n",
            "\tTest set: Average loss: 0.5234189832210541, Accuracy: 82.48%\n",
            "\n",
            "Epoch: 20\n"
          ],
          "name": "stdout"
        },
        {
          "output_type": "stream",
          "text": [
            "100%|██████████| 391/391 [01:02<00:00,  6.24it/s]\n",
            "100%|██████████| 100/100 [00:03<00:00, 32.45it/s]\n",
            "  0%|          | 0/391 [00:00<?, ?it/s]"
          ],
          "name": "stderr"
        },
        {
          "output_type": "stream",
          "text": [
            "\n",
            "Epoch: 20\n",
            "\t Train set: Average loss: 0.40345202432111704, Accuracy: 86.206%\n",
            "\n",
            "\tTest set: Average loss: 0.5810061913728714, Accuracy: 81.68%\n",
            "\n",
            "Epoch: 21\n"
          ],
          "name": "stdout"
        },
        {
          "output_type": "stream",
          "text": [
            "100%|██████████| 391/391 [01:02<00:00,  6.22it/s]\n",
            "100%|██████████| 100/100 [00:03<00:00, 32.65it/s]\n",
            "  0%|          | 0/391 [00:00<?, ?it/s]"
          ],
          "name": "stderr"
        },
        {
          "output_type": "stream",
          "text": [
            "\n",
            "Epoch: 21\n",
            "\t Train set: Average loss: 0.4023419567157545, Accuracy: 86.116%\n",
            "\n",
            "\tTest set: Average loss: 0.7127134808897972, Accuracy: 77.95%\n",
            "\n",
            "Epoch: 22\n"
          ],
          "name": "stdout"
        },
        {
          "output_type": "stream",
          "text": [
            "100%|██████████| 391/391 [01:03<00:00,  6.17it/s]\n",
            "100%|██████████| 100/100 [00:03<00:00, 32.53it/s]\n",
            "  0%|          | 0/391 [00:00<?, ?it/s]"
          ],
          "name": "stderr"
        },
        {
          "output_type": "stream",
          "text": [
            "\n",
            "Epoch: 22\n",
            "\t Train set: Average loss: 0.39540866505154565, Accuracy: 86.578%\n",
            "\n",
            "\tTest set: Average loss: 0.5432499384880066, Accuracy: 81.86%\n",
            "\n",
            "Epoch: 23\n"
          ],
          "name": "stdout"
        },
        {
          "output_type": "stream",
          "text": [
            "100%|██████████| 391/391 [01:03<00:00,  6.19it/s]\n",
            "100%|██████████| 100/100 [00:03<00:00, 33.22it/s]\n",
            "  0%|          | 0/391 [00:00<?, ?it/s]"
          ],
          "name": "stderr"
        },
        {
          "output_type": "stream",
          "text": [
            "\n",
            "Epoch: 23\n",
            "\t Train set: Average loss: 0.38653286235869083, Accuracy: 86.806%\n",
            "\n",
            "\tTest set: Average loss: 0.610962166339159, Accuracy: 80.96%\n",
            "\n",
            "Epoch: 24\n"
          ],
          "name": "stdout"
        },
        {
          "output_type": "stream",
          "text": [
            "100%|██████████| 391/391 [01:02<00:00,  6.22it/s]\n",
            "100%|██████████| 100/100 [00:03<00:00, 33.07it/s]\n",
            "  0%|          | 0/391 [00:00<?, ?it/s]"
          ],
          "name": "stderr"
        },
        {
          "output_type": "stream",
          "text": [
            "\n",
            "Epoch: 24\n",
            "\t Train set: Average loss: 0.3861840291858634, Accuracy: 86.798%\n",
            "\n",
            "\tTest set: Average loss: 0.4795884217321873, Accuracy: 84.01%\n",
            "\n",
            "Epoch: 25\n"
          ],
          "name": "stdout"
        },
        {
          "output_type": "stream",
          "text": [
            "100%|██████████| 391/391 [01:03<00:00,  6.19it/s]\n",
            "100%|██████████| 100/100 [00:03<00:00, 33.03it/s]\n",
            "  0%|          | 0/391 [00:00<?, ?it/s]"
          ],
          "name": "stderr"
        },
        {
          "output_type": "stream",
          "text": [
            "\n",
            "Epoch: 25\n",
            "\t Train set: Average loss: 0.37672501691924337, Accuracy: 87.116%\n",
            "\n",
            "\tTest set: Average loss: 0.5937693640589714, Accuracy: 79.74%\n",
            "\n",
            "Epoch: 26\n"
          ],
          "name": "stdout"
        },
        {
          "output_type": "stream",
          "text": [
            "100%|██████████| 391/391 [01:03<00:00,  6.17it/s]\n",
            "100%|██████████| 100/100 [00:03<00:00, 33.09it/s]\n",
            "  0%|          | 0/391 [00:00<?, ?it/s]"
          ],
          "name": "stderr"
        },
        {
          "output_type": "stream",
          "text": [
            "\n",
            "Epoch: 26\n",
            "\t Train set: Average loss: 0.366293149035605, Accuracy: 87.434%\n",
            "\n",
            "\tTest set: Average loss: 0.5097289316356182, Accuracy: 83.34%\n",
            "\n",
            "Epoch: 27\n"
          ],
          "name": "stdout"
        },
        {
          "output_type": "stream",
          "text": [
            "100%|██████████| 391/391 [01:02<00:00,  6.22it/s]\n",
            "100%|██████████| 100/100 [00:03<00:00, 33.33it/s]\n",
            "  0%|          | 0/391 [00:00<?, ?it/s]"
          ],
          "name": "stderr"
        },
        {
          "output_type": "stream",
          "text": [
            "\n",
            "Epoch: 27\n",
            "\t Train set: Average loss: 0.3730527061559355, Accuracy: 87.496%\n",
            "\n",
            "\tTest set: Average loss: 0.6022482371330261, Accuracy: 80.0%\n",
            "\n",
            "Epoch: 28\n"
          ],
          "name": "stdout"
        },
        {
          "output_type": "stream",
          "text": [
            "100%|██████████| 391/391 [01:03<00:00,  6.19it/s]\n",
            "100%|██████████| 100/100 [00:02<00:00, 33.39it/s]\n",
            "  0%|          | 0/391 [00:00<?, ?it/s]"
          ],
          "name": "stderr"
        },
        {
          "output_type": "stream",
          "text": [
            "\n",
            "Epoch: 28\n",
            "\t Train set: Average loss: 0.36391489268721217, Accuracy: 87.542%\n",
            "\n",
            "\tTest set: Average loss: 0.652597079873085, Accuracy: 79.07%\n",
            "\n",
            "Epoch: 29\n"
          ],
          "name": "stdout"
        },
        {
          "output_type": "stream",
          "text": [
            "100%|██████████| 391/391 [01:02<00:00,  6.24it/s]\n",
            "100%|██████████| 100/100 [00:02<00:00, 33.55it/s]\n",
            "  0%|          | 0/391 [00:00<?, ?it/s]"
          ],
          "name": "stderr"
        },
        {
          "output_type": "stream",
          "text": [
            "\n",
            "Epoch: 29\n",
            "\t Train set: Average loss: 0.36510496443647256, Accuracy: 87.672%\n",
            "\n",
            "\tTest set: Average loss: 0.6004426115751267, Accuracy: 81.33%\n",
            "\n",
            "Epoch: 30\n"
          ],
          "name": "stdout"
        },
        {
          "output_type": "stream",
          "text": [
            "100%|██████████| 391/391 [01:03<00:00,  6.20it/s]\n",
            "100%|██████████| 100/100 [00:02<00:00, 33.37it/s]\n",
            "  0%|          | 0/391 [00:00<?, ?it/s]"
          ],
          "name": "stderr"
        },
        {
          "output_type": "stream",
          "text": [
            "\n",
            "Epoch: 30\n",
            "\t Train set: Average loss: 0.3498465836124347, Accuracy: 88.052%\n",
            "\n",
            "\tTest set: Average loss: 0.4417400653660297, Accuracy: 85.13%\n",
            "\n",
            "Epoch: 31\n"
          ],
          "name": "stdout"
        },
        {
          "output_type": "stream",
          "text": [
            "100%|██████████| 391/391 [01:02<00:00,  6.23it/s]\n",
            "100%|██████████| 100/100 [00:02<00:00, 33.94it/s]\n",
            "  0%|          | 0/391 [00:00<?, ?it/s]"
          ],
          "name": "stderr"
        },
        {
          "output_type": "stream",
          "text": [
            "\n",
            "Epoch: 31\n",
            "\t Train set: Average loss: 0.34936454751150076, Accuracy: 87.91%\n",
            "\n",
            "\tTest set: Average loss: 0.514807949513197, Accuracy: 83.17%\n",
            "\n",
            "Epoch: 32\n"
          ],
          "name": "stdout"
        },
        {
          "output_type": "stream",
          "text": [
            "100%|██████████| 391/391 [01:02<00:00,  6.21it/s]\n",
            "100%|██████████| 100/100 [00:02<00:00, 34.14it/s]\n",
            "  0%|          | 0/391 [00:00<?, ?it/s]"
          ],
          "name": "stderr"
        },
        {
          "output_type": "stream",
          "text": [
            "\n",
            "Epoch: 32\n",
            "\t Train set: Average loss: 0.3467179150380137, Accuracy: 88.146%\n",
            "\n",
            "\tTest set: Average loss: 0.470946813672781, Accuracy: 83.94%\n",
            "\n",
            "Epoch: 33\n"
          ],
          "name": "stdout"
        },
        {
          "output_type": "stream",
          "text": [
            "100%|██████████| 391/391 [01:02<00:00,  6.21it/s]\n",
            "100%|██████████| 100/100 [00:02<00:00, 33.59it/s]\n",
            "  0%|          | 0/391 [00:00<?, ?it/s]"
          ],
          "name": "stderr"
        },
        {
          "output_type": "stream",
          "text": [
            "\n",
            "Epoch: 33\n",
            "\t Train set: Average loss: 0.3403625502763197, Accuracy: 88.492%\n",
            "\n",
            "\tTest set: Average loss: 0.47103535383939743, Accuracy: 84.64%\n",
            "\n",
            "Epoch: 34\n"
          ],
          "name": "stdout"
        },
        {
          "output_type": "stream",
          "text": [
            "100%|██████████| 391/391 [01:02<00:00,  6.23it/s]\n",
            "100%|██████████| 100/100 [00:02<00:00, 33.64it/s]\n",
            "  0%|          | 0/391 [00:00<?, ?it/s]"
          ],
          "name": "stderr"
        },
        {
          "output_type": "stream",
          "text": [
            "\n",
            "Epoch: 34\n",
            "\t Train set: Average loss: 0.3376568031051885, Accuracy: 88.406%\n",
            "\n",
            "\tTest set: Average loss: 0.4934444135427475, Accuracy: 83.13%\n",
            "\n",
            "Epoch: 35\n"
          ],
          "name": "stdout"
        },
        {
          "output_type": "stream",
          "text": [
            "100%|██████████| 391/391 [01:02<00:00,  6.27it/s]\n",
            "100%|██████████| 100/100 [00:02<00:00, 33.85it/s]\n",
            "  0%|          | 0/391 [00:00<?, ?it/s]"
          ],
          "name": "stderr"
        },
        {
          "output_type": "stream",
          "text": [
            "\n",
            "Epoch: 35\n",
            "\t Train set: Average loss: 0.34599429974927925, Accuracy: 88.224%\n",
            "\n",
            "\tTest set: Average loss: 0.5235984972119332, Accuracy: 83.03%\n",
            "\n",
            "Epoch: 36\n"
          ],
          "name": "stdout"
        },
        {
          "output_type": "stream",
          "text": [
            "100%|██████████| 391/391 [01:02<00:00,  6.23it/s]\n",
            "100%|██████████| 100/100 [00:02<00:00, 33.44it/s]\n",
            "  0%|          | 0/391 [00:00<?, ?it/s]"
          ],
          "name": "stderr"
        },
        {
          "output_type": "stream",
          "text": [
            "\n",
            "Epoch: 36\n",
            "\t Train set: Average loss: 0.3377497470973398, Accuracy: 88.474%\n",
            "\n",
            "\tTest set: Average loss: 0.5579696026444435, Accuracy: 82.21%\n",
            "\n",
            "Epoch: 37\n"
          ],
          "name": "stdout"
        },
        {
          "output_type": "stream",
          "text": [
            "100%|██████████| 391/391 [01:02<00:00,  6.27it/s]\n",
            "100%|██████████| 100/100 [00:02<00:00, 33.64it/s]\n",
            "  0%|          | 0/391 [00:00<?, ?it/s]"
          ],
          "name": "stderr"
        },
        {
          "output_type": "stream",
          "text": [
            "\n",
            "Epoch: 37\n",
            "\t Train set: Average loss: 0.33174291081593166, Accuracy: 88.584%\n",
            "\n",
            "\tTest set: Average loss: 0.5750063222646713, Accuracy: 81.05%\n",
            "\n",
            "Epoch: 38\n"
          ],
          "name": "stdout"
        },
        {
          "output_type": "stream",
          "text": [
            "100%|██████████| 391/391 [01:02<00:00,  6.26it/s]\n",
            "100%|██████████| 100/100 [00:02<00:00, 33.81it/s]\n",
            "  0%|          | 0/391 [00:00<?, ?it/s]"
          ],
          "name": "stderr"
        },
        {
          "output_type": "stream",
          "text": [
            "\n",
            "Epoch: 38\n",
            "\t Train set: Average loss: 0.3310468366841221, Accuracy: 88.716%\n",
            "\n",
            "\tTest set: Average loss: 0.45238143593072894, Accuracy: 85.14%\n",
            "\n",
            "Epoch: 39\n"
          ],
          "name": "stdout"
        },
        {
          "output_type": "stream",
          "text": [
            "100%|██████████| 391/391 [01:02<00:00,  6.22it/s]\n",
            "100%|██████████| 100/100 [00:02<00:00, 33.93it/s]\n",
            "  0%|          | 0/391 [00:00<?, ?it/s]"
          ],
          "name": "stderr"
        },
        {
          "output_type": "stream",
          "text": [
            "\n",
            "Epoch: 39\n",
            "\t Train set: Average loss: 0.32435871883655143, Accuracy: 88.966%\n",
            "\n",
            "\tTest set: Average loss: 0.4424376852810383, Accuracy: 85.01%\n",
            "\n",
            "Epoch: 40\n"
          ],
          "name": "stdout"
        },
        {
          "output_type": "stream",
          "text": [
            " 28%|██▊       | 111/391 [00:17<00:44,  6.27it/s]"
          ],
          "name": "stderr"
        }
      ]
    },
    {
      "cell_type": "code",
      "metadata": {
        "id": "CFF7Po7knPbl"
      },
      "source": [
        ""
      ],
      "execution_count": null,
      "outputs": []
    }
  ]
}