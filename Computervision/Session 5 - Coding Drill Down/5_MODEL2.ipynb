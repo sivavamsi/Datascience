{
  "nbformat": 4,
  "nbformat_minor": 0,
  "metadata": {
    "colab": {
      "name": "5_MODEL2.ipynb",
      "provenance": [],
      "collapsed_sections": []
    },
    "kernelspec": {
      "name": "python3",
      "display_name": "Python 3"
    }
  },
  "cells": [
    {
      "cell_type": "code",
      "metadata": {
        "id": "_mrp3lHa2Z9l"
      },
      "source": [
        "import torch\r\n",
        "import torch.nn as nn\r\n",
        "import torch.nn.functional as F\r\n",
        "import torch.optim as optim\r\n",
        "from torchvision import datasets,transforms"
      ],
      "execution_count": 1,
      "outputs": []
    },
    {
      "cell_type": "code",
      "metadata": {
        "id": "U8KSdjIy3xik"
      },
      "source": [
        "train_transforms = transforms.Compose([\r\n",
        "                                       transforms.ToTensor(),\r\n",
        "                                       transforms.Normalize(mean=(0.1307,),std=(0.3081,))\r\n",
        "                                       ])\r\n",
        "test_transforms = transforms.Compose([\r\n",
        "                                      transforms.ToTensor(),\r\n",
        "                                      transforms.Normalize(mean=(0.1307,),std=(0.3081,))\r\n",
        "])\r\n",
        "train = datasets.MNIST(root = \"./data\",train=True,transform=train_transforms,download=True)\r\n",
        "test = datasets.MNIST(root=\"./data\",train=False,transform=test_transforms,download=True)"
      ],
      "execution_count": 2,
      "outputs": []
    },
    {
      "cell_type": "code",
      "metadata": {
        "id": "4SXZWIx1332b"
      },
      "source": [
        "seed = 1\r\n",
        "cuda = torch.cuda.is_available()\r\n",
        "torch.manual_seed(seed)\r\n",
        "if cuda:\r\n",
        "  torch.cuda.manual_seed(seed)\r\n",
        "dataloader_args=dict(shuffle=True,batch_size=128,num_workers=4,pin_memory=True) if cuda else dict(shuffle=True,batch_size =64)\r\n",
        "train_loader = torch.utils.data.DataLoader(dataset=train,**dataloader_args)\r\n",
        "test_loader = torch.utils.data.DataLoader(dataset=test,**dataloader_args)"
      ],
      "execution_count": 3,
      "outputs": []
    },
    {
      "cell_type": "code",
      "metadata": {
        "id": "q3LWq2-439jS"
      },
      "source": [
        "class Net(nn.Module):\r\n",
        "    def __init__(self):\r\n",
        "        super(Net, self).__init__()\r\n",
        "\r\n",
        "        self.conv1 = nn.Conv2d(in_channels=1, out_channels=16, kernel_size=(3, 3), padding=0, bias=False)\r\n",
        "        self.conv2 = nn.Conv2d(in_channels=16, out_channels=16, kernel_size=(3, 3), padding=0, bias=False)\r\n",
        "\r\n",
        "        self.pool  = nn.MaxPool2d(2, 2)\r\n",
        "\r\n",
        "        self.conv3 = nn.Conv2d(in_channels=16, out_channels=16, kernel_size=(3, 3), padding=0, bias=False)\r\n",
        "        self.conv4 = nn.Conv2d(in_channels=16, out_channels=32, kernel_size=(3, 3), padding=0, bias=False)\r\n",
        "\r\n",
        "        self.conv5 = nn.Conv2d(in_channels=32, out_channels=10, kernel_size=(1, 1), padding=0, bias=False)\r\n",
        "        self.out = nn.AdaptiveAvgPool2d(1)\r\n",
        "\r\n",
        "    def forward(self,x):\r\n",
        "\r\n",
        "      x = F.relu(self.conv1(x))\r\n",
        "      x = F.relu(self.conv2(x))\r\n",
        "\r\n",
        "      x = self.pool(x)\r\n",
        "\r\n",
        "      x = F.relu(self.conv3(x))\r\n",
        "      x = F.relu(self.conv4(x))\r\n",
        "\r\n",
        "      x = F.relu(self.conv5(x))\r\n",
        "\r\n",
        "      x = self.out(x)\r\n",
        "      x = x.view(-1, 10)\r\n",
        "\r\n",
        "      return F.log_softmax(x, dim =1)"
      ],
      "execution_count": 4,
      "outputs": []
    },
    {
      "cell_type": "code",
      "metadata": {
        "colab": {
          "base_uri": "https://localhost:8080/"
        },
        "id": "9actpWzK4Ixm",
        "outputId": "8ae11959-f637-4175-9c62-c69aff956b93"
      },
      "source": [
        "!pip install torchsummary\r\n",
        "from torchsummary import summary\r\n",
        "use_cuda = torch.cuda.is_available()\r\n",
        "device = torch.device(\"cuda\" if use_cuda else \"cpu\")\r\n",
        "print(device)\r\n",
        "model = Net().to(device)\r\n",
        "summary(model, input_size=(1, 28, 28))"
      ],
      "execution_count": 5,
      "outputs": [
        {
          "output_type": "stream",
          "text": [
            "Requirement already satisfied: torchsummary in /usr/local/lib/python3.6/dist-packages (1.5.1)\n",
            "cpu\n",
            "----------------------------------------------------------------\n",
            "        Layer (type)               Output Shape         Param #\n",
            "================================================================\n",
            "            Conv2d-1           [-1, 16, 26, 26]             144\n",
            "            Conv2d-2           [-1, 16, 24, 24]           2,304\n",
            "         MaxPool2d-3           [-1, 16, 12, 12]               0\n",
            "            Conv2d-4           [-1, 16, 10, 10]           2,304\n",
            "            Conv2d-5             [-1, 32, 8, 8]           4,608\n",
            "            Conv2d-6             [-1, 10, 8, 8]             320\n",
            " AdaptiveAvgPool2d-7             [-1, 10, 1, 1]               0\n",
            "================================================================\n",
            "Total params: 9,680\n",
            "Trainable params: 9,680\n",
            "Non-trainable params: 0\n",
            "----------------------------------------------------------------\n",
            "Input size (MB): 0.00\n",
            "Forward/backward pass size (MB): 0.20\n",
            "Params size (MB): 0.04\n",
            "Estimated Total Size (MB): 0.24\n",
            "----------------------------------------------------------------\n"
          ],
          "name": "stdout"
        }
      ]
    },
    {
      "cell_type": "code",
      "metadata": {
        "id": "PYZM2yHt4VL-"
      },
      "source": [
        "criterion = nn.CrossEntropyLoss()\r\n",
        "optimizer = torch.optim.Adam(model.parameters(),lr = 0.001)"
      ],
      "execution_count": 6,
      "outputs": []
    },
    {
      "cell_type": "code",
      "metadata": {
        "id": "vbUcGw8o4Z3k"
      },
      "source": [
        "from tqdm import tqdm\r\n",
        "\r\n",
        "train_losses = []\r\n",
        "test_losses = []\r\n",
        "train_acc = []\r\n",
        "test_acc = []\r\n",
        "\r\n",
        "def train(model, device, train_loader, optimizer, epoch):\r\n",
        "  model.train()\r\n",
        "  pbar = tqdm(train_loader)\r\n",
        "  correct = 0\r\n",
        "  processed = 0\r\n",
        "  for batch_idx, (data, target) in enumerate(pbar):\r\n",
        "    # get samples\r\n",
        "    data, target = data.to(device), target.to(device)\r\n",
        "\r\n",
        "    # Init\r\n",
        "    optimizer.zero_grad()\r\n",
        "    # In PyTorch, we need to set the gradients to zero before starting to do backpropragation because PyTorch accumulates the gradients on subsequent backward passes. \r\n",
        "    # Because of this, when you start your training loop, ideally you should zero out the gradients so that you do the parameter update correctly.\r\n",
        "\r\n",
        "    # Predict\r\n",
        "    y_pred = model(data)\r\n",
        "\r\n",
        "    # Calculate loss\r\n",
        "    loss = F.nll_loss(y_pred, target)\r\n",
        "    train_losses.append(loss)\r\n",
        "\r\n",
        "    # Backpropagation\r\n",
        "    loss.backward()\r\n",
        "    optimizer.step()\r\n",
        "\r\n",
        "    # Update pbar-tqdm\r\n",
        "    \r\n",
        "    pred = y_pred.argmax(dim=1, keepdim=True)  # get the index of the max log-probability\r\n",
        "    correct += pred.eq(target.view_as(pred)).sum().item()\r\n",
        "    processed += len(data)\r\n",
        "\r\n",
        "    pbar.set_description(desc= f'Loss={loss.item()} Batch_id={batch_idx} Accuracy={100*correct/processed:0.2f}')\r\n",
        "    train_acc.append(100*correct/processed)\r\n",
        "\r\n",
        "def test(model, device, test_loader):\r\n",
        "    model.eval()\r\n",
        "    test_loss = 0\r\n",
        "    correct = 0\r\n",
        "    with torch.no_grad():\r\n",
        "        for data, target in test_loader:\r\n",
        "            data, target = data.to(device), target.to(device)\r\n",
        "            output = model(data)\r\n",
        "            test_loss += F.nll_loss(output, target, reduction='sum').item()  # sum up batch loss\r\n",
        "            pred = output.argmax(dim=1, keepdim=True)  # get the index of the max log-probability\r\n",
        "            correct += pred.eq(target.view_as(pred)).sum().item()\r\n",
        "\r\n",
        "    test_loss /= len(test_loader.dataset)\r\n",
        "    test_losses.append(test_loss)\r\n",
        "\r\n",
        "    print('\\nTest set: Average loss: {:.4f}, Accuracy: {}/{} ({:.2f}%)\\n'.format(\r\n",
        "        test_loss, correct, len(test_loader.dataset),\r\n",
        "        100. * correct / len(test_loader.dataset)))\r\n",
        "    \r\n",
        "    test_acc.append(100. * correct / len(test_loader.dataset))"
      ],
      "execution_count": 7,
      "outputs": []
    },
    {
      "cell_type": "code",
      "metadata": {
        "colab": {
          "base_uri": "https://localhost:8080/"
        },
        "id": "YtgjvvKp44BL",
        "outputId": "a32d95ee-3742-4a54-96e3-96f6484641d8"
      },
      "source": [
        "model =  Net().to(device)\r\n",
        "optimizer = optim.SGD(model.parameters(), lr=0.01, momentum=0.9)\r\n",
        "EPOCHS = 15\r\n",
        "for epoch in range(EPOCHS):\r\n",
        "    print(\"EPOCH:\", epoch)\r\n",
        "    train(model, device, train_loader, optimizer, epoch)\r\n",
        "    test(model, device, test_loader)"
      ],
      "execution_count": 8,
      "outputs": [
        {
          "output_type": "stream",
          "text": [
            "Loss=2.3039186000823975 Batch_id=0 Accuracy=7.81:   0%|          | 0/938 [00:00<?, ?it/s]"
          ],
          "name": "stderr"
        },
        {
          "output_type": "stream",
          "text": [
            "EPOCH: 0\n"
          ],
          "name": "stdout"
        },
        {
          "output_type": "stream",
          "text": [
            "Loss=0.3851735591888428 Batch_id=937 Accuracy=46.17: 100%|██████████| 938/938 [00:55<00:00, 16.98it/s]\n",
            "Loss=0.4327898323535919 Batch_id=2 Accuracy=86.98:   0%|          | 2/938 [00:00<00:55, 16.86it/s]"
          ],
          "name": "stderr"
        },
        {
          "output_type": "stream",
          "text": [
            "\n",
            "Test set: Average loss: 0.4683, Accuracy: 8417/10000 (84.17%)\n",
            "\n",
            "EPOCH: 1\n"
          ],
          "name": "stdout"
        },
        {
          "output_type": "stream",
          "text": [
            "Loss=0.08011869341135025 Batch_id=937 Accuracy=91.82: 100%|██████████| 938/938 [00:55<00:00, 16.99it/s]\n",
            "Loss=0.3242563307285309 Batch_id=2 Accuracy=92.19:   0%|          | 2/938 [00:00<00:55, 16.84it/s] "
          ],
          "name": "stderr"
        },
        {
          "output_type": "stream",
          "text": [
            "\n",
            "Test set: Average loss: 0.1843, Accuracy: 9444/10000 (94.44%)\n",
            "\n",
            "EPOCH: 2\n"
          ],
          "name": "stdout"
        },
        {
          "output_type": "stream",
          "text": [
            "Loss=0.11160380393266678 Batch_id=937 Accuracy=94.75: 100%|██████████| 938/938 [00:55<00:00, 16.99it/s]\n",
            "Loss=0.12763391435146332 Batch_id=2 Accuracy=95.83:   0%|          | 2/938 [00:00<00:54, 17.18it/s]"
          ],
          "name": "stderr"
        },
        {
          "output_type": "stream",
          "text": [
            "\n",
            "Test set: Average loss: 0.1232, Accuracy: 9631/10000 (96.31%)\n",
            "\n",
            "EPOCH: 3\n"
          ],
          "name": "stdout"
        },
        {
          "output_type": "stream",
          "text": [
            "Loss=0.19477862119674683 Batch_id=937 Accuracy=96.22: 100%|██████████| 938/938 [00:55<00:00, 17.02it/s]\n",
            "Loss=0.19324082136154175 Batch_id=2 Accuracy=96.35:   0%|          | 2/938 [00:00<00:52, 17.74it/s]"
          ],
          "name": "stderr"
        },
        {
          "output_type": "stream",
          "text": [
            "\n",
            "Test set: Average loss: 0.1011, Accuracy: 9673/10000 (96.73%)\n",
            "\n",
            "EPOCH: 4\n"
          ],
          "name": "stdout"
        },
        {
          "output_type": "stream",
          "text": [
            "Loss=0.03072226047515869 Batch_id=937 Accuracy=96.83: 100%|██████████| 938/938 [00:56<00:00, 16.50it/s]\n",
            "Loss=0.19879502058029175 Batch_id=2 Accuracy=94.27:   0%|          | 2/938 [00:00<01:00, 15.48it/s]"
          ],
          "name": "stderr"
        },
        {
          "output_type": "stream",
          "text": [
            "\n",
            "Test set: Average loss: 0.1038, Accuracy: 9681/10000 (96.81%)\n",
            "\n",
            "EPOCH: 5\n"
          ],
          "name": "stdout"
        },
        {
          "output_type": "stream",
          "text": [
            "Loss=0.21270215511322021 Batch_id=937 Accuracy=97.20: 100%|██████████| 938/938 [00:55<00:00, 16.85it/s]\n",
            "Loss=0.15038450062274933 Batch_id=2 Accuracy=95.31:   0%|          | 2/938 [00:00<00:54, 17.04it/s]"
          ],
          "name": "stderr"
        },
        {
          "output_type": "stream",
          "text": [
            "\n",
            "Test set: Average loss: 0.1166, Accuracy: 9655/10000 (96.55%)\n",
            "\n",
            "EPOCH: 6\n"
          ],
          "name": "stdout"
        },
        {
          "output_type": "stream",
          "text": [
            "Loss=0.05843622609972954 Batch_id=937 Accuracy=97.53: 100%|██████████| 938/938 [00:55<00:00, 16.88it/s]\n",
            "Loss=0.12154931575059891 Batch_id=2 Accuracy=95.83:   0%|          | 2/938 [00:00<00:56, 16.60it/s] "
          ],
          "name": "stderr"
        },
        {
          "output_type": "stream",
          "text": [
            "\n",
            "Test set: Average loss: 0.0667, Accuracy: 9795/10000 (97.95%)\n",
            "\n",
            "EPOCH: 7\n"
          ],
          "name": "stdout"
        },
        {
          "output_type": "stream",
          "text": [
            "Loss=0.04895390570163727 Batch_id=937 Accuracy=97.91: 100%|██████████| 938/938 [00:55<00:00, 16.91it/s]\n",
            "Loss=0.03552969545125961 Batch_id=2 Accuracy=99.48:   0%|          | 2/938 [00:00<00:53, 17.55it/s]  "
          ],
          "name": "stderr"
        },
        {
          "output_type": "stream",
          "text": [
            "\n",
            "Test set: Average loss: 0.0664, Accuracy: 9788/10000 (97.88%)\n",
            "\n",
            "EPOCH: 8\n"
          ],
          "name": "stdout"
        },
        {
          "output_type": "stream",
          "text": [
            "Loss=0.15293832123279572 Batch_id=937 Accuracy=97.99: 100%|██████████| 938/938 [00:55<00:00, 16.95it/s]\n",
            "Loss=0.11884108185768127 Batch_id=2 Accuracy=98.96:   0%|          | 2/938 [00:00<00:59, 15.79it/s]  "
          ],
          "name": "stderr"
        },
        {
          "output_type": "stream",
          "text": [
            "\n",
            "Test set: Average loss: 0.0629, Accuracy: 9801/10000 (98.01%)\n",
            "\n",
            "EPOCH: 9\n"
          ],
          "name": "stdout"
        },
        {
          "output_type": "stream",
          "text": [
            "Loss=0.027503088116645813 Batch_id=937 Accuracy=98.35: 100%|██████████| 938/938 [00:56<00:00, 16.57it/s]\n",
            "Loss=0.013925724662840366 Batch_id=2 Accuracy=98.44:   0%|          | 2/938 [00:00<00:55, 16.98it/s]"
          ],
          "name": "stderr"
        },
        {
          "output_type": "stream",
          "text": [
            "\n",
            "Test set: Average loss: 0.0528, Accuracy: 9844/10000 (98.44%)\n",
            "\n",
            "EPOCH: 10\n"
          ],
          "name": "stdout"
        },
        {
          "output_type": "stream",
          "text": [
            "Loss=0.31930601596832275 Batch_id=937 Accuracy=98.27: 100%|██████████| 938/938 [00:55<00:00, 16.85it/s]\n",
            "Loss=0.056917376816272736 Batch_id=2 Accuracy=97.92:   0%|          | 2/938 [00:00<00:57, 16.34it/s]"
          ],
          "name": "stderr"
        },
        {
          "output_type": "stream",
          "text": [
            "\n",
            "Test set: Average loss: 0.0567, Accuracy: 9830/10000 (98.30%)\n",
            "\n",
            "EPOCH: 11\n"
          ],
          "name": "stdout"
        },
        {
          "output_type": "stream",
          "text": [
            "Loss=0.009616701863706112 Batch_id=937 Accuracy=98.46: 100%|██████████| 938/938 [00:55<00:00, 16.81it/s]\n",
            "Loss=0.0206467118114233 Batch_id=2 Accuracy=100.00:   0%|          | 2/938 [00:00<00:54, 17.24it/s]  "
          ],
          "name": "stderr"
        },
        {
          "output_type": "stream",
          "text": [
            "\n",
            "Test set: Average loss: 0.0595, Accuracy: 9801/10000 (98.01%)\n",
            "\n",
            "EPOCH: 12\n"
          ],
          "name": "stdout"
        },
        {
          "output_type": "stream",
          "text": [
            "Loss=0.01723933219909668 Batch_id=937 Accuracy=98.58: 100%|██████████| 938/938 [00:56<00:00, 16.73it/s]\n",
            "Loss=0.05019832402467728 Batch_id=2 Accuracy=97.92:   0%|          | 2/938 [00:00<00:55, 16.92it/s] "
          ],
          "name": "stderr"
        },
        {
          "output_type": "stream",
          "text": [
            "\n",
            "Test set: Average loss: 0.0601, Accuracy: 9803/10000 (98.03%)\n",
            "\n",
            "EPOCH: 13\n"
          ],
          "name": "stdout"
        },
        {
          "output_type": "stream",
          "text": [
            "Loss=0.005866040010005236 Batch_id=937 Accuracy=98.59: 100%|██████████| 938/938 [00:55<00:00, 16.85it/s]\n",
            "Loss=0.032122768461704254 Batch_id=2 Accuracy=98.96:   0%|          | 2/938 [00:00<00:54, 17.04it/s]"
          ],
          "name": "stderr"
        },
        {
          "output_type": "stream",
          "text": [
            "\n",
            "Test set: Average loss: 0.0563, Accuracy: 9815/10000 (98.15%)\n",
            "\n",
            "EPOCH: 14\n"
          ],
          "name": "stdout"
        },
        {
          "output_type": "stream",
          "text": [
            "Loss=0.10056784003973007 Batch_id=937 Accuracy=98.71: 100%|██████████| 938/938 [00:56<00:00, 16.69it/s]\n"
          ],
          "name": "stderr"
        },
        {
          "output_type": "stream",
          "text": [
            "\n",
            "Test set: Average loss: 0.0532, Accuracy: 9827/10000 (98.27%)\n",
            "\n"
          ],
          "name": "stdout"
        }
      ]
    },
    {
      "cell_type": "code",
      "metadata": {
        "id": "yetxoP-Q46ua"
      },
      "source": [
        ""
      ],
      "execution_count": 8,
      "outputs": []
    }
  ]
}