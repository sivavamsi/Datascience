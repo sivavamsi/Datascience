{
  "nbformat": 4,
  "nbformat_minor": 0,
  "metadata": {
    "colab": {
      "name": "5_MODEL4.ipynb",
      "provenance": [],
      "collapsed_sections": []
    },
    "kernelspec": {
      "name": "python3",
      "display_name": "Python 3"
    }
  },
  "cells": [
    {
      "cell_type": "code",
      "metadata": {
        "id": "_mrp3lHa2Z9l"
      },
      "source": [
        "import torch\r\n",
        "import torch.nn as nn\r\n",
        "import torch.nn.functional as F\r\n",
        "import torch.optim as optim\r\n",
        "from torchvision import datasets,transforms"
      ],
      "execution_count": 1,
      "outputs": []
    },
    {
      "cell_type": "code",
      "metadata": {
        "id": "U8KSdjIy3xik"
      },
      "source": [
        "train_transforms = transforms.Compose([\r\n",
        "                                       transforms.ToTensor(),\r\n",
        "                                       transforms.Normalize(mean=(0.1307,),std=(0.3081,))\r\n",
        "                                       ])\r\n",
        "test_transforms = transforms.Compose([\r\n",
        "                                      transforms.ToTensor(),\r\n",
        "                                      transforms.Normalize(mean=(0.1307,),std=(0.3081,))\r\n",
        "])\r\n",
        "train = datasets.MNIST(root = \"./data\",train=True,transform=train_transforms,download=True)\r\n",
        "test = datasets.MNIST(root=\"./data\",train=False,transform=test_transforms,download=True)"
      ],
      "execution_count": 2,
      "outputs": []
    },
    {
      "cell_type": "code",
      "metadata": {
        "id": "4SXZWIx1332b"
      },
      "source": [
        "seed = 1\r\n",
        "cuda = torch.cuda.is_available()\r\n",
        "torch.manual_seed(seed)\r\n",
        "if cuda:\r\n",
        "  torch.cuda.manual_seed(seed)\r\n",
        "dataloader_args=dict(shuffle=True,batch_size=128,num_workers=4,pin_memory=True) if cuda else dict(shuffle=True,batch_size =64)\r\n",
        "train_loader = torch.utils.data.DataLoader(dataset=train,**dataloader_args)\r\n",
        "test_loader = torch.utils.data.DataLoader(dataset=test,**dataloader_args)"
      ],
      "execution_count": 3,
      "outputs": []
    },
    {
      "cell_type": "code",
      "metadata": {
        "id": "q3LWq2-439jS"
      },
      "source": [
        "class Net(nn.Module):\r\n",
        "    def __init__(self):\r\n",
        "        super(Net, self).__init__()\r\n",
        "\r\n",
        "        dropout_rate = 0.01\r\n",
        "\r\n",
        "        self.conv1 = nn.Sequential(\r\n",
        "            nn.Conv2d(in_channels=1, out_channels=8, kernel_size=3),\r\n",
        "            \r\n",
        "            nn.BatchNorm2d(8),\r\n",
        "            \r\n",
        "        )  # Input: 28x28x1 | Output: 26x26x8 | RF: 3x3\r\n",
        "\r\n",
        "        self.conv2 = nn.Sequential(\r\n",
        "            nn.Conv2d(in_channels=8, out_channels=8, kernel_size=3),\r\n",
        "            nn.ReLU(),\r\n",
        "            nn.BatchNorm2d(8),\r\n",
        "            nn.Dropout(dropout_rate)\r\n",
        "        )  # Input: 26x26x8 | Output: 24x24x8 | RF: 5x5\r\n",
        "\r\n",
        "        self.conv3 = nn.Sequential(\r\n",
        "            nn.Conv2d(in_channels=8, out_channels=16, kernel_size=3),\r\n",
        "            nn.ReLU(),\r\n",
        "            nn.BatchNorm2d(16),\r\n",
        "            nn.Dropout(dropout_rate)\r\n",
        "        )  # Input: 24x24x8 | Output: 22x22x16 | RF: 7x7\r\n",
        "\r\n",
        "        self.conv4 = nn.Sequential(\r\n",
        "            nn.Conv2d(in_channels=16, out_channels=16, kernel_size=3),\r\n",
        "            nn.ReLU(),\r\n",
        "            nn.BatchNorm2d(16),\r\n",
        "            nn.Dropout(dropout_rate)\r\n",
        "        )  # Input: 22x22x16 | Output: 20x20x16 | RF: 9x9\r\n",
        "\r\n",
        "        self.pool = nn.MaxPool2d(2, 2)  # Input: 20x20x16 | Output: 10x10x16 | RF: 10x10\r\n",
        "\r\n",
        "        self.conv5 = nn.Sequential(\r\n",
        "            nn.Conv2d(in_channels=16, out_channels=16, kernel_size=3),\r\n",
        "            nn.ReLU(),\r\n",
        "            nn.BatchNorm2d(16),\r\n",
        "            nn.Dropout(dropout_rate)\r\n",
        "        )  # Input: 10x10x16 | Output: 8x8x16 | RF: 14x14\r\n",
        "\r\n",
        "        self.conv6 = nn.Sequential(\r\n",
        "            nn.Conv2d(in_channels=16, out_channels=16, kernel_size=3),\r\n",
        "            nn.ReLU(),\r\n",
        "            nn.BatchNorm2d(16),\r\n",
        "            nn.Dropout(dropout_rate)\r\n",
        "        )  # Input: 8x8x16 | Output: 6x6x16 | RF: 18x18\r\n",
        "\r\n",
        "        self.conv7 = nn.Sequential(\r\n",
        "            nn.Conv2d(in_channels=16, out_channels=10, kernel_size=1),\r\n",
        "            nn.ReLU(),\r\n",
        "            nn.BatchNorm2d(10),\r\n",
        "            nn.Dropout(dropout_rate)\r\n",
        "        )  # Input: 6x6x16 | Output: 6x6x10 | RF: 18x18\r\n",
        "\r\n",
        "        self.gap = nn.Sequential(\r\n",
        "            nn.AdaptiveAvgPool2d(1)\r\n",
        "        )  # Input: 6x6x10 | Output: 1x1x10 | RF: 28x28\r\n",
        "    \r\n",
        "    def forward(self, x):\r\n",
        "\r\n",
        "        x = self.conv1(x)\r\n",
        "        x = self.conv2(x)\r\n",
        "        x = self.conv3(x)\r\n",
        "        x = self.conv4(x)\r\n",
        "\r\n",
        "        x = self.pool(x)\r\n",
        "\r\n",
        "        x = self.conv5(x)\r\n",
        "        x = self.conv6(x)\r\n",
        "        x = self.conv7(x)\r\n",
        "\r\n",
        "        x = self.gap(x)\r\n",
        "\r\n",
        "        x = x.view(-1, 10)\r\n",
        "\r\n",
        "        return F.log_softmax(x, dim=-1)"
      ],
      "execution_count": 4,
      "outputs": []
    },
    {
      "cell_type": "code",
      "metadata": {
        "colab": {
          "base_uri": "https://localhost:8080/"
        },
        "id": "9actpWzK4Ixm",
        "outputId": "72db861c-1529-40c4-83fc-6949a5b85217"
      },
      "source": [
        "!pip install torchsummary\r\n",
        "from torchsummary import summary\r\n",
        "use_cuda = torch.cuda.is_available()\r\n",
        "device = torch.device(\"cuda\" if use_cuda else \"cpu\")\r\n",
        "print(device)\r\n",
        "model = Net().to(device)\r\n",
        "summary(model, input_size=(1, 28, 28))"
      ],
      "execution_count": 5,
      "outputs": [
        {
          "output_type": "stream",
          "text": [
            "Requirement already satisfied: torchsummary in /usr/local/lib/python3.6/dist-packages (1.5.1)\n",
            "cpu\n",
            "----------------------------------------------------------------\n",
            "        Layer (type)               Output Shape         Param #\n",
            "================================================================\n",
            "            Conv2d-1            [-1, 8, 26, 26]              80\n",
            "       BatchNorm2d-2            [-1, 8, 26, 26]              16\n",
            "            Conv2d-3            [-1, 8, 24, 24]             584\n",
            "              ReLU-4            [-1, 8, 24, 24]               0\n",
            "       BatchNorm2d-5            [-1, 8, 24, 24]              16\n",
            "           Dropout-6            [-1, 8, 24, 24]               0\n",
            "            Conv2d-7           [-1, 16, 22, 22]           1,168\n",
            "              ReLU-8           [-1, 16, 22, 22]               0\n",
            "       BatchNorm2d-9           [-1, 16, 22, 22]              32\n",
            "          Dropout-10           [-1, 16, 22, 22]               0\n",
            "           Conv2d-11           [-1, 16, 20, 20]           2,320\n",
            "             ReLU-12           [-1, 16, 20, 20]               0\n",
            "      BatchNorm2d-13           [-1, 16, 20, 20]              32\n",
            "          Dropout-14           [-1, 16, 20, 20]               0\n",
            "        MaxPool2d-15           [-1, 16, 10, 10]               0\n",
            "           Conv2d-16             [-1, 16, 8, 8]           2,320\n",
            "             ReLU-17             [-1, 16, 8, 8]               0\n",
            "      BatchNorm2d-18             [-1, 16, 8, 8]              32\n",
            "          Dropout-19             [-1, 16, 8, 8]               0\n",
            "           Conv2d-20             [-1, 16, 6, 6]           2,320\n",
            "             ReLU-21             [-1, 16, 6, 6]               0\n",
            "      BatchNorm2d-22             [-1, 16, 6, 6]              32\n",
            "          Dropout-23             [-1, 16, 6, 6]               0\n",
            "           Conv2d-24             [-1, 10, 6, 6]             170\n",
            "             ReLU-25             [-1, 10, 6, 6]               0\n",
            "      BatchNorm2d-26             [-1, 10, 6, 6]              20\n",
            "          Dropout-27             [-1, 10, 6, 6]               0\n",
            "AdaptiveAvgPool2d-28             [-1, 10, 1, 1]               0\n",
            "================================================================\n",
            "Total params: 9,142\n",
            "Trainable params: 9,142\n",
            "Non-trainable params: 0\n",
            "----------------------------------------------------------------\n",
            "Input size (MB): 0.00\n",
            "Forward/backward pass size (MB): 0.73\n",
            "Params size (MB): 0.03\n",
            "Estimated Total Size (MB): 0.76\n",
            "----------------------------------------------------------------\n"
          ],
          "name": "stdout"
        }
      ]
    },
    {
      "cell_type": "code",
      "metadata": {
        "id": "PYZM2yHt4VL-"
      },
      "source": [
        "criterion = nn.CrossEntropyLoss()\r\n",
        "optimizer = torch.optim.Adam(model.parameters(),lr = 0.001)"
      ],
      "execution_count": 6,
      "outputs": []
    },
    {
      "cell_type": "code",
      "metadata": {
        "id": "vbUcGw8o4Z3k"
      },
      "source": [
        "from tqdm import tqdm\r\n",
        "\r\n",
        "train_losses = []\r\n",
        "test_losses = []\r\n",
        "train_acc = []\r\n",
        "test_acc = []\r\n",
        "\r\n",
        "def train(model, device, train_loader, optimizer, epoch):\r\n",
        "  model.train()\r\n",
        "  pbar = tqdm(train_loader)\r\n",
        "  correct = 0\r\n",
        "  processed = 0\r\n",
        "  for batch_idx, (data, target) in enumerate(pbar):\r\n",
        "    # get samples\r\n",
        "    data, target = data.to(device), target.to(device)\r\n",
        "\r\n",
        "    # Init\r\n",
        "    optimizer.zero_grad()\r\n",
        "    # In PyTorch, we need to set the gradients to zero before starting to do backpropragation because PyTorch accumulates the gradients on subsequent backward passes. \r\n",
        "    # Because of this, when you start your training loop, ideally you should zero out the gradients so that you do the parameter update correctly.\r\n",
        "\r\n",
        "    # Predict\r\n",
        "    y_pred = model(data)\r\n",
        "\r\n",
        "    # Calculate loss\r\n",
        "    loss = F.nll_loss(y_pred, target)\r\n",
        "    train_losses.append(loss)\r\n",
        "\r\n",
        "    # Backpropagation\r\n",
        "    loss.backward()\r\n",
        "    optimizer.step()\r\n",
        "\r\n",
        "    # Update pbar-tqdm\r\n",
        "    \r\n",
        "    pred = y_pred.argmax(dim=1, keepdim=True)  # get the index of the max log-probability\r\n",
        "    correct += pred.eq(target.view_as(pred)).sum().item()\r\n",
        "    processed += len(data)\r\n",
        "\r\n",
        "    pbar.set_description(desc= f'Loss={loss.item()} Batch_id={batch_idx} Accuracy={100*correct/processed:0.2f}')\r\n",
        "    train_acc.append(100*correct/processed)\r\n",
        "\r\n",
        "def test(model, device, test_loader):\r\n",
        "    model.eval()\r\n",
        "    test_loss = 0\r\n",
        "    correct = 0\r\n",
        "    with torch.no_grad():\r\n",
        "        for data, target in test_loader:\r\n",
        "            data, target = data.to(device), target.to(device)\r\n",
        "            output = model(data)\r\n",
        "            test_loss += F.nll_loss(output, target, reduction='sum').item()  # sum up batch loss\r\n",
        "            pred = output.argmax(dim=1, keepdim=True)  # get the index of the max log-probability\r\n",
        "            correct += pred.eq(target.view_as(pred)).sum().item()\r\n",
        "\r\n",
        "    test_loss /= len(test_loader.dataset)\r\n",
        "    test_losses.append(test_loss)\r\n",
        "\r\n",
        "    print('\\nTest set: Average loss: {:.4f}, Accuracy: {}/{} ({:.2f}%)\\n'.format(\r\n",
        "        test_loss, correct, len(test_loader.dataset),\r\n",
        "        100. * correct / len(test_loader.dataset)))\r\n",
        "    \r\n",
        "    test_acc.append(100. * correct / len(test_loader.dataset))"
      ],
      "execution_count": 7,
      "outputs": []
    },
    {
      "cell_type": "code",
      "metadata": {
        "colab": {
          "base_uri": "https://localhost:8080/"
        },
        "id": "YtgjvvKp44BL",
        "outputId": "f7979d5f-cecf-45b7-8329-fd34288ca36f"
      },
      "source": [
        "model =  Net().to(device)\r\n",
        "optimizer = optim.SGD(model.parameters(), lr=0.01, momentum=0.9)\r\n",
        "EPOCHS = 15\r\n",
        "for epoch in range(EPOCHS):\r\n",
        "    print(\"EPOCH:\", epoch)\r\n",
        "    train(model, device, train_loader, optimizer, epoch)\r\n",
        "    test(model, device, test_loader)"
      ],
      "execution_count": 8,
      "outputs": [
        {
          "output_type": "stream",
          "text": [
            "\r  0%|          | 0/938 [00:00<?, ?it/s]"
          ],
          "name": "stderr"
        },
        {
          "output_type": "stream",
          "text": [
            "EPOCH: 0\n"
          ],
          "name": "stdout"
        },
        {
          "output_type": "stream",
          "text": [
            "Loss=0.23482027649879456 Batch_id=937 Accuracy=94.09: 100%|██████████| 938/938 [01:39<00:00,  9.40it/s]\n",
            "Loss=0.21980534493923187 Batch_id=0 Accuracy=93.75:   0%|          | 1/938 [00:00<01:39,  9.45it/s]"
          ],
          "name": "stderr"
        },
        {
          "output_type": "stream",
          "text": [
            "\n",
            "Test set: Average loss: 0.0755, Accuracy: 9830/10000 (98.30%)\n",
            "\n",
            "EPOCH: 1\n"
          ],
          "name": "stdout"
        },
        {
          "output_type": "stream",
          "text": [
            "Loss=0.05384350195527077 Batch_id=937 Accuracy=97.83: 100%|██████████| 938/938 [01:39<00:00,  9.42it/s]\n",
            "Loss=0.07058752328157425 Batch_id=0 Accuracy=98.44:   0%|          | 1/938 [00:00<01:38,  9.48it/s]"
          ],
          "name": "stderr"
        },
        {
          "output_type": "stream",
          "text": [
            "\n",
            "Test set: Average loss: 0.0520, Accuracy: 9866/10000 (98.66%)\n",
            "\n",
            "EPOCH: 2\n"
          ],
          "name": "stdout"
        },
        {
          "output_type": "stream",
          "text": [
            "Loss=0.1669227033853531 Batch_id=937 Accuracy=98.28: 100%|██████████| 938/938 [01:39<00:00,  9.43it/s]\n",
            "Loss=0.07230404019355774 Batch_id=0 Accuracy=96.88:   0%|          | 1/938 [00:00<01:41,  9.27it/s]"
          ],
          "name": "stderr"
        },
        {
          "output_type": "stream",
          "text": [
            "\n",
            "Test set: Average loss: 0.0418, Accuracy: 9903/10000 (99.03%)\n",
            "\n",
            "EPOCH: 3\n"
          ],
          "name": "stdout"
        },
        {
          "output_type": "stream",
          "text": [
            "Loss=0.02746056392788887 Batch_id=937 Accuracy=98.56: 100%|██████████| 938/938 [01:40<00:00,  9.37it/s]\n",
            "Loss=0.03899721801280975 Batch_id=0 Accuracy=100.00:   0%|          | 1/938 [00:00<01:40,  9.30it/s]"
          ],
          "name": "stderr"
        },
        {
          "output_type": "stream",
          "text": [
            "\n",
            "Test set: Average loss: 0.0406, Accuracy: 9898/10000 (98.98%)\n",
            "\n",
            "EPOCH: 4\n"
          ],
          "name": "stdout"
        },
        {
          "output_type": "stream",
          "text": [
            "Loss=0.023359235376119614 Batch_id=937 Accuracy=98.67: 100%|██████████| 938/938 [01:39<00:00,  9.42it/s]\n",
            "Loss=0.060448840260505676 Batch_id=0 Accuracy=96.88:   0%|          | 1/938 [00:00<01:39,  9.44it/s]"
          ],
          "name": "stderr"
        },
        {
          "output_type": "stream",
          "text": [
            "\n",
            "Test set: Average loss: 0.0312, Accuracy: 9916/10000 (99.16%)\n",
            "\n",
            "EPOCH: 5\n"
          ],
          "name": "stdout"
        },
        {
          "output_type": "stream",
          "text": [
            "Loss=0.03266869857907295 Batch_id=937 Accuracy=98.76: 100%|██████████| 938/938 [01:39<00:00,  9.39it/s]\n",
            "Loss=0.1647932231426239 Batch_id=0 Accuracy=95.31:   0%|          | 1/938 [00:00<01:38,  9.51it/s]"
          ],
          "name": "stderr"
        },
        {
          "output_type": "stream",
          "text": [
            "\n",
            "Test set: Average loss: 0.0330, Accuracy: 9912/10000 (99.12%)\n",
            "\n",
            "EPOCH: 6\n"
          ],
          "name": "stdout"
        },
        {
          "output_type": "stream",
          "text": [
            "Loss=0.021394966170191765 Batch_id=937 Accuracy=98.94: 100%|██████████| 938/938 [01:40<00:00,  9.36it/s]\n",
            "Loss=0.09381057322025299 Batch_id=0 Accuracy=96.88:   0%|          | 1/938 [00:00<01:44,  8.99it/s]"
          ],
          "name": "stderr"
        },
        {
          "output_type": "stream",
          "text": [
            "\n",
            "Test set: Average loss: 0.0289, Accuracy: 9924/10000 (99.24%)\n",
            "\n",
            "EPOCH: 7\n"
          ],
          "name": "stdout"
        },
        {
          "output_type": "stream",
          "text": [
            "Loss=0.06419593840837479 Batch_id=937 Accuracy=98.95: 100%|██████████| 938/938 [01:39<00:00,  9.43it/s]\n",
            "Loss=0.007935755886137486 Batch_id=0 Accuracy=100.00:   0%|          | 1/938 [00:00<01:37,  9.65it/s]"
          ],
          "name": "stderr"
        },
        {
          "output_type": "stream",
          "text": [
            "\n",
            "Test set: Average loss: 0.0279, Accuracy: 9923/10000 (99.23%)\n",
            "\n",
            "EPOCH: 8\n"
          ],
          "name": "stdout"
        },
        {
          "output_type": "stream",
          "text": [
            "Loss=0.14014938473701477 Batch_id=937 Accuracy=98.99: 100%|██████████| 938/938 [01:39<00:00,  9.41it/s]\n",
            "Loss=0.024152381345629692 Batch_id=0 Accuracy=100.00:   0%|          | 1/938 [00:00<01:38,  9.48it/s]"
          ],
          "name": "stderr"
        },
        {
          "output_type": "stream",
          "text": [
            "\n",
            "Test set: Average loss: 0.0272, Accuracy: 9919/10000 (99.19%)\n",
            "\n",
            "EPOCH: 9\n"
          ],
          "name": "stdout"
        },
        {
          "output_type": "stream",
          "text": [
            "Loss=0.019347932189702988 Batch_id=937 Accuracy=99.06: 100%|██████████| 938/938 [01:40<00:00,  9.29it/s]\n",
            "Loss=0.010933099314570427 Batch_id=0 Accuracy=100.00:   0%|          | 1/938 [00:00<01:39,  9.43it/s]"
          ],
          "name": "stderr"
        },
        {
          "output_type": "stream",
          "text": [
            "\n",
            "Test set: Average loss: 0.0237, Accuracy: 9934/10000 (99.34%)\n",
            "\n",
            "EPOCH: 10\n"
          ],
          "name": "stdout"
        },
        {
          "output_type": "stream",
          "text": [
            "Loss=0.02732217125594616 Batch_id=937 Accuracy=99.08: 100%|██████████| 938/938 [01:40<00:00,  9.36it/s]\n",
            "Loss=0.02313041314482689 Batch_id=0 Accuracy=100.00:   0%|          | 1/938 [00:00<01:37,  9.60it/s]"
          ],
          "name": "stderr"
        },
        {
          "output_type": "stream",
          "text": [
            "\n",
            "Test set: Average loss: 0.0259, Accuracy: 9924/10000 (99.24%)\n",
            "\n",
            "EPOCH: 11\n"
          ],
          "name": "stdout"
        },
        {
          "output_type": "stream",
          "text": [
            "Loss=0.02433713898062706 Batch_id=937 Accuracy=99.13: 100%|██████████| 938/938 [01:39<00:00,  9.41it/s]\n",
            "Loss=0.020778469741344452 Batch_id=0 Accuracy=100.00:   0%|          | 1/938 [00:00<01:39,  9.41it/s]"
          ],
          "name": "stderr"
        },
        {
          "output_type": "stream",
          "text": [
            "\n",
            "Test set: Average loss: 0.0259, Accuracy: 9926/10000 (99.26%)\n",
            "\n",
            "EPOCH: 12\n"
          ],
          "name": "stdout"
        },
        {
          "output_type": "stream",
          "text": [
            "Loss=0.012535534799098969 Batch_id=937 Accuracy=99.22: 100%|██████████| 938/938 [01:40<00:00,  9.36it/s]\n",
            "Loss=0.0189824141561985 Batch_id=0 Accuracy=100.00:   0%|          | 1/938 [00:00<01:41,  9.27it/s]"
          ],
          "name": "stderr"
        },
        {
          "output_type": "stream",
          "text": [
            "\n",
            "Test set: Average loss: 0.0215, Accuracy: 9932/10000 (99.32%)\n",
            "\n",
            "EPOCH: 13\n"
          ],
          "name": "stdout"
        },
        {
          "output_type": "stream",
          "text": [
            "Loss=0.008252596482634544 Batch_id=937 Accuracy=99.21: 100%|██████████| 938/938 [01:39<00:00,  9.40it/s]\n",
            "Loss=0.012672471813857555 Batch_id=0 Accuracy=100.00:   0%|          | 1/938 [00:00<01:35,  9.82it/s]"
          ],
          "name": "stderr"
        },
        {
          "output_type": "stream",
          "text": [
            "\n",
            "Test set: Average loss: 0.0213, Accuracy: 9941/10000 (99.41%)\n",
            "\n",
            "EPOCH: 14\n"
          ],
          "name": "stdout"
        },
        {
          "output_type": "stream",
          "text": [
            "Loss=0.05772658437490463 Batch_id=937 Accuracy=99.22: 100%|██████████| 938/938 [01:39<00:00,  9.41it/s]\n"
          ],
          "name": "stderr"
        },
        {
          "output_type": "stream",
          "text": [
            "\n",
            "Test set: Average loss: 0.0264, Accuracy: 9923/10000 (99.23%)\n",
            "\n"
          ],
          "name": "stdout"
        }
      ]
    },
    {
      "cell_type": "code",
      "metadata": {
        "id": "yetxoP-Q46ua"
      },
      "source": [
        ""
      ],
      "execution_count": 8,
      "outputs": []
    }
  ]
}