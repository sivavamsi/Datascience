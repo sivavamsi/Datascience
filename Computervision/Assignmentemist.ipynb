{
  "nbformat": 4,
  "nbformat_minor": 0,
  "metadata": {
    "colab": {
      "name": "Assignmentemist.ipynb",
      "provenance": [],
      "collapsed_sections": []
    },
    "kernelspec": {
      "name": "python3",
      "display_name": "Python 3"
    },
    "accelerator": "GPU"
  },
  "cells": [
    {
      "cell_type": "code",
      "metadata": {
        "id": "m1T0daVmEv76"
      },
      "source": [
        "import torch \r\n",
        "from torch import nn ,optim\r\n",
        "from torch.nn import functional as F\r\n",
        "from torchvision import datasets, transforms\r\n",
        "%matplotlib inline\r\n",
        "import matplotlib.pyplot as plt"
      ],
      "execution_count": 1,
      "outputs": []
    },
    {
      "cell_type": "code",
      "metadata": {
        "id": "yo4mW9-9FDJP"
      },
      "source": [
        "\r\n",
        "#Normalizing the data and transforming to tensor\r\n",
        "transform = transforms.Compose([transforms.ToTensor(),\r\n",
        "                                transforms.Normalize((0.5,),(0.5,)),\r\n",
        "                                ])\r\n",
        "#Downloading the train data and test data\r\n",
        "trainset = datasets.EMNIST(\"~/.pytorch/EMNIST_data/\",download =True,train=True,transform=transform,split=\"byclass\")\r\n",
        "testset = datasets.EMNIST(\"~/.pytorch/EMNIST_data/\",download=True,train=False,transform=transform,split = \"byclass\")\r\n",
        "\r\n"
      ],
      "execution_count": 4,
      "outputs": []
    },
    {
      "cell_type": "code",
      "metadata": {
        "colab": {
          "base_uri": "https://localhost:8080/"
        },
        "id": "UlBwNDKlI_Fn",
        "outputId": "b6b03c60-4f4e-486e-d8b0-1422d677ea82"
      },
      "source": [
        "print(trainset.classes)"
      ],
      "execution_count": 5,
      "outputs": [
        {
          "output_type": "stream",
          "text": [
            "['d', 'O', 'g', 'C', '0', 'f', 'n', 'J', '4', '9', 'U', 'R', 'B', 'c', 'w', 'Q', 'K', '7', '5', 'L', 'W', 's', 'H', 'Y', 'E', 'M', 'z', 'x', 'F', 'k', 'G', '6', 'N', '2', 'D', 'P', 'i', 'o', 'y', 'I', 'q', 'A', '1', 'r', 'b', 'Z', 'a', 'h', 'm', 'v', '8', 'S', 'V', 'X', 'u', '3', 't', 'T', 'l', 'j', 'e', 'p']\n"
          ],
          "name": "stdout"
        }
      ]
    },
    {
      "cell_type": "code",
      "metadata": {
        "colab": {
          "base_uri": "https://localhost:8080/"
        },
        "id": "4M6zy-NEJeRx",
        "outputId": "4bb7ada8-6cd8-4068-a8d1-476d6b76e491"
      },
      "source": [
        "len(trainset.classes)"
      ],
      "execution_count": 6,
      "outputs": [
        {
          "output_type": "execute_result",
          "data": {
            "text/plain": [
              "62"
            ]
          },
          "metadata": {
            "tags": []
          },
          "execution_count": 6
        }
      ]
    },
    {
      "cell_type": "code",
      "metadata": {
        "colab": {
          "base_uri": "https://localhost:8080/"
        },
        "id": "4fX1nFWgJwDk",
        "outputId": "7cae5fc1-641f-4b45-a5e9-a5b2d7950e72"
      },
      "source": [
        "trainset"
      ],
      "execution_count": 7,
      "outputs": [
        {
          "output_type": "execute_result",
          "data": {
            "text/plain": [
              "Dataset EMNIST\n",
              "    Number of datapoints: 697932\n",
              "    Root location: /root/.pytorch/EMNIST_data/\n",
              "    Split: Train\n",
              "    StandardTransform\n",
              "Transform: Compose(\n",
              "               ToTensor()\n",
              "               Normalize(mean=(0.5,), std=(0.5,))\n",
              "           )"
            ]
          },
          "metadata": {
            "tags": []
          },
          "execution_count": 7
        }
      ]
    },
    {
      "cell_type": "code",
      "metadata": {
        "colab": {
          "base_uri": "https://localhost:8080/"
        },
        "id": "QwYPUYW3KBaP",
        "outputId": "3af69a8e-a4fd-475a-b37a-9582c20ed565"
      },
      "source": [
        "class Classifier(nn.Module):\r\n",
        "  def __init__(self):\r\n",
        "    super().__init__() # it track architecture by nn.Module class\r\n",
        "    self.conv1 = nn.Conv2d(in_channels=1, out_channels=10, kernel_size=3  )\r\n",
        "    self.conv2 = nn.Conv2d(in_channels=10, out_channels=10, kernel_size=3  )\r\n",
        "    self.pool = nn.MaxPool2d(2, 2)\r\n",
        "    self.conv3 = nn.Conv2d(in_channels=10, out_channels=20, kernel_size=3  )\r\n",
        "    self.conv4 = nn.Conv2d(in_channels=20, out_channels=20, kernel_size=3  )\r\n",
        "    self.conv5 = nn.Conv2d(in_channels=20, out_channels=30, kernel_size=3  )\r\n",
        "    self.conv6 = nn.Conv2d(in_channels=30, out_channels=62, kernel_size=3  )\r\n",
        "    self.gap = nn.AvgPool2d(kernel_size=4)\r\n",
        "  def forward(self,x):\r\n",
        "    x = self.conv1(x)\r\n",
        "    x = F.relu(self.conv2(x))\r\n",
        "    x = self.pool(x)\r\n",
        "    x = F.relu(self.conv3(x))\r\n",
        "    x = F.relu(self.conv4(x))\r\n",
        "    x = F.relu(self.conv5(x))\r\n",
        "    x = F.relu(self.conv6(x))\r\n",
        "    x = self.gap(x)\r\n",
        "    x = F.log_softmax(x.view(-1,62), dim=1)\r\n",
        "    return x\r\n",
        "\r\n",
        "from torchsummary import summary\r\n",
        "use_cuda = torch.cuda.is_available()\r\n",
        "device = torch.device(\"cuda\" if use_cuda else \"cpu\")\r\n",
        "model = Classifier().to(device)\r\n",
        "summary(model, input_size=(1, 28, 28))\r\n",
        "\r\n",
        "# below layers are explained nothing but Conv2d-1  is [-1, 10, 26, 26] is-1 is nothing but batchsize 10 is neurons or channels or kernals , 26, 26 nothing but receptive fields\r\n",
        "# 100 means 100 trainable parameters like that so on......"
      ],
      "execution_count": 9,
      "outputs": [
        {
          "output_type": "stream",
          "text": [
            "----------------------------------------------------------------\n",
            "        Layer (type)               Output Shape         Param #\n",
            "================================================================\n",
            "            Conv2d-1           [-1, 10, 26, 26]             100\n",
            "            Conv2d-2           [-1, 10, 24, 24]             910\n",
            "         MaxPool2d-3           [-1, 10, 12, 12]               0\n",
            "            Conv2d-4           [-1, 20, 10, 10]           1,820\n",
            "            Conv2d-5             [-1, 20, 8, 8]           3,620\n",
            "            Conv2d-6             [-1, 30, 6, 6]           5,430\n",
            "            Conv2d-7             [-1, 62, 4, 4]          16,802\n",
            "         AvgPool2d-8             [-1, 62, 1, 1]               0\n",
            "================================================================\n",
            "Total params: 28,682\n",
            "Trainable params: 28,682\n",
            "Non-trainable params: 0\n",
            "----------------------------------------------------------------\n",
            "Input size (MB): 0.00\n",
            "Forward/backward pass size (MB): 0.15\n",
            "Params size (MB): 0.11\n",
            "Estimated Total Size (MB): 0.26\n",
            "----------------------------------------------------------------\n"
          ],
          "name": "stdout"
        }
      ]
    },
    {
      "cell_type": "code",
      "metadata": {
        "id": "QKA6S3DIYU-4"
      },
      "source": [
        "#Loading the train data and test data\r\n",
        "kwargs = {'num_workers': 1, 'pin_memory': True} if use_cuda else {}\r\n",
        "trainloader = torch.utils.data.DataLoader(trainset,batch_size=64,**kwargs)\r\n",
        "testloader = torch.utils.data.DataLoader(testset,batch_size=64,**kwargs)"
      ],
      "execution_count": 11,
      "outputs": []
    },
    {
      "cell_type": "code",
      "metadata": {
        "id": "whe0xfdaYb89"
      },
      "source": [
        "from tqdm import tqdm\r\n",
        "def train(model, device, train_loader, optimizer, epoch):\r\n",
        "    model.train()\r\n",
        "    pbar = tqdm(train_loader)\r\n",
        "    for batch_idx, (data, target) in enumerate(pbar):\r\n",
        "        data, target = data.to(device), target.to(device)\r\n",
        "        optimizer.zero_grad()\r\n",
        "        output = model(data)\r\n",
        "        loss = F.nll_loss(output, target)\r\n",
        "        loss.backward()\r\n",
        "        optimizer.step()\r\n",
        "        pbar.set_description(desc= f'loss={loss.item()} batch_id={batch_idx}')\r\n",
        "\r\n",
        "\r\n",
        "def test(model, device, test_loader):\r\n",
        "    model.eval()\r\n",
        "    test_loss = 0\r\n",
        "    correct = 0\r\n",
        "    with torch.no_grad():\r\n",
        "        for data, target in test_loader:\r\n",
        "            data, target = data.to(device), target.to(device)\r\n",
        "            output = model(data)\r\n",
        "            test_loss += F.nll_loss(output, target, reduction='sum').item()  # sum up batch loss\r\n",
        "            pred = output.argmax(dim=1, keepdim=True)  # get the index of the max log-probability\r\n",
        "            correct += pred.eq(target.view_as(pred)).sum().item()\r\n",
        "\r\n",
        "    test_loss /= len(test_loader.dataset)\r\n",
        "\r\n",
        "    print('\\nTest set: Average loss: {:.4f}, Accuracy: {}/{} ({:.1f}%)\\n'.format(\r\n",
        "        test_loss, correct, len(test_loader.dataset),\r\n",
        "        100. * correct / len(test_loader.dataset)))"
      ],
      "execution_count": 14,
      "outputs": []
    },
    {
      "cell_type": "code",
      "metadata": {
        "colab": {
          "base_uri": "https://localhost:8080/"
        },
        "id": "mQox0rCnWVBh",
        "outputId": "670b1c01-6c59-4acf-9a84-682fb733cf4d"
      },
      "source": [
        "model = Classifier().to(device)\r\n",
        "optimizer = optim.SGD(model.parameters(), lr=0.01, momentum=0.9)\r\n",
        "\r\n",
        "for epoch in range(1, 20):\r\n",
        "    train(model, device, trainloader, optimizer, epoch)\r\n",
        "    test(model, device, testloader)"
      ],
      "execution_count": 16,
      "outputs": [
        {
          "output_type": "stream",
          "text": [
            "loss=0.3752862215042114 batch_id=10905: 100%|██████████| 10906/10906 [03:03<00:00, 59.38it/s]\n",
            "  0%|          | 0/10906 [00:00<?, ?it/s]"
          ],
          "name": "stderr"
        },
        {
          "output_type": "stream",
          "text": [
            "\n",
            "Test set: Average loss: 0.4684, Accuracy: 97431/116323 (83.8%)\n",
            "\n"
          ],
          "name": "stdout"
        },
        {
          "output_type": "stream",
          "text": [
            "loss=0.26941412687301636 batch_id=10905: 100%|██████████| 10906/10906 [03:02<00:00, 59.89it/s]\n",
            "  0%|          | 0/10906 [00:00<?, ?it/s]"
          ],
          "name": "stderr"
        },
        {
          "output_type": "stream",
          "text": [
            "\n",
            "Test set: Average loss: 0.4348, Accuracy: 98808/116323 (84.9%)\n",
            "\n"
          ],
          "name": "stdout"
        },
        {
          "output_type": "stream",
          "text": [
            "loss=0.24929915368556976 batch_id=10905: 100%|██████████| 10906/10906 [03:05<00:00, 58.69it/s]\n",
            "  0%|          | 0/10906 [00:00<?, ?it/s]"
          ],
          "name": "stderr"
        },
        {
          "output_type": "stream",
          "text": [
            "\n",
            "Test set: Average loss: 0.4160, Accuracy: 99220/116323 (85.3%)\n",
            "\n"
          ],
          "name": "stdout"
        },
        {
          "output_type": "stream",
          "text": [
            "loss=0.22012914717197418 batch_id=10905: 100%|██████████| 10906/10906 [03:01<00:00, 60.20it/s]\n",
            "  0%|          | 0/10906 [00:00<?, ?it/s]"
          ],
          "name": "stderr"
        },
        {
          "output_type": "stream",
          "text": [
            "\n",
            "Test set: Average loss: 0.4060, Accuracy: 99459/116323 (85.5%)\n",
            "\n"
          ],
          "name": "stdout"
        },
        {
          "output_type": "stream",
          "text": [
            "loss=0.22726555168628693 batch_id=10905: 100%|██████████| 10906/10906 [03:00<00:00, 60.30it/s]\n",
            "  0%|          | 0/10906 [00:00<?, ?it/s]"
          ],
          "name": "stderr"
        },
        {
          "output_type": "stream",
          "text": [
            "\n",
            "Test set: Average loss: 0.4000, Accuracy: 99545/116323 (85.6%)\n",
            "\n"
          ],
          "name": "stdout"
        },
        {
          "output_type": "stream",
          "text": [
            "loss=0.2425212860107422 batch_id=10905: 100%|██████████| 10906/10906 [03:05<00:00, 58.95it/s]\n",
            "  0%|          | 0/10906 [00:00<?, ?it/s]"
          ],
          "name": "stderr"
        },
        {
          "output_type": "stream",
          "text": [
            "\n",
            "Test set: Average loss: 0.3972, Accuracy: 99605/116323 (85.6%)\n",
            "\n"
          ],
          "name": "stdout"
        },
        {
          "output_type": "stream",
          "text": [
            "loss=0.22805052995681763 batch_id=10905: 100%|██████████| 10906/10906 [03:09<00:00, 57.51it/s]\n",
            "  0%|          | 0/10906 [00:00<?, ?it/s]"
          ],
          "name": "stderr"
        },
        {
          "output_type": "stream",
          "text": [
            "\n",
            "Test set: Average loss: 0.3949, Accuracy: 99699/116323 (85.7%)\n",
            "\n"
          ],
          "name": "stdout"
        },
        {
          "output_type": "stream",
          "text": [
            "loss=0.21796923875808716 batch_id=10905: 100%|██████████| 10906/10906 [03:10<00:00, 57.29it/s]\n",
            "  0%|          | 0/10906 [00:00<?, ?it/s]"
          ],
          "name": "stderr"
        },
        {
          "output_type": "stream",
          "text": [
            "\n",
            "Test set: Average loss: 0.3930, Accuracy: 99745/116323 (85.7%)\n",
            "\n"
          ],
          "name": "stdout"
        },
        {
          "output_type": "stream",
          "text": [
            "loss=0.23247189819812775 batch_id=10905: 100%|██████████| 10906/10906 [03:12<00:00, 56.68it/s]\n",
            "  0%|          | 0/10906 [00:00<?, ?it/s]"
          ],
          "name": "stderr"
        },
        {
          "output_type": "stream",
          "text": [
            "\n",
            "Test set: Average loss: 0.3912, Accuracy: 99855/116323 (85.8%)\n",
            "\n"
          ],
          "name": "stdout"
        },
        {
          "output_type": "stream",
          "text": [
            "loss=0.21716392040252686 batch_id=10905: 100%|██████████| 10906/10906 [03:09<00:00, 57.65it/s]\n",
            "  0%|          | 0/10906 [00:00<?, ?it/s]"
          ],
          "name": "stderr"
        },
        {
          "output_type": "stream",
          "text": [
            "\n",
            "Test set: Average loss: 0.3899, Accuracy: 99895/116323 (85.9%)\n",
            "\n"
          ],
          "name": "stdout"
        },
        {
          "output_type": "stream",
          "text": [
            "loss=0.2142210602760315 batch_id=10905: 100%|██████████| 10906/10906 [03:11<00:00, 57.03it/s]\n",
            "  0%|          | 0/10906 [00:00<?, ?it/s]"
          ],
          "name": "stderr"
        },
        {
          "output_type": "stream",
          "text": [
            "\n",
            "Test set: Average loss: 0.3889, Accuracy: 99914/116323 (85.9%)\n",
            "\n"
          ],
          "name": "stdout"
        },
        {
          "output_type": "stream",
          "text": [
            "loss=0.23005783557891846 batch_id=10905: 100%|██████████| 10906/10906 [03:09<00:00, 57.68it/s]\n",
            "  0%|          | 0/10906 [00:00<?, ?it/s]"
          ],
          "name": "stderr"
        },
        {
          "output_type": "stream",
          "text": [
            "\n",
            "Test set: Average loss: 0.3879, Accuracy: 99951/116323 (85.9%)\n",
            "\n"
          ],
          "name": "stdout"
        },
        {
          "output_type": "stream",
          "text": [
            "loss=0.21231293678283691 batch_id=10905: 100%|██████████| 10906/10906 [03:08<00:00, 57.72it/s]\n",
            "  0%|          | 0/10906 [00:00<?, ?it/s]"
          ],
          "name": "stderr"
        },
        {
          "output_type": "stream",
          "text": [
            "\n",
            "Test set: Average loss: 0.3883, Accuracy: 99867/116323 (85.9%)\n",
            "\n"
          ],
          "name": "stdout"
        },
        {
          "output_type": "stream",
          "text": [
            "loss=0.2220742106437683 batch_id=10905: 100%|██████████| 10906/10906 [03:09<00:00, 57.51it/s]\n",
            "  0%|          | 0/10906 [00:00<?, ?it/s]"
          ],
          "name": "stderr"
        },
        {
          "output_type": "stream",
          "text": [
            "\n",
            "Test set: Average loss: 0.3905, Accuracy: 99785/116323 (85.8%)\n",
            "\n"
          ],
          "name": "stdout"
        },
        {
          "output_type": "stream",
          "text": [
            "loss=0.20730550587177277 batch_id=10905: 100%|██████████| 10906/10906 [03:05<00:00, 58.72it/s]\n",
            "  0%|          | 0/10906 [00:00<?, ?it/s]"
          ],
          "name": "stderr"
        },
        {
          "output_type": "stream",
          "text": [
            "\n",
            "Test set: Average loss: 0.3902, Accuracy: 99771/116323 (85.8%)\n",
            "\n"
          ],
          "name": "stdout"
        },
        {
          "output_type": "stream",
          "text": [
            "loss=0.22380918264389038 batch_id=10905: 100%|██████████| 10906/10906 [03:04<00:00, 59.03it/s]\n",
            "  0%|          | 0/10906 [00:00<?, ?it/s]"
          ],
          "name": "stderr"
        },
        {
          "output_type": "stream",
          "text": [
            "\n",
            "Test set: Average loss: 0.3875, Accuracy: 99806/116323 (85.8%)\n",
            "\n"
          ],
          "name": "stdout"
        },
        {
          "output_type": "stream",
          "text": [
            "loss=0.21647381782531738 batch_id=10905: 100%|██████████| 10906/10906 [03:00<00:00, 60.32it/s]\n",
            "  0%|          | 0/10906 [00:00<?, ?it/s]"
          ],
          "name": "stderr"
        },
        {
          "output_type": "stream",
          "text": [
            "\n",
            "Test set: Average loss: 0.3888, Accuracy: 99811/116323 (85.8%)\n",
            "\n"
          ],
          "name": "stdout"
        },
        {
          "output_type": "stream",
          "text": [
            "loss=0.2187982052564621 batch_id=10905: 100%|██████████| 10906/10906 [02:59<00:00, 60.90it/s]\n",
            "  0%|          | 0/10906 [00:00<?, ?it/s]"
          ],
          "name": "stderr"
        },
        {
          "output_type": "stream",
          "text": [
            "\n",
            "Test set: Average loss: 0.3864, Accuracy: 99878/116323 (85.9%)\n",
            "\n"
          ],
          "name": "stdout"
        },
        {
          "output_type": "stream",
          "text": [
            "loss=0.2194817215204239 batch_id=10905: 100%|██████████| 10906/10906 [02:59<00:00, 60.64it/s]\n"
          ],
          "name": "stderr"
        },
        {
          "output_type": "stream",
          "text": [
            "\n",
            "Test set: Average loss: 0.3873, Accuracy: 99848/116323 (85.8%)\n",
            "\n"
          ],
          "name": "stdout"
        }
      ]
    },
    {
      "cell_type": "code",
      "metadata": {
        "id": "-alGWHmNXWmt"
      },
      "source": [
        ""
      ],
      "execution_count": null,
      "outputs": []
    }
  ]
}