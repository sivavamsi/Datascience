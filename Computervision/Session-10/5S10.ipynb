{
  "nbformat": 4,
  "nbformat_minor": 0,
  "metadata": {
    "colab": {
      "name": " 5S10.ipynb",
      "provenance": [],
      "collapsed_sections": []
    },
    "kernelspec": {
      "name": "python3",
      "display_name": "Python 3"
    },
    "accelerator": "GPU",
    "widgets": {
      "application/vnd.jupyter.widget-state+json": {
        "f16d93d541cb40bb8e3cc44765a4d39c": {
          "model_module": "@jupyter-widgets/controls",
          "model_name": "HBoxModel",
          "state": {
            "_view_name": "HBoxView",
            "_dom_classes": [],
            "_model_name": "HBoxModel",
            "_view_module": "@jupyter-widgets/controls",
            "_model_module_version": "1.5.0",
            "_view_count": null,
            "_view_module_version": "1.5.0",
            "box_style": "",
            "layout": "IPY_MODEL_740690eceb684a1bbf826c61f10b5441",
            "_model_module": "@jupyter-widgets/controls",
            "children": [
              "IPY_MODEL_6e514bf3ee684079b3f123c15f9172ee",
              "IPY_MODEL_0639e8be85cb43c29ff1dda0b865195c"
            ]
          }
        },
        "740690eceb684a1bbf826c61f10b5441": {
          "model_module": "@jupyter-widgets/base",
          "model_name": "LayoutModel",
          "state": {
            "_view_name": "LayoutView",
            "grid_template_rows": null,
            "right": null,
            "justify_content": null,
            "_view_module": "@jupyter-widgets/base",
            "overflow": null,
            "_model_module_version": "1.2.0",
            "_view_count": null,
            "flex_flow": null,
            "width": null,
            "min_width": null,
            "border": null,
            "align_items": null,
            "bottom": null,
            "_model_module": "@jupyter-widgets/base",
            "top": null,
            "grid_column": null,
            "overflow_y": null,
            "overflow_x": null,
            "grid_auto_flow": null,
            "grid_area": null,
            "grid_template_columns": null,
            "flex": null,
            "_model_name": "LayoutModel",
            "justify_items": null,
            "grid_row": null,
            "max_height": null,
            "align_content": null,
            "visibility": null,
            "align_self": null,
            "height": null,
            "min_height": null,
            "padding": null,
            "grid_auto_rows": null,
            "grid_gap": null,
            "max_width": null,
            "order": null,
            "_view_module_version": "1.2.0",
            "grid_template_areas": null,
            "object_position": null,
            "object_fit": null,
            "grid_auto_columns": null,
            "margin": null,
            "display": null,
            "left": null
          }
        },
        "6e514bf3ee684079b3f123c15f9172ee": {
          "model_module": "@jupyter-widgets/controls",
          "model_name": "FloatProgressModel",
          "state": {
            "_view_name": "ProgressView",
            "style": "IPY_MODEL_3f0ecec04d514b79ac710de92dc39591",
            "_dom_classes": [],
            "description": " 44%",
            "_model_name": "FloatProgressModel",
            "bar_style": "danger",
            "max": 50,
            "_view_module": "@jupyter-widgets/controls",
            "_model_module_version": "1.5.0",
            "value": 22,
            "_view_count": null,
            "_view_module_version": "1.5.0",
            "orientation": "horizontal",
            "min": 0,
            "description_tooltip": null,
            "_model_module": "@jupyter-widgets/controls",
            "layout": "IPY_MODEL_740834e360d14272bd5011949b33faab"
          }
        },
        "0639e8be85cb43c29ff1dda0b865195c": {
          "model_module": "@jupyter-widgets/controls",
          "model_name": "HTMLModel",
          "state": {
            "_view_name": "HTMLView",
            "style": "IPY_MODEL_c47489e8a621447090ea71df7a57a366",
            "_dom_classes": [],
            "description": "",
            "_model_name": "HTMLModel",
            "placeholder": "​",
            "_view_module": "@jupyter-widgets/controls",
            "_model_module_version": "1.5.0",
            "value": " 22/50 [01:21&lt;01:40,  3.58s/it]",
            "_view_count": null,
            "_view_module_version": "1.5.0",
            "description_tooltip": null,
            "_model_module": "@jupyter-widgets/controls",
            "layout": "IPY_MODEL_d17db4bc281640b5a651dd2059403146"
          }
        },
        "3f0ecec04d514b79ac710de92dc39591": {
          "model_module": "@jupyter-widgets/controls",
          "model_name": "ProgressStyleModel",
          "state": {
            "_view_name": "StyleView",
            "_model_name": "ProgressStyleModel",
            "description_width": "initial",
            "_view_module": "@jupyter-widgets/base",
            "_model_module_version": "1.5.0",
            "_view_count": null,
            "_view_module_version": "1.2.0",
            "bar_color": null,
            "_model_module": "@jupyter-widgets/controls"
          }
        },
        "740834e360d14272bd5011949b33faab": {
          "model_module": "@jupyter-widgets/base",
          "model_name": "LayoutModel",
          "state": {
            "_view_name": "LayoutView",
            "grid_template_rows": null,
            "right": null,
            "justify_content": null,
            "_view_module": "@jupyter-widgets/base",
            "overflow": null,
            "_model_module_version": "1.2.0",
            "_view_count": null,
            "flex_flow": null,
            "width": null,
            "min_width": null,
            "border": null,
            "align_items": null,
            "bottom": null,
            "_model_module": "@jupyter-widgets/base",
            "top": null,
            "grid_column": null,
            "overflow_y": null,
            "overflow_x": null,
            "grid_auto_flow": null,
            "grid_area": null,
            "grid_template_columns": null,
            "flex": null,
            "_model_name": "LayoutModel",
            "justify_items": null,
            "grid_row": null,
            "max_height": null,
            "align_content": null,
            "visibility": null,
            "align_self": null,
            "height": null,
            "min_height": null,
            "padding": null,
            "grid_auto_rows": null,
            "grid_gap": null,
            "max_width": null,
            "order": null,
            "_view_module_version": "1.2.0",
            "grid_template_areas": null,
            "object_position": null,
            "object_fit": null,
            "grid_auto_columns": null,
            "margin": null,
            "display": null,
            "left": null
          }
        },
        "c47489e8a621447090ea71df7a57a366": {
          "model_module": "@jupyter-widgets/controls",
          "model_name": "DescriptionStyleModel",
          "state": {
            "_view_name": "StyleView",
            "_model_name": "DescriptionStyleModel",
            "description_width": "",
            "_view_module": "@jupyter-widgets/base",
            "_model_module_version": "1.5.0",
            "_view_count": null,
            "_view_module_version": "1.2.0",
            "_model_module": "@jupyter-widgets/controls"
          }
        },
        "d17db4bc281640b5a651dd2059403146": {
          "model_module": "@jupyter-widgets/base",
          "model_name": "LayoutModel",
          "state": {
            "_view_name": "LayoutView",
            "grid_template_rows": null,
            "right": null,
            "justify_content": null,
            "_view_module": "@jupyter-widgets/base",
            "overflow": null,
            "_model_module_version": "1.2.0",
            "_view_count": null,
            "flex_flow": null,
            "width": null,
            "min_width": null,
            "border": null,
            "align_items": null,
            "bottom": null,
            "_model_module": "@jupyter-widgets/base",
            "top": null,
            "grid_column": null,
            "overflow_y": null,
            "overflow_x": null,
            "grid_auto_flow": null,
            "grid_area": null,
            "grid_template_columns": null,
            "flex": null,
            "_model_name": "LayoutModel",
            "justify_items": null,
            "grid_row": null,
            "max_height": null,
            "align_content": null,
            "visibility": null,
            "align_self": null,
            "height": null,
            "min_height": null,
            "padding": null,
            "grid_auto_rows": null,
            "grid_gap": null,
            "max_width": null,
            "order": null,
            "_view_module_version": "1.2.0",
            "grid_template_areas": null,
            "object_position": null,
            "object_fit": null,
            "grid_auto_columns": null,
            "margin": null,
            "display": null,
            "left": null
          }
        }
      }
    }
  },
  "cells": [
    {
      "cell_type": "code",
      "metadata": {
        "colab": {
          "base_uri": "https://localhost:8080/"
        },
        "id": "GHvLrFjSZu1w",
        "outputId": "17ecc723-80c6-4e11-d51e-566569bd07be"
      },
      "source": [
        "from google.colab import drive\n",
        "drive.mount('/content/drive')\n",
        "#!pip install torch-lr-finder"
      ],
      "execution_count": 2,
      "outputs": [
        {
          "output_type": "stream",
          "text": [
            "Mounted at /content/drive\n"
          ],
          "name": "stdout"
        }
      ]
    },
    {
      "cell_type": "code",
      "metadata": {
        "colab": {
          "base_uri": "https://localhost:8080/"
        },
        "id": "rvmGlPR7Zv2r",
        "outputId": "52217259-6d6b-4e6b-faac-7dc1d2d4270c"
      },
      "source": [
        "cd drive/MyDrive/s6"
      ],
      "execution_count": 2,
      "outputs": [
        {
          "output_type": "stream",
          "text": [
            "/content/drive/MyDrive/s6\n"
          ],
          "name": "stdout"
        }
      ]
    },
    {
      "cell_type": "code",
      "metadata": {
        "colab": {
          "base_uri": "https://localhost:8080/"
        },
        "id": "whOZGVJAZ4Fg",
        "outputId": "b39672a3-4cf2-4df2-d4d5-123c50c67a1e"
      },
      "source": [
        "ls"
      ],
      "execution_count": 3,
      "outputs": [
        {
          "output_type": "stream",
          "text": [
            "ciphresnet1.pt  download.jpg               map.jpg       testing.py   tr.txt\n",
            "ciphresnet2.pt  feedforward.py             metric.json   test.py      utils.py\n",
            "ciphresnet.pt   gbn.py                     model.pt      te.txt\n",
            "\u001b[0m\u001b[01;34mdata\u001b[0m/           gradcamtool.py             \u001b[01;34m__pycache__\u001b[0m/  training.py\n",
            "data.py         incorrect_predictions.png  run.py        train.py\n"
          ],
          "name": "stdout"
        }
      ]
    },
    {
      "cell_type": "code",
      "metadata": {
        "id": "EcJk7dVjy7BA"
      },
      "source": [
        "import torch\r\n",
        "import torch.nn as nn\r\n",
        "from feedforward import ResNet18\r\n",
        "from torchsummary import summary\r\n",
        "from data import Data\r\n",
        "import torch.optim as optim\r\n",
        "from torch_lr_finder import LRFinder\r\n",
        "use_cuda = torch.cuda.is_available()\r\n",
        "device = torch.device(\"cuda\" if use_cuda else \"cpu\")"
      ],
      "execution_count": 4,
      "outputs": []
    },
    {
      "cell_type": "code",
      "metadata": {
        "colab": {
          "base_uri": "https://localhost:8080/"
        },
        "id": "b-BpmOnzPvb6",
        "outputId": "23e48d85-be45-42a0-fbca-dde5b7f39959"
      },
      "source": [
        "trainloader,testloader = Data().CIFAR10()"
      ],
      "execution_count": 5,
      "outputs": [
        {
          "output_type": "stream",
          "text": [
            "Files already downloaded and verified\n",
            "Files already downloaded and verified\n"
          ],
          "name": "stdout"
        }
      ]
    },
    {
      "cell_type": "code",
      "metadata": {
        "colab": {
          "base_uri": "https://localhost:8080/",
          "height": 378,
          "referenced_widgets": [
            "f16d93d541cb40bb8e3cc44765a4d39c",
            "740690eceb684a1bbf826c61f10b5441",
            "6e514bf3ee684079b3f123c15f9172ee",
            "0639e8be85cb43c29ff1dda0b865195c",
            "3f0ecec04d514b79ac710de92dc39591",
            "740834e360d14272bd5011949b33faab",
            "c47489e8a621447090ea71df7a57a366",
            "d17db4bc281640b5a651dd2059403146"
          ]
        },
        "id": "MpZndZHbYVd4",
        "outputId": "4dc362ce-2c28-44d6-f6c3-ecb5ab857739"
      },
      "source": [
        "model = ResNet18().to(device)\r\n",
        "# summary(model, input_size=(3, 32, 32))\r\n",
        "criterion = nn.CrossEntropyLoss()\r\n",
        "optimizer = optim.SGD(model.parameters(), lr=0.01, momentum=0.9)\r\n",
        "lr_finder = LRFinder(model, optimizer, criterion, device=\"cuda\")\r\n",
        "lr_finder.range_test(trainloader,testloader, end_lr=1, num_iter=50)\r\n",
        "lr_finder.plot(log_lr=False)\r\n",
        "lr_finder.reset()"
      ],
      "execution_count": 6,
      "outputs": [
        {
          "output_type": "display_data",
          "data": {
            "application/vnd.jupyter.widget-view+json": {
              "model_id": "f16d93d541cb40bb8e3cc44765a4d39c",
              "version_minor": 0,
              "version_major": 2
            },
            "text/plain": [
              "HBox(children=(FloatProgress(value=0.0, max=50.0), HTML(value='')))"
            ]
          },
          "metadata": {
            "tags": []
          }
        },
        {
          "output_type": "stream",
          "text": [
            "Stopping early, the loss has diverged\n",
            "Learning rate search finished. See the graph with {finder_name}.plot()\n",
            "LR suggestion: steepest gradient\n",
            "Suggested LR: 3.09E-02\n"
          ],
          "name": "stdout"
        },
        {
          "output_type": "display_data",
          "data": {
            "image/png": "[encoded data removed]",
            "text/plain": [
              "<Figure size 432x288 with 1 Axes>"
            ]
          },
          "metadata": {
            "tags": [],
            "needs_background": "light"
          }
        }
      ]
    },
    {
      "cell_type": "code",
      "metadata": {
        "id": "vS3qTRe_sDFR",
        "colab": {
          "base_uri": "https://localhost:8080/"
        },
        "outputId": "1d0ad496-5051-4866-d8d1-0cf3130635fd"
      },
      "source": [
        "from run import run\r\n",
        "tr,te=run(50,\"ciph.pt\",lr = 3.09E-02)"
      ],
      "execution_count": 7,
      "outputs": [
        {
          "output_type": "stream",
          "text": [
            "Files already downloaded and verified\n",
            "Files already downloaded and verified\n"
          ],
          "name": "stdout"
        },
        {
          "output_type": "stream",
          "text": [
            "\r  0%|          | 0/391 [00:00<?, ?it/s]"
          ],
          "name": "stderr"
        },
        {
          "output_type": "stream",
          "text": [
            "\n",
            "Epoch: 1\n"
          ],
          "name": "stdout"
        },
        {
          "output_type": "stream",
          "text": [
            "100%|██████████| 391/391 [00:56<00:00,  6.98it/s]\n",
            "100%|██████████| 100/100 [00:03<00:00, 27.58it/s]\n"
          ],
          "name": "stderr"
        },
        {
          "output_type": "stream",
          "text": [
            "\n",
            "Epoch: 1\n",
            "\t Train set: Average loss: 1.7055951420913267, Accuracy: 37.212%\n",
            "\n",
            "\tTest set: Average loss: 1.995473643541336, Accuracy: 31.4%\n"
          ],
          "name": "stdout"
        },
        {
          "output_type": "stream",
          "text": [
            "\r  0%|          | 0/391 [00:00<?, ?it/s]"
          ],
          "name": "stderr"
        },
        {
          "output_type": "stream",
          "text": [
            "\n",
            "Epoch: 2\n"
          ],
          "name": "stdout"
        },
        {
          "output_type": "stream",
          "text": [
            "100%|██████████| 391/391 [00:56<00:00,  6.95it/s]\n",
            "100%|██████████| 100/100 [00:03<00:00, 27.55it/s]\n"
          ],
          "name": "stderr"
        },
        {
          "output_type": "stream",
          "text": [
            "\n",
            "Epoch: 2\n",
            "\t Train set: Average loss: 1.3049568279320016, Accuracy: 52.358%\n",
            "\n",
            "\tTest set: Average loss: 1.3959651517868041, Accuracy: 50.4%\n"
          ],
          "name": "stdout"
        },
        {
          "output_type": "stream",
          "text": [
            "\r  0%|          | 0/391 [00:00<?, ?it/s]"
          ],
          "name": "stderr"
        },
        {
          "output_type": "stream",
          "text": [
            "\n",
            "Epoch: 3\n"
          ],
          "name": "stdout"
        },
        {
          "output_type": "stream",
          "text": [
            "100%|██████████| 391/391 [00:56<00:00,  6.95it/s]\n",
            "100%|██████████| 100/100 [00:03<00:00, 27.19it/s]\n",
            "  0%|          | 0/391 [00:00<?, ?it/s]"
          ],
          "name": "stderr"
        },
        {
          "output_type": "stream",
          "text": [
            "\n",
            "Epoch: 3\n",
            "\t Train set: Average loss: 1.0795738736686804, Accuracy: 61.208%\n",
            "\n",
            "\tTest set: Average loss: 1.4239845299720764, Accuracy: 50.22%\n",
            "\n",
            "Epoch: 4\n"
          ],
          "name": "stdout"
        },
        {
          "output_type": "stream",
          "text": [
            "100%|██████████| 391/391 [00:56<00:00,  6.95it/s]\n",
            "100%|██████████| 100/100 [00:03<00:00, 27.67it/s]\n"
          ],
          "name": "stderr"
        },
        {
          "output_type": "stream",
          "text": [
            "\n",
            "Epoch: 4\n",
            "\t Train set: Average loss: 0.9408968057473908, Accuracy: 66.216%\n",
            "\n",
            "\tTest set: Average loss: 1.4170099627971648, Accuracy: 51.59%\n"
          ],
          "name": "stdout"
        },
        {
          "output_type": "stream",
          "text": [
            "\r  0%|          | 0/391 [00:00<?, ?it/s]"
          ],
          "name": "stderr"
        },
        {
          "output_type": "stream",
          "text": [
            "\n",
            "Epoch: 5\n"
          ],
          "name": "stdout"
        },
        {
          "output_type": "stream",
          "text": [
            "100%|██████████| 391/391 [00:56<00:00,  6.95it/s]\n",
            "100%|██████████| 100/100 [00:03<00:00, 27.94it/s]\n"
          ],
          "name": "stderr"
        },
        {
          "output_type": "stream",
          "text": [
            "\n",
            "Epoch: 5\n",
            "\t Train set: Average loss: 0.8393335346980473, Accuracy: 70.12%\n",
            "\n",
            "\tTest set: Average loss: 0.9446198904514312, Accuracy: 67.43%\n"
          ],
          "name": "stdout"
        },
        {
          "output_type": "stream",
          "text": [
            "\r  0%|          | 0/391 [00:00<?, ?it/s]"
          ],
          "name": "stderr"
        },
        {
          "output_type": "stream",
          "text": [
            "\n",
            "Epoch: 6\n"
          ],
          "name": "stdout"
        },
        {
          "output_type": "stream",
          "text": [
            "100%|██████████| 391/391 [00:56<00:00,  6.95it/s]\n",
            "100%|██████████| 100/100 [00:03<00:00, 27.50it/s]\n"
          ],
          "name": "stderr"
        },
        {
          "output_type": "stream",
          "text": [
            "\n",
            "Epoch: 6\n",
            "\t Train set: Average loss: 0.7660118654713302, Accuracy: 72.75%\n",
            "\n",
            "\tTest set: Average loss: 0.9347131067514419, Accuracy: 68.97%\n"
          ],
          "name": "stdout"
        },
        {
          "output_type": "stream",
          "text": [
            "\r  0%|          | 0/391 [00:00<?, ?it/s]"
          ],
          "name": "stderr"
        },
        {
          "output_type": "stream",
          "text": [
            "\n",
            "Epoch: 7\n"
          ],
          "name": "stdout"
        },
        {
          "output_type": "stream",
          "text": [
            "100%|██████████| 391/391 [00:56<00:00,  6.96it/s]\n",
            "100%|██████████| 100/100 [00:03<00:00, 27.42it/s]\n",
            "  0%|          | 0/391 [00:00<?, ?it/s]"
          ],
          "name": "stderr"
        },
        {
          "output_type": "stream",
          "text": [
            "\n",
            "Epoch: 7\n",
            "\t Train set: Average loss: 0.7014057583668653, Accuracy: 75.12%\n",
            "\n",
            "\tTest set: Average loss: 1.1170159929990768, Accuracy: 63.13%\n",
            "\n",
            "Epoch: 8\n"
          ],
          "name": "stdout"
        },
        {
          "output_type": "stream",
          "text": [
            "100%|██████████| 391/391 [00:56<00:00,  6.96it/s]\n",
            "100%|██████████| 100/100 [00:03<00:00, 28.06it/s]\n",
            "  0%|          | 0/391 [00:00<?, ?it/s]"
          ],
          "name": "stderr"
        },
        {
          "output_type": "stream",
          "text": [
            "\n",
            "Epoch: 8\n",
            "\t Train set: Average loss: 0.6501019103142917, Accuracy: 76.852%\n",
            "\n",
            "\tTest set: Average loss: 1.1543763029575347, Accuracy: 62.65%\n",
            "\n",
            "Epoch: 9\n"
          ],
          "name": "stdout"
        },
        {
          "output_type": "stream",
          "text": [
            "100%|██████████| 391/391 [00:56<00:00,  6.95it/s]\n",
            "100%|██████████| 100/100 [00:03<00:00, 27.96it/s]\n",
            "  0%|          | 0/391 [00:00<?, ?it/s]"
          ],
          "name": "stderr"
        },
        {
          "output_type": "stream",
          "text": [
            "\n",
            "Epoch: 9\n",
            "\t Train set: Average loss: 0.6072248591638892, Accuracy: 78.742%\n",
            "\n",
            "\tTest set: Average loss: 1.04185511469841, Accuracy: 66.64%\n",
            "\n",
            "Epoch: 10\n"
          ],
          "name": "stdout"
        },
        {
          "output_type": "stream",
          "text": [
            "100%|██████████| 391/391 [00:56<00:00,  6.97it/s]\n",
            "100%|██████████| 100/100 [00:03<00:00, 28.05it/s]\n"
          ],
          "name": "stderr"
        },
        {
          "output_type": "stream",
          "text": [
            "\n",
            "Epoch: 10\n",
            "\t Train set: Average loss: 0.5666065036945636, Accuracy: 80.004%\n",
            "\n",
            "\tTest set: Average loss: 0.8186516362428665, Accuracy: 73.24%\n"
          ],
          "name": "stdout"
        },
        {
          "output_type": "stream",
          "text": [
            "\r  0%|          | 0/391 [00:00<?, ?it/s]"
          ],
          "name": "stderr"
        },
        {
          "output_type": "stream",
          "text": [
            "\n",
            "Epoch: 11\n"
          ],
          "name": "stdout"
        },
        {
          "output_type": "stream",
          "text": [
            "100%|██████████| 391/391 [00:56<00:00,  6.96it/s]\n",
            "100%|██████████| 100/100 [00:03<00:00, 27.77it/s]\n"
          ],
          "name": "stderr"
        },
        {
          "output_type": "stream",
          "text": [
            "\n",
            "Epoch: 11\n",
            "\t Train set: Average loss: 0.537868182067676, Accuracy: 80.916%\n",
            "\n",
            "\tTest set: Average loss: 0.7016994103789329, Accuracy: 76.24%\n"
          ],
          "name": "stdout"
        },
        {
          "output_type": "stream",
          "text": [
            "\r  0%|          | 0/391 [00:00<?, ?it/s]"
          ],
          "name": "stderr"
        },
        {
          "output_type": "stream",
          "text": [
            "\n",
            "Epoch: 12\n"
          ],
          "name": "stdout"
        },
        {
          "output_type": "stream",
          "text": [
            "100%|██████████| 391/391 [00:56<00:00,  6.93it/s]\n",
            "100%|██████████| 100/100 [00:03<00:00, 27.58it/s]\n"
          ],
          "name": "stderr"
        },
        {
          "output_type": "stream",
          "text": [
            "\n",
            "Epoch: 12\n",
            "\t Train set: Average loss: 0.5097934555672013, Accuracy: 82.092%\n",
            "\n",
            "\tTest set: Average loss: 0.580396021604538, Accuracy: 80.38%\n"
          ],
          "name": "stdout"
        },
        {
          "output_type": "stream",
          "text": [
            "\r  0%|          | 0/391 [00:00<?, ?it/s]"
          ],
          "name": "stderr"
        },
        {
          "output_type": "stream",
          "text": [
            "\n",
            "Epoch: 13\n"
          ],
          "name": "stdout"
        },
        {
          "output_type": "stream",
          "text": [
            "100%|██████████| 391/391 [00:56<00:00,  6.97it/s]\n",
            "100%|██████████| 100/100 [00:03<00:00, 27.68it/s]\n",
            "  0%|          | 0/391 [00:00<?, ?it/s]"
          ],
          "name": "stderr"
        },
        {
          "output_type": "stream",
          "text": [
            "\n",
            "Epoch: 13\n",
            "\t Train set: Average loss: 0.48493046307807686, Accuracy: 82.916%\n",
            "\n",
            "\tTest set: Average loss: 0.6584092101454735, Accuracy: 77.85%\n",
            "\n",
            "Epoch: 14\n"
          ],
          "name": "stdout"
        },
        {
          "output_type": "stream",
          "text": [
            "100%|██████████| 391/391 [00:56<00:00,  6.97it/s]\n",
            "100%|██████████| 100/100 [00:03<00:00, 27.47it/s]\n",
            "  0%|          | 0/391 [00:00<?, ?it/s]"
          ],
          "name": "stderr"
        },
        {
          "output_type": "stream",
          "text": [
            "\n",
            "Epoch: 14\n",
            "\t Train set: Average loss: 0.46492368424944863, Accuracy: 83.868%\n",
            "\n",
            "\tTest set: Average loss: 0.6569354087114334, Accuracy: 77.74%\n",
            "\n",
            "Epoch: 15\n"
          ],
          "name": "stdout"
        },
        {
          "output_type": "stream",
          "text": [
            "100%|██████████| 391/391 [00:56<00:00,  6.97it/s]\n",
            "100%|██████████| 100/100 [00:03<00:00, 27.23it/s]\n",
            "  0%|          | 0/391 [00:00<?, ?it/s]"
          ],
          "name": "stderr"
        },
        {
          "output_type": "stream",
          "text": [
            "\n",
            "Epoch: 15\n",
            "\t Train set: Average loss: 0.44213354198828986, Accuracy: 84.48%\n",
            "\n",
            "\tTest set: Average loss: 0.7381043776869773, Accuracy: 75.6%\n",
            "\n",
            "Epoch: 16\n"
          ],
          "name": "stdout"
        },
        {
          "output_type": "stream",
          "text": [
            "100%|██████████| 391/391 [00:56<00:00,  6.95it/s]\n",
            "100%|██████████| 100/100 [00:03<00:00, 27.96it/s]\n",
            "  0%|          | 0/391 [00:00<?, ?it/s]"
          ],
          "name": "stderr"
        },
        {
          "output_type": "stream",
          "text": [
            "\n",
            "Epoch: 16\n",
            "\t Train set: Average loss: 0.4333810621820143, Accuracy: 84.716%\n",
            "\n",
            "\tTest set: Average loss: 0.5975396385788918, Accuracy: 79.83%\n",
            "\n",
            "Epoch: 17\n"
          ],
          "name": "stdout"
        },
        {
          "output_type": "stream",
          "text": [
            "100%|██████████| 391/391 [00:56<00:00,  6.96it/s]\n",
            "100%|██████████| 100/100 [00:03<00:00, 27.96it/s]\n",
            "  0%|          | 0/391 [00:00<?, ?it/s]"
          ],
          "name": "stderr"
        },
        {
          "output_type": "stream",
          "text": [
            "\n",
            "Epoch: 17\n",
            "\t Train set: Average loss: 0.41166663074584875, Accuracy: 85.584%\n",
            "\n",
            "\tTest set: Average loss: 0.8171798694133758, Accuracy: 72.4%\n",
            "\n",
            "Epoch: 18\n"
          ],
          "name": "stdout"
        },
        {
          "output_type": "stream",
          "text": [
            "100%|██████████| 391/391 [00:56<00:00,  6.97it/s]\n",
            "100%|██████████| 100/100 [00:03<00:00, 27.66it/s]\n"
          ],
          "name": "stderr"
        },
        {
          "output_type": "stream",
          "text": [
            "\n",
            "Epoch: 18\n",
            "\t Train set: Average loss: 0.39980894414817586, Accuracy: 86.066%\n",
            "\n",
            "\tTest set: Average loss: 0.5296438151597976, Accuracy: 82.37%\n"
          ],
          "name": "stdout"
        },
        {
          "output_type": "stream",
          "text": [
            "\r  0%|          | 0/391 [00:00<?, ?it/s]"
          ],
          "name": "stderr"
        },
        {
          "output_type": "stream",
          "text": [
            "\n",
            "Epoch: 19\n"
          ],
          "name": "stdout"
        },
        {
          "output_type": "stream",
          "text": [
            "100%|██████████| 391/391 [00:56<00:00,  6.96it/s]\n",
            "100%|██████████| 100/100 [00:03<00:00, 27.53it/s]\n",
            "  0%|          | 0/391 [00:00<?, ?it/s]"
          ],
          "name": "stderr"
        },
        {
          "output_type": "stream",
          "text": [
            "\n",
            "Epoch: 19\n",
            "\t Train set: Average loss: 0.3918154469841277, Accuracy: 86.202%\n",
            "\n",
            "\tTest set: Average loss: 0.6968032050132752, Accuracy: 77.35%\n",
            "\n",
            "Epoch: 20\n"
          ],
          "name": "stdout"
        },
        {
          "output_type": "stream",
          "text": [
            "100%|██████████| 391/391 [00:56<00:00,  6.98it/s]\n",
            "100%|██████████| 100/100 [00:03<00:00, 27.91it/s]\n",
            "  0%|          | 0/391 [00:00<?, ?it/s]"
          ],
          "name": "stderr"
        },
        {
          "output_type": "stream",
          "text": [
            "\n",
            "Epoch: 20\n",
            "\t Train set: Average loss: 0.38256527978898314, Accuracy: 86.646%\n",
            "\n",
            "\tTest set: Average loss: 0.6187926715612412, Accuracy: 79.82%\n",
            "\n",
            "Epoch: 21\n"
          ],
          "name": "stdout"
        },
        {
          "output_type": "stream",
          "text": [
            "100%|██████████| 391/391 [00:56<00:00,  6.95it/s]\n",
            "100%|██████████| 100/100 [00:03<00:00, 27.55it/s]\n",
            "  0%|          | 0/391 [00:00<?, ?it/s]"
          ],
          "name": "stderr"
        },
        {
          "output_type": "stream",
          "text": [
            "\n",
            "Epoch: 21\n",
            "\t Train set: Average loss: 0.37511120050612007, Accuracy: 86.956%\n",
            "\n",
            "\tTest set: Average loss: 0.6521493083238602, Accuracy: 78.48%\n",
            "\n",
            "Epoch: 22\n"
          ],
          "name": "stdout"
        },
        {
          "output_type": "stream",
          "text": [
            "100%|██████████| 391/391 [00:56<00:00,  6.96it/s]\n",
            "100%|██████████| 100/100 [00:03<00:00, 27.79it/s]\n",
            "  0%|          | 0/391 [00:00<?, ?it/s]"
          ],
          "name": "stderr"
        },
        {
          "output_type": "stream",
          "text": [
            "\n",
            "Epoch: 22\n",
            "\t Train set: Average loss: 0.35850829255702854, Accuracy: 87.414%\n",
            "\n",
            "\tTest set: Average loss: 0.6146768671274185, Accuracy: 79.18%\n",
            "\n",
            "Epoch: 23\n"
          ],
          "name": "stdout"
        },
        {
          "output_type": "stream",
          "text": [
            "100%|██████████| 391/391 [00:56<00:00,  6.95it/s]\n",
            "100%|██████████| 100/100 [00:03<00:00, 27.57it/s]\n",
            "  0%|          | 0/391 [00:00<?, ?it/s]"
          ],
          "name": "stderr"
        },
        {
          "output_type": "stream",
          "text": [
            "\n",
            "Epoch: 23\n",
            "\t Train set: Average loss: 0.36122646398099184, Accuracy: 87.568%\n",
            "\n",
            "\tTest set: Average loss: 0.6513720431923866, Accuracy: 78.78%\n",
            "\n",
            "Epoch: 24\n"
          ],
          "name": "stdout"
        },
        {
          "output_type": "stream",
          "text": [
            "100%|██████████| 391/391 [00:56<00:00,  6.95it/s]\n",
            "100%|██████████| 100/100 [00:03<00:00, 27.67it/s]\n",
            "  0%|          | 0/391 [00:00<?, ?it/s]"
          ],
          "name": "stderr"
        },
        {
          "output_type": "stream",
          "text": [
            "\n",
            "Epoch: 24\n",
            "\t Train set: Average loss: 0.3509618763042533, Accuracy: 87.848%\n",
            "\n",
            "\tTest set: Average loss: 0.5580306786298752, Accuracy: 81.25%\n",
            "\n",
            "Epoch: 25\n"
          ],
          "name": "stdout"
        },
        {
          "output_type": "stream",
          "text": [
            "100%|██████████| 391/391 [00:56<00:00,  6.95it/s]\n",
            "100%|██████████| 100/100 [00:03<00:00, 27.65it/s]\n",
            "  0%|          | 0/391 [00:00<?, ?it/s]"
          ],
          "name": "stderr"
        },
        {
          "output_type": "stream",
          "text": [
            "\n",
            "Epoch: 25\n",
            "\t Train set: Average loss: 0.34737316730534634, Accuracy: 87.936%\n",
            "\n",
            "\tTest set: Average loss: 0.6794235804677009, Accuracy: 78.28%\n",
            "\n",
            "Epoch: 26\n"
          ],
          "name": "stdout"
        },
        {
          "output_type": "stream",
          "text": [
            "100%|██████████| 391/391 [00:56<00:00,  6.96it/s]\n",
            "100%|██████████| 100/100 [00:03<00:00, 27.88it/s]\n",
            "  0%|          | 0/391 [00:00<?, ?it/s]"
          ],
          "name": "stderr"
        },
        {
          "output_type": "stream",
          "text": [
            "\n",
            "Epoch: 26\n",
            "\t Train set: Average loss: 0.33694755806185095, Accuracy: 88.156%\n",
            "\n",
            "\tTest set: Average loss: 0.5979027697443962, Accuracy: 80.72%\n",
            "\n",
            "Epoch: 27\n"
          ],
          "name": "stdout"
        },
        {
          "output_type": "stream",
          "text": [
            "100%|██████████| 391/391 [00:56<00:00,  6.96it/s]\n",
            "100%|██████████| 100/100 [00:03<00:00, 27.74it/s]\n",
            "  0%|          | 0/391 [00:00<?, ?it/s]"
          ],
          "name": "stderr"
        },
        {
          "output_type": "stream",
          "text": [
            "\n",
            "Epoch: 27\n",
            "\t Train set: Average loss: 0.3367323437157799, Accuracy: 88.458%\n",
            "\n",
            "\tTest set: Average loss: 0.7094695514440537, Accuracy: 78.07%\n",
            "\n",
            "Epoch: 28\n"
          ],
          "name": "stdout"
        },
        {
          "output_type": "stream",
          "text": [
            "100%|██████████| 391/391 [00:56<00:00,  6.96it/s]\n",
            "100%|██████████| 100/100 [00:03<00:00, 27.31it/s]\n",
            "  0%|          | 0/391 [00:00<?, ?it/s]"
          ],
          "name": "stderr"
        },
        {
          "output_type": "stream",
          "text": [
            "\n",
            "Epoch: 28\n",
            "\t Train set: Average loss: 0.334772151030238, Accuracy: 88.348%\n",
            "\n",
            "\tTest set: Average loss: 0.7053094574809075, Accuracy: 78.67%\n",
            "\n",
            "Epoch: 29\n"
          ],
          "name": "stdout"
        },
        {
          "output_type": "stream",
          "text": [
            "100%|██████████| 391/391 [00:56<00:00,  6.97it/s]\n",
            "100%|██████████| 100/100 [00:03<00:00, 27.81it/s]\n",
            "  0%|          | 0/391 [00:00<?, ?it/s]"
          ],
          "name": "stderr"
        },
        {
          "output_type": "stream",
          "text": [
            "\n",
            "Epoch: 29\n",
            "\t Train set: Average loss: 0.3283705746045198, Accuracy: 88.506%\n",
            "\n",
            "\tTest set: Average loss: 0.6006024673581123, Accuracy: 80.62%\n",
            "\n",
            "Epoch: 30\n"
          ],
          "name": "stdout"
        },
        {
          "output_type": "stream",
          "text": [
            "100%|██████████| 391/391 [00:56<00:00,  6.96it/s]\n",
            "100%|██████████| 100/100 [00:03<00:00, 27.99it/s]\n"
          ],
          "name": "stderr"
        },
        {
          "output_type": "stream",
          "text": [
            "\n",
            "Epoch: 30\n",
            "\t Train set: Average loss: 0.2160955248090922, Accuracy: 92.768%\n",
            "\n",
            "\tTest set: Average loss: 0.417808321416378, Accuracy: 86.11%\n"
          ],
          "name": "stdout"
        },
        {
          "output_type": "stream",
          "text": [
            "\r  0%|          | 0/391 [00:00<?, ?it/s]"
          ],
          "name": "stderr"
        },
        {
          "output_type": "stream",
          "text": [
            "\n",
            "Epoch: 31\n"
          ],
          "name": "stdout"
        },
        {
          "output_type": "stream",
          "text": [
            "100%|██████████| 391/391 [00:56<00:00,  6.95it/s]\n",
            "100%|██████████| 100/100 [00:03<00:00, 27.49it/s]\n"
          ],
          "name": "stderr"
        },
        {
          "output_type": "stream",
          "text": [
            "\n",
            "Epoch: 31\n",
            "\t Train set: Average loss: 0.17809464525231314, Accuracy: 94.026%\n",
            "\n",
            "\tTest set: Average loss: 0.4183262002468109, Accuracy: 86.21%\n"
          ],
          "name": "stdout"
        },
        {
          "output_type": "stream",
          "text": [
            "\r  0%|          | 0/391 [00:00<?, ?it/s]"
          ],
          "name": "stderr"
        },
        {
          "output_type": "stream",
          "text": [
            "\n",
            "Epoch: 32\n"
          ],
          "name": "stdout"
        },
        {
          "output_type": "stream",
          "text": [
            "100%|██████████| 391/391 [00:56<00:00,  6.94it/s]\n",
            "100%|██████████| 100/100 [00:03<00:00, 27.63it/s]\n"
          ],
          "name": "stderr"
        },
        {
          "output_type": "stream",
          "text": [
            "\n",
            "Epoch: 32\n",
            "\t Train set: Average loss: 0.16202833187168517, Accuracy: 94.682%\n",
            "\n",
            "\tTest set: Average loss: 0.41039084374904633, Accuracy: 86.68%\n"
          ],
          "name": "stdout"
        },
        {
          "output_type": "stream",
          "text": [
            "\r  0%|          | 0/391 [00:00<?, ?it/s]"
          ],
          "name": "stderr"
        },
        {
          "output_type": "stream",
          "text": [
            "\n",
            "Epoch: 33\n"
          ],
          "name": "stdout"
        },
        {
          "output_type": "stream",
          "text": [
            "100%|██████████| 391/391 [00:56<00:00,  6.95it/s]\n",
            "100%|██████████| 100/100 [00:03<00:00, 27.23it/s]\n"
          ],
          "name": "stderr"
        },
        {
          "output_type": "stream",
          "text": [
            "\n",
            "Epoch: 33\n",
            "\t Train set: Average loss: 0.15412851444462225, Accuracy: 94.91%\n",
            "\n",
            "\tTest set: Average loss: 0.4067451450228691, Accuracy: 86.74%\n"
          ],
          "name": "stdout"
        },
        {
          "output_type": "stream",
          "text": [
            "\r  0%|          | 0/391 [00:00<?, ?it/s]"
          ],
          "name": "stderr"
        },
        {
          "output_type": "stream",
          "text": [
            "\n",
            "Epoch: 34\n"
          ],
          "name": "stdout"
        },
        {
          "output_type": "stream",
          "text": [
            "100%|██████████| 391/391 [00:56<00:00,  6.95it/s]\n",
            "100%|██████████| 100/100 [00:03<00:00, 27.73it/s]\n"
          ],
          "name": "stderr"
        },
        {
          "output_type": "stream",
          "text": [
            "\n",
            "Epoch: 34\n",
            "\t Train set: Average loss: 0.1431716292753549, Accuracy: 95.272%\n",
            "\n",
            "\tTest set: Average loss: 0.39065879747271537, Accuracy: 87.23%\n"
          ],
          "name": "stdout"
        },
        {
          "output_type": "stream",
          "text": [
            "\r  0%|          | 0/391 [00:00<?, ?it/s]"
          ],
          "name": "stderr"
        },
        {
          "output_type": "stream",
          "text": [
            "\n",
            "Epoch: 35\n"
          ],
          "name": "stdout"
        },
        {
          "output_type": "stream",
          "text": [
            "100%|██████████| 391/391 [00:56<00:00,  6.94it/s]\n",
            "100%|██████████| 100/100 [00:03<00:00, 27.97it/s]\n",
            "  0%|          | 0/391 [00:00<?, ?it/s]"
          ],
          "name": "stderr"
        },
        {
          "output_type": "stream",
          "text": [
            "\n",
            "Epoch: 35\n",
            "\t Train set: Average loss: 0.1389388106858639, Accuracy: 95.496%\n",
            "\n",
            "\tTest set: Average loss: 0.42484912753105164, Accuracy: 86.3%\n",
            "\n",
            "Epoch: 36\n"
          ],
          "name": "stdout"
        },
        {
          "output_type": "stream",
          "text": [
            "100%|██████████| 391/391 [00:56<00:00,  6.92it/s]\n",
            "100%|██████████| 100/100 [00:03<00:00, 28.04it/s]\n",
            "  0%|          | 0/391 [00:00<?, ?it/s]"
          ],
          "name": "stderr"
        },
        {
          "output_type": "stream",
          "text": [
            "\n",
            "Epoch: 36\n",
            "\t Train set: Average loss: 0.133077034560006, Accuracy: 95.638%\n",
            "\n",
            "\tTest set: Average loss: 0.41451323345303537, Accuracy: 86.79%\n",
            "\n",
            "Epoch: 37\n"
          ],
          "name": "stdout"
        },
        {
          "output_type": "stream",
          "text": [
            "100%|██████████| 391/391 [00:56<00:00,  6.98it/s]\n",
            "100%|██████████| 100/100 [00:03<00:00, 27.58it/s]\n",
            "  0%|          | 0/391 [00:00<?, ?it/s]"
          ],
          "name": "stderr"
        },
        {
          "output_type": "stream",
          "text": [
            "\n",
            "Epoch: 37\n",
            "\t Train set: Average loss: 0.1289491745002587, Accuracy: 95.716%\n",
            "\n",
            "\tTest set: Average loss: 0.41864693343639375, Accuracy: 86.56%\n",
            "\n",
            "Epoch: 38\n"
          ],
          "name": "stdout"
        },
        {
          "output_type": "stream",
          "text": [
            "100%|██████████| 391/391 [00:56<00:00,  6.94it/s]\n",
            "100%|██████████| 100/100 [00:03<00:00, 26.85it/s]\n"
          ],
          "name": "stderr"
        },
        {
          "output_type": "stream",
          "text": [
            "\n",
            "Epoch: 38\n",
            "\t Train set: Average loss: 0.12300452136475107, Accuracy: 95.942%\n",
            "\n",
            "\tTest set: Average loss: 0.39186408460140226, Accuracy: 87.55%\n"
          ],
          "name": "stdout"
        },
        {
          "output_type": "stream",
          "text": [
            "\r  0%|          | 0/391 [00:00<?, ?it/s]"
          ],
          "name": "stderr"
        },
        {
          "output_type": "stream",
          "text": [
            "\n",
            "Epoch: 39\n"
          ],
          "name": "stdout"
        },
        {
          "output_type": "stream",
          "text": [
            "100%|██████████| 391/391 [00:56<00:00,  6.94it/s]\n",
            "100%|██████████| 100/100 [00:03<00:00, 27.92it/s]\n",
            "  0%|          | 0/391 [00:00<?, ?it/s]"
          ],
          "name": "stderr"
        },
        {
          "output_type": "stream",
          "text": [
            "\n",
            "Epoch: 39\n",
            "\t Train set: Average loss: 0.11974162219659142, Accuracy: 96.05%\n",
            "\n",
            "\tTest set: Average loss: 0.39372377038002015, Accuracy: 87.27%\n",
            "\n",
            "Epoch: 40\n"
          ],
          "name": "stdout"
        },
        {
          "output_type": "stream",
          "text": [
            "100%|██████████| 391/391 [00:56<00:00,  6.96it/s]\n",
            "100%|██████████| 100/100 [00:03<00:00, 27.82it/s]\n",
            "  0%|          | 0/391 [00:00<?, ?it/s]"
          ],
          "name": "stderr"
        },
        {
          "output_type": "stream",
          "text": [
            "\n",
            "Epoch: 40\n",
            "\t Train set: Average loss: 0.1180600061383851, Accuracy: 96.148%\n",
            "\n",
            "\tTest set: Average loss: 0.3938065706193447, Accuracy: 87.36%\n",
            "\n",
            "Epoch: 41\n"
          ],
          "name": "stdout"
        },
        {
          "output_type": "stream",
          "text": [
            "100%|██████████| 391/391 [00:56<00:00,  6.94it/s]\n",
            "100%|██████████| 100/100 [00:03<00:00, 27.96it/s]\n",
            "  0%|          | 0/391 [00:00<?, ?it/s]"
          ],
          "name": "stderr"
        },
        {
          "output_type": "stream",
          "text": [
            "\n",
            "Epoch: 41\n",
            "\t Train set: Average loss: 0.10982972010970116, Accuracy: 96.38%\n",
            "\n",
            "\tTest set: Average loss: 0.39635538041591645, Accuracy: 87.49%\n",
            "\n",
            "Epoch: 42\n"
          ],
          "name": "stdout"
        },
        {
          "output_type": "stream",
          "text": [
            "100%|██████████| 391/391 [00:56<00:00,  6.96it/s]\n",
            "100%|██████████| 100/100 [00:03<00:00, 28.01it/s]\n",
            "  0%|          | 0/391 [00:00<?, ?it/s]"
          ],
          "name": "stderr"
        },
        {
          "output_type": "stream",
          "text": [
            "\n",
            "Epoch: 42\n",
            "\t Train set: Average loss: 0.1118883055389461, Accuracy: 96.314%\n",
            "\n",
            "\tTest set: Average loss: 0.40036282122135164, Accuracy: 87.15%\n",
            "\n",
            "Epoch: 43\n"
          ],
          "name": "stdout"
        },
        {
          "output_type": "stream",
          "text": [
            "100%|██████████| 391/391 [00:56<00:00,  6.95it/s]\n",
            "100%|██████████| 100/100 [00:03<00:00, 27.76it/s]\n",
            "  0%|          | 0/391 [00:00<?, ?it/s]"
          ],
          "name": "stderr"
        },
        {
          "output_type": "stream",
          "text": [
            "\n",
            "Epoch: 43\n",
            "\t Train set: Average loss: 0.10681161068646652, Accuracy: 96.51%\n",
            "\n",
            "\tTest set: Average loss: 0.41345766067504885, Accuracy: 87.15%\n",
            "\n",
            "Epoch: 44\n"
          ],
          "name": "stdout"
        },
        {
          "output_type": "stream",
          "text": [
            "100%|██████████| 391/391 [00:56<00:00,  6.95it/s]\n",
            "100%|██████████| 100/100 [00:03<00:00, 27.56it/s]\n",
            "  0%|          | 0/391 [00:00<?, ?it/s]"
          ],
          "name": "stderr"
        },
        {
          "output_type": "stream",
          "text": [
            "\n",
            "Epoch: 44\n",
            "\t Train set: Average loss: 0.10413925074364828, Accuracy: 96.592%\n",
            "\n",
            "\tTest set: Average loss: 0.42174007326364515, Accuracy: 86.94%\n",
            "\n",
            "Epoch: 45\n"
          ],
          "name": "stdout"
        },
        {
          "output_type": "stream",
          "text": [
            "100%|██████████| 391/391 [00:56<00:00,  6.96it/s]\n",
            "100%|██████████| 100/100 [00:03<00:00, 27.38it/s]\n"
          ],
          "name": "stderr"
        },
        {
          "output_type": "stream",
          "text": [
            "\n",
            "Epoch: 45\n",
            "\t Train set: Average loss: 0.10148687536835366, Accuracy: 96.686%\n",
            "\n",
            "\tTest set: Average loss: 0.3772409549355507, Accuracy: 88.17%\n"
          ],
          "name": "stdout"
        },
        {
          "output_type": "stream",
          "text": [
            "\r  0%|          | 0/391 [00:00<?, ?it/s]"
          ],
          "name": "stderr"
        },
        {
          "output_type": "stream",
          "text": [
            "\n",
            "Epoch: 46\n"
          ],
          "name": "stdout"
        },
        {
          "output_type": "stream",
          "text": [
            "100%|██████████| 391/391 [00:56<00:00,  6.96it/s]\n",
            "100%|██████████| 100/100 [00:03<00:00, 27.96it/s]\n",
            "  0%|          | 0/391 [00:00<?, ?it/s]"
          ],
          "name": "stderr"
        },
        {
          "output_type": "stream",
          "text": [
            "\n",
            "Epoch: 46\n",
            "\t Train set: Average loss: 0.10068860968760669, Accuracy: 96.654%\n",
            "\n",
            "\tTest set: Average loss: 0.3889612184464932, Accuracy: 87.99%\n",
            "\n",
            "Epoch: 47\n"
          ],
          "name": "stdout"
        },
        {
          "output_type": "stream",
          "text": [
            "100%|██████████| 391/391 [00:56<00:00,  6.97it/s]\n",
            "100%|██████████| 100/100 [00:03<00:00, 27.99it/s]\n",
            "  0%|          | 0/391 [00:00<?, ?it/s]"
          ],
          "name": "stderr"
        },
        {
          "output_type": "stream",
          "text": [
            "\n",
            "Epoch: 47\n",
            "\t Train set: Average loss: 0.09663240479119599, Accuracy: 96.784%\n",
            "\n",
            "\tTest set: Average loss: 0.4081547187268734, Accuracy: 87.29%\n",
            "\n",
            "Epoch: 48\n"
          ],
          "name": "stdout"
        },
        {
          "output_type": "stream",
          "text": [
            "100%|██████████| 391/391 [00:56<00:00,  6.96it/s]\n",
            "100%|██████████| 100/100 [00:03<00:00, 27.66it/s]\n",
            "  0%|          | 0/391 [00:00<?, ?it/s]"
          ],
          "name": "stderr"
        },
        {
          "output_type": "stream",
          "text": [
            "\n",
            "Epoch: 48\n",
            "\t Train set: Average loss: 0.09578144324043066, Accuracy: 96.798%\n",
            "\n",
            "\tTest set: Average loss: 0.41074065878987315, Accuracy: 87.23%\n",
            "\n",
            "Epoch: 49\n"
          ],
          "name": "stdout"
        },
        {
          "output_type": "stream",
          "text": [
            "100%|██████████| 391/391 [00:56<00:00,  6.96it/s]\n",
            "100%|██████████| 100/100 [00:03<00:00, 27.62it/s]"
          ],
          "name": "stderr"
        },
        {
          "output_type": "stream",
          "text": [
            "\n",
            "Epoch: 49\n",
            "\t Train set: Average loss: 0.09206944996076624, Accuracy: 96.988%\n",
            "\n",
            "\tTest set: Average loss: 0.43615130871534347, Accuracy: 86.3%\n"
          ],
          "name": "stdout"
        },
        {
          "output_type": "stream",
          "text": [
            "\n"
          ],
          "name": "stderr"
        }
      ]
    },
    {
      "cell_type": "code",
      "metadata": {
        "colab": {
          "base_uri": "https://localhost:8080/",
          "height": 283
        },
        "id": "C7KO6H-1f-Dx",
        "outputId": "394a353c-33a3-4c4f-8dc1-528c0dfd074c"
      },
      "source": [
        "import matplotlib.pyplot as plt \r\n",
        "import numpy as np \r\n",
        "y = [*range(1,len(tr)+1)] \r\n",
        "# plot lines \r\n",
        "plt.plot(y,tr,  label = \"train\") \r\n",
        "plt.plot(y,te, label = \"test\") \r\n",
        "plt.xlabel(\"No. of epochs\")\r\n",
        "plt.ylabel(\"accuracy\")\r\n",
        "plt.legend() \r\n",
        "plt.show()"
      ],
      "execution_count": 8,
      "outputs": [
        {
          "output_type": "display_data",
          "data": {
            "image/png": "[encoded data removed]",
            "text/plain": [
              "<Figure size 432x288 with 1 Axes>"
            ]
          },
          "metadata": {
            "tags": [],
            "needs_background": "light"
          }
        }
      ]
    },
    {
      "cell_type": "code",
      "metadata": {
        "colab": {
          "base_uri": "https://localhost:8080/"
        },
        "id": "qym1tbHJzQy1",
        "outputId": "ae5a2559-46f6-426f-f5db-865f895bfca6"
      },
      "source": [
        "import torch\r\n",
        "checkpoint = torch.load(\"ciph.pt\")\r\n",
        "model = ResNet18().to('cpu')\r\n",
        "model.load_state_dict(checkpoint[\"state-dict\"])"
      ],
      "execution_count": 9,
      "outputs": [
        {
          "output_type": "execute_result",
          "data": {
            "text/plain": [
              "<All keys matched successfully>"
            ]
          },
          "metadata": {
            "tags": []
          },
          "execution_count": 9
        }
      ]
    },
    {
      "cell_type": "code",
      "metadata": {
        "id": "Z73nFRbYVowM"
      },
      "source": [
        "batchdata = iter(testloader)\r\n",
        "c=0\r\n",
        "misclass=[]\r\n",
        "model.eval()\r\n",
        "for i in range(2):\r\n",
        "  img,label=next(batchdata)\r\n",
        "  output = model(img)\r\n",
        "  pred = output.argmax(dim=1, keepdim=True)\r\n",
        "  pred.shape\r\n",
        "  for idx in range(testloader.batch_size):\r\n",
        "    if  pred[idx].item()!=label[idx].item() and c<25:\r\n",
        "      #print(pred[idx].item(),label[idx].item())\r\n",
        "      misclass.append([pred[idx].item(),label[idx].item(),img[idx]])\r\n",
        "      #misclass.update({'pred='+str(pred[idx].item())+'_'+str(c):img[idx]})\r\n",
        "      c=c+1"
      ],
      "execution_count": 10,
      "outputs": []
    },
    {
      "cell_type": "code",
      "metadata": {
        "colab": {
          "base_uri": "https://localhost:8080/",
          "height": 879
        },
        "id": "J6i7LpFVnAUB",
        "outputId": "e815bcaa-208f-4181-8a9c-db30cb0b1dc3"
      },
      "source": [
        "import numpy as np\r\n",
        "import matplotlib.pyplot as plt\r\n",
        "from gradcamtool import gradcam_image\r\n",
        "w = 10\r\n",
        "h = 10\r\n",
        "fig = plt.figure(figsize=(15, 15))\r\n",
        "columns = 5\r\n",
        "rows = 5\r\n",
        "\r\n",
        "# ax enables access to manipulate each of subplots\r\n",
        "ax = []\r\n",
        "\r\n",
        "for i in range(len(misclass)):\r\n",
        "    img = gradcam_image(model,misclass[i][-1],0.9)\r\n",
        "    lab = misclass[i][1]\r\n",
        "    pred = misclass[i][0]\r\n",
        "    \r\n",
        "    # create subplot and append to ax\r\n",
        "    ax.append(fig.add_subplot(rows, columns, i+1) )\r\n",
        "    new_arr = ((img - img.min()) * (1/(img.max() - img.min()) * 255)).astype('uint8')\r\n",
        "    ax[-1].set_title(\"Label : \"+ str(lab) + \" Pred : \" +str(pred) ) # set title\r\n",
        "    plt.imshow(new_arr)\r\n",
        "fig.savefig(f'incorrect.png', bbox_inches='tight')\r\n",
        "plt.show()  # finally, render the plot"
      ],
      "execution_count": 15,
      "outputs": [
        {
          "output_type": "display_data",
          "data": {
            "image/png": "[encoded data removed]",
            "text/plain": [
              "<Figure size 1080x1080 with 23 Axes>"
            ]
          },
          "metadata": {
            "tags": [],
            "needs_background": "light"
          }
        }
      ]
    },
    {
      "cell_type": "code",
      "metadata": {
        "id": "OWYIB64x1HUo"
      },
      "source": [
        "classes = ('plane', 'car', 'bird', 'cat', 'deer','dog', 'frog', 'horse', 'ship', 'truck')"
      ],
      "execution_count": 8,
      "outputs": []
    },
    {
      "cell_type": "code",
      "metadata": {
        "id": "AeKE7UR9F7PM"
      },
      "source": [
        ""
      ],
      "execution_count": null,
      "outputs": []
    }
  ]
}